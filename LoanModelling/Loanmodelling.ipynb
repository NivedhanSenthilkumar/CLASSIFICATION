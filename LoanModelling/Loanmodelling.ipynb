{
 "cells": [
  {
   "cell_type": "markdown",
   "metadata": {},
   "source": [
    "## Table of Content\n",
    "\n",
    "1. **[Import Libraries](#lib)**\n",
    "2. **[Data Preparation](#prep)**\n",
    "    - 2.1 - **[Read the Data](#read)**\n",
    "    - 2.2 - **[Check the Data Type](#dtype)**\n",
    "    - 2.3 - **[Remove Insignificant Variables](#drop)**\n",
    "    - 2.4 - **[Distribution of Variables](#dist)**\n",
    "    - 2.5 - **[Missing Value Treatment](#null)**\n",
    "    - 2.6 - **[Dummy Encode the Categorical Variables](#dummy)**\n",
    "    - 2.7 - **[Scale the Data](#scale)**\n",
    "    - 2.8 - **[Train-Test Split](#split)**\n",
    "3. **[Logistic Regression (Full Model)](#logit)**\n",
    "    - 3.1 - **[Identify the Best Cut-off Value](#cut_off)**\n",
    "        - 3.1.1 - **[Youden's Index](#youden)**\n",
    "        - 3.1.2 - **[Cost-based Method](#cost)**\n",
    "4. **[Recursive Feature Elimination (RFE)](#rfe)**"
   ]
  },
  {
   "cell_type": "markdown",
   "metadata": {},
   "source": [
    "<a id=\"lib\"></a>\n",
    "# 1. Import Libraries"
   ]
  },
  {
   "cell_type": "markdown",
   "metadata": {},
   "source": [
    "**Let us import the required libraries.**"
   ]
  },
  {
   "cell_type": "code",
   "execution_count": 294,
   "metadata": {},
   "outputs": [],
   "source": [
    "# import 'Pandas' \n",
    "import pandas as pd \n",
    "\n",
    "# import 'Numpy' \n",
    "import numpy as np\n",
    "\n",
    "# import subpackage of Matplotlib\n",
    "import matplotlib.pyplot as plt\n",
    "from matplotlib.colors import ListedColormap\n",
    "\n",
    "# import 'Seaborn' \n",
    "import seaborn as sns\n",
    "\n",
    "# to suppress warnings \n",
    "from warnings import filterwarnings\n",
    "filterwarnings('ignore')\n",
    "\n",
    "# display all columns of the dataframe\n",
    "pd.options.display.max_columns = None\n",
    "\n",
    "# display all rows of the dataframe\n",
    "pd.options.display.max_rows = None\n",
    " \n",
    "# to display the float values upto 6 decimal places     \n",
    "pd.options.display.float_format = '{:.6f}'.format\n",
    "\n",
    "# import train-test split \n",
    "from sklearn.model_selection import train_test_split\n",
    "\n",
    "# import various functions from statsmodels\n",
    "import statsmodels\n",
    "import statsmodels.api as sm\n",
    "\n",
    "# import StandardScaler to perform scaling\n",
    "from sklearn.preprocessing import StandardScaler \n",
    "\n",
    "# import various functions from sklearn \n",
    "from sklearn import metrics\n",
    "from sklearn.linear_model import LogisticRegression\n",
    "from sklearn.metrics import classification_report\n",
    "from sklearn.metrics import cohen_kappa_score\n",
    "from sklearn.metrics import confusion_matrix\n",
    "from sklearn.metrics import roc_curve\n",
    "from sklearn.metrics import accuracy_score\n",
    "\n",
    "# import function to perform feature selection\n",
    "from sklearn.feature_selection import RFE"
   ]
  },
  {
   "cell_type": "code",
   "execution_count": 295,
   "metadata": {},
   "outputs": [],
   "source": [
    "# set the plot size using 'rcParams'\n",
    "# once the plot size is set using 'rcParams', it sets the size of all the forthcoming plots in the file\n",
    "# pass width and height in inches to 'figure.figsize' \n",
    "plt.rcParams['figure.figsize'] = [15,8]"
   ]
  },
  {
   "cell_type": "markdown",
   "metadata": {},
   "source": [
    "<a id=\"prep\"></a>\n",
    "# 2. Data Preparation"
   ]
  },
  {
   "cell_type": "markdown",
   "metadata": {},
   "source": [
    "<a id=\"read\"></a>\n",
    "## 2.1 Read the Data"
   ]
  },
  {
   "cell_type": "markdown",
   "metadata": {},
   "source": [
    "#### Read the dataset and print the first five observations."
   ]
  },
  {
   "cell_type": "code",
   "execution_count": 296,
   "metadata": {
    "scrolled": false
   },
   "outputs": [
    {
     "data": {
      "text/html": [
       "<div>\n",
       "<style scoped>\n",
       "    .dataframe tbody tr th:only-of-type {\n",
       "        vertical-align: middle;\n",
       "    }\n",
       "\n",
       "    .dataframe tbody tr th {\n",
       "        vertical-align: top;\n",
       "    }\n",
       "\n",
       "    .dataframe thead th {\n",
       "        text-align: right;\n",
       "    }\n",
       "</style>\n",
       "<table border=\"1\" class=\"dataframe\">\n",
       "  <thead>\n",
       "    <tr style=\"text-align: right;\">\n",
       "      <th></th>\n",
       "      <th>ID</th>\n",
       "      <th>Age</th>\n",
       "      <th>Experience</th>\n",
       "      <th>Income</th>\n",
       "      <th>ZIP Code</th>\n",
       "      <th>Family</th>\n",
       "      <th>CCAvg</th>\n",
       "      <th>Education</th>\n",
       "      <th>Mortgage</th>\n",
       "      <th>Personal Loan</th>\n",
       "      <th>Securities Account</th>\n",
       "      <th>CD Account</th>\n",
       "      <th>Online</th>\n",
       "      <th>CreditCard</th>\n",
       "    </tr>\n",
       "  </thead>\n",
       "  <tbody>\n",
       "    <tr>\n",
       "      <th>0</th>\n",
       "      <td>1</td>\n",
       "      <td>25</td>\n",
       "      <td>1</td>\n",
       "      <td>49</td>\n",
       "      <td>91107</td>\n",
       "      <td>4</td>\n",
       "      <td>1.600000</td>\n",
       "      <td>1</td>\n",
       "      <td>0</td>\n",
       "      <td>0</td>\n",
       "      <td>1</td>\n",
       "      <td>0</td>\n",
       "      <td>0</td>\n",
       "      <td>0</td>\n",
       "    </tr>\n",
       "    <tr>\n",
       "      <th>1</th>\n",
       "      <td>2</td>\n",
       "      <td>45</td>\n",
       "      <td>19</td>\n",
       "      <td>34</td>\n",
       "      <td>90089</td>\n",
       "      <td>3</td>\n",
       "      <td>1.500000</td>\n",
       "      <td>1</td>\n",
       "      <td>0</td>\n",
       "      <td>0</td>\n",
       "      <td>1</td>\n",
       "      <td>0</td>\n",
       "      <td>0</td>\n",
       "      <td>0</td>\n",
       "    </tr>\n",
       "    <tr>\n",
       "      <th>2</th>\n",
       "      <td>3</td>\n",
       "      <td>39</td>\n",
       "      <td>15</td>\n",
       "      <td>11</td>\n",
       "      <td>94720</td>\n",
       "      <td>1</td>\n",
       "      <td>1.000000</td>\n",
       "      <td>1</td>\n",
       "      <td>0</td>\n",
       "      <td>0</td>\n",
       "      <td>0</td>\n",
       "      <td>0</td>\n",
       "      <td>0</td>\n",
       "      <td>0</td>\n",
       "    </tr>\n",
       "    <tr>\n",
       "      <th>3</th>\n",
       "      <td>4</td>\n",
       "      <td>35</td>\n",
       "      <td>9</td>\n",
       "      <td>100</td>\n",
       "      <td>94112</td>\n",
       "      <td>1</td>\n",
       "      <td>2.700000</td>\n",
       "      <td>2</td>\n",
       "      <td>0</td>\n",
       "      <td>0</td>\n",
       "      <td>0</td>\n",
       "      <td>0</td>\n",
       "      <td>0</td>\n",
       "      <td>0</td>\n",
       "    </tr>\n",
       "    <tr>\n",
       "      <th>4</th>\n",
       "      <td>5</td>\n",
       "      <td>35</td>\n",
       "      <td>8</td>\n",
       "      <td>45</td>\n",
       "      <td>91330</td>\n",
       "      <td>4</td>\n",
       "      <td>1.000000</td>\n",
       "      <td>2</td>\n",
       "      <td>0</td>\n",
       "      <td>0</td>\n",
       "      <td>0</td>\n",
       "      <td>0</td>\n",
       "      <td>0</td>\n",
       "      <td>1</td>\n",
       "    </tr>\n",
       "  </tbody>\n",
       "</table>\n",
       "</div>"
      ],
      "text/plain": [
       "   ID  Age  Experience  Income  ZIP Code  Family    CCAvg  Education  \\\n",
       "0   1   25           1      49     91107       4 1.600000          1   \n",
       "1   2   45          19      34     90089       3 1.500000          1   \n",
       "2   3   39          15      11     94720       1 1.000000          1   \n",
       "3   4   35           9     100     94112       1 2.700000          2   \n",
       "4   5   35           8      45     91330       4 1.000000          2   \n",
       "\n",
       "   Mortgage  Personal Loan  Securities Account  CD Account  Online  CreditCard  \n",
       "0         0              0                   1           0       0           0  \n",
       "1         0              0                   1           0       0           0  \n",
       "2         0              0                   0           0       0           0  \n",
       "3         0              0                   0           0       0           0  \n",
       "4         0              0                   0           0       0           1  "
      ]
     },
     "execution_count": 296,
     "metadata": {},
     "output_type": "execute_result"
    }
   ],
   "source": [
    "# load the csv file\n",
    "# store the data in 'df_admissions'\n",
    "df = pd.read_csv('F:/PROJECTS/ML/Ongoing/Credit card default/Bank_Personal_Loan_Modelling.csv')\n",
    "\n",
    "# display first five observations using head()\n",
    "df.head()"
   ]
  },
  {
   "cell_type": "markdown",
   "metadata": {},
   "source": [
    "**Let us now see the number of variables and observations in the data.**"
   ]
  },
  {
   "cell_type": "code",
   "execution_count": 297,
   "metadata": {},
   "outputs": [
    {
     "data": {
      "text/plain": [
       "(5000, 14)"
      ]
     },
     "execution_count": 297,
     "metadata": {},
     "output_type": "execute_result"
    }
   ],
   "source": [
    "# use 'shape' to check the dimension of data\n",
    "df.shape"
   ]
  },
  {
   "cell_type": "markdown",
   "metadata": {},
   "source": [
    "**Interpretation:** The data has 5000 observations and 14 variables."
   ]
  },
  {
   "cell_type": "markdown",
   "metadata": {},
   "source": [
    "<a id=\"dtype\"></a>\n",
    "## 2.2 Check the Data Type"
   ]
  },
  {
   "cell_type": "markdown",
   "metadata": {},
   "source": [
    "**Check the data type of each variable. If the data type is not as per the data definition, change the data type.**"
   ]
  },
  {
   "cell_type": "code",
   "execution_count": 298,
   "metadata": {
    "scrolled": false
   },
   "outputs": [
    {
     "data": {
      "text/plain": [
       "ID                      int64\n",
       "Age                     int64\n",
       "Experience              int64\n",
       "Income                  int64\n",
       "ZIP Code                int64\n",
       "Family                  int64\n",
       "CCAvg                 float64\n",
       "Education               int64\n",
       "Mortgage                int64\n",
       "Personal Loan           int64\n",
       "Securities Account      int64\n",
       "CD Account              int64\n",
       "Online                  int64\n",
       "CreditCard              int64\n",
       "dtype: object"
      ]
     },
     "execution_count": 298,
     "metadata": {},
     "output_type": "execute_result"
    }
   ],
   "source": [
    "# use 'dtypes' to check the data type of a variable\n",
    "df.dtypes"
   ]
  },
  {
   "cell_type": "markdown",
   "metadata": {},
   "source": [
    "**Interpretation:** Now, all the variables have the correct data type."
   ]
  },
  {
   "cell_type": "markdown",
   "metadata": {},
   "source": [
    "<a id=\"drop\"></a>\n",
    "## 2.3 Remove Insignificant Variables"
   ]
  },
  {
   "cell_type": "code",
   "execution_count": 299,
   "metadata": {},
   "outputs": [],
   "source": [
    "# drop the column 'Serial No.' using drop()\n",
    "# 'axis = 1' drops the specified column\n",
    "df = df.drop(['ID','ZIP Code'], axis = 1)"
   ]
  },
  {
   "cell_type": "markdown",
   "metadata": {},
   "source": [
    "<a id=\"dist\"></a>\n",
    "## 2.4 Distribution of Variables"
   ]
  },
  {
   "cell_type": "markdown",
   "metadata": {},
   "source": [
    "**Distribution of numeric independent variables.**"
   ]
  },
  {
   "cell_type": "code",
   "execution_count": 200,
   "metadata": {},
   "outputs": [
    {
     "data": {
      "image/png": "[encoded data removed]",
      "text/plain": [
       "<Figure size 1080x576 with 12 Axes>"
      ]
     },
     "metadata": {
      "needs_background": "light"
     },
     "output_type": "display_data"
    },
    {
     "name": "stdout",
     "output_type": "stream",
     "text": [
      "Skewness:\n"
     ]
    },
    {
     "data": {
      "text/plain": [
       "Age                  -0.029341\n",
       "Experience           -0.026325\n",
       "Income                0.841339\n",
       "Family                0.155221\n",
       "CCAvg                 1.598443\n",
       "Education             0.227093\n",
       "Mortgage              2.104002\n",
       "Personal Loan         2.743607\n",
       "Securities Account    2.588268\n",
       "CD Account            3.691714\n",
       "Online               -0.394785\n",
       "dtype: float64"
      ]
     },
     "execution_count": 200,
     "metadata": {},
     "output_type": "execute_result"
    }
   ],
   "source": [
    "# for the independent numeric variables, we plot the histogram to check the distribution of the variables\n",
    "# Note: the hist() function considers the numeric variables only, by default\n",
    "# we drop the target variable using drop()\n",
    "# 'axis=1' drops the specified column\n",
    "df.drop('CreditCard', axis = 1).hist()\n",
    "\n",
    "# adjust the subplots\n",
    "plt.tight_layout()\n",
    "\n",
    "# display the plot\n",
    "plt.show()  \n",
    "\n",
    "# print the skewness for each numeric independent variable\n",
    "print('Skewness:')\n",
    "# we drop the target variable using drop()\n",
    "# 'axis=1' drops the specified column\n",
    "# skew() returns the coefficient of skewness for each variable\n",
    "df.drop('CreditCard', axis = 1).skew()"
   ]
  },
  {
   "cell_type": "markdown",
   "metadata": {},
   "source": [
    "**Interpretation:** The above plot indicates that all the variables are not normally distributed."
   ]
  },
  {
   "cell_type": "markdown",
   "metadata": {},
   "source": [
    "####  TARGET COLUMN DISTRIBUTION"
   ]
  },
  {
   "cell_type": "code",
   "execution_count": 201,
   "metadata": {},
   "outputs": [
    {
     "data": {
      "image/png": "[encoded data removed]",
      "text/plain": [
       "<Figure size 1080x576 with 1 Axes>"
      ]
     },
     "metadata": {
      "needs_background": "light"
     },
     "output_type": "display_data"
    }
   ],
   "source": [
    "# consider only the target variable\n",
    "df_target = df['CreditCard'].copy()\n",
    "\n",
    "# get counts of 0's and 1's in the 'Chance of Admit' variable\n",
    "df_target.value_counts()\n",
    "\n",
    "# plot the countplot of the variable 'Chance of Admit'\n",
    "sns.countplot(x = df_target)\n",
    "\n",
    "# use below code to print the values in the graph\n",
    "# 'x' and 'y' gives position of the text\n",
    "# 's' is the text \n",
    "plt.text(x = -0.05, y = df_target.value_counts()[0] + 1, s = str(round((df_target.value_counts()[0])*100/len(df_target),2)) + '%')\n",
    "plt.text(x = 0.95, y = df_target.value_counts()[1] +1, s = str(round((df_target.value_counts()[1])*100/len(df_target),2)) + '%')\n",
    "\n",
    "# add plot and axes labels\n",
    "# set text size using 'fontsize'\n",
    "plt.title('Count Plot for Target Variable (CreditCard)', fontsize = 15)\n",
    "plt.xlabel('Target Variable', fontsize = 15)\n",
    "plt.ylabel('Count', fontsize = 15)\n",
    "\n",
    "# to show the plot\n",
    "plt.show()"
   ]
  },
  {
   "cell_type": "markdown",
   "metadata": {},
   "source": [
    "**Interpretation:** The above plot shows that there is imbalance in the target variable."
   ]
  },
  {
   "cell_type": "markdown",
   "metadata": {},
   "source": [
    "<a id=\"null\"></a>\n",
    "## 2.5 Missing Value Treatment"
   ]
  },
  {
   "cell_type": "markdown",
   "metadata": {},
   "source": [
    "First run a check for the presence of missing values and their percentage for each column. Then choose the right approach to treat them."
   ]
  },
  {
   "cell_type": "code",
   "execution_count": 178,
   "metadata": {},
   "outputs": [
    {
     "data": {
      "text/html": [
       "<div>\n",
       "<style scoped>\n",
       "    .dataframe tbody tr th:only-of-type {\n",
       "        vertical-align: middle;\n",
       "    }\n",
       "\n",
       "    .dataframe tbody tr th {\n",
       "        vertical-align: top;\n",
       "    }\n",
       "\n",
       "    .dataframe thead th {\n",
       "        text-align: right;\n",
       "    }\n",
       "</style>\n",
       "<table border=\"1\" class=\"dataframe\">\n",
       "  <thead>\n",
       "    <tr style=\"text-align: right;\">\n",
       "      <th></th>\n",
       "      <th>Total</th>\n",
       "      <th>Percentage of Missing Values</th>\n",
       "    </tr>\n",
       "  </thead>\n",
       "  <tbody>\n",
       "    <tr>\n",
       "      <th>CreditCard</th>\n",
       "      <td>0</td>\n",
       "      <td>0.000000</td>\n",
       "    </tr>\n",
       "    <tr>\n",
       "      <th>Online</th>\n",
       "      <td>0</td>\n",
       "      <td>0.000000</td>\n",
       "    </tr>\n",
       "    <tr>\n",
       "      <th>CD Account</th>\n",
       "      <td>0</td>\n",
       "      <td>0.000000</td>\n",
       "    </tr>\n",
       "    <tr>\n",
       "      <th>Securities Account</th>\n",
       "      <td>0</td>\n",
       "      <td>0.000000</td>\n",
       "    </tr>\n",
       "    <tr>\n",
       "      <th>Personal Loan</th>\n",
       "      <td>0</td>\n",
       "      <td>0.000000</td>\n",
       "    </tr>\n",
       "    <tr>\n",
       "      <th>Mortgage</th>\n",
       "      <td>0</td>\n",
       "      <td>0.000000</td>\n",
       "    </tr>\n",
       "    <tr>\n",
       "      <th>Education</th>\n",
       "      <td>0</td>\n",
       "      <td>0.000000</td>\n",
       "    </tr>\n",
       "    <tr>\n",
       "      <th>CCAvg</th>\n",
       "      <td>0</td>\n",
       "      <td>0.000000</td>\n",
       "    </tr>\n",
       "    <tr>\n",
       "      <th>Family</th>\n",
       "      <td>0</td>\n",
       "      <td>0.000000</td>\n",
       "    </tr>\n",
       "    <tr>\n",
       "      <th>Income</th>\n",
       "      <td>0</td>\n",
       "      <td>0.000000</td>\n",
       "    </tr>\n",
       "    <tr>\n",
       "      <th>Experience</th>\n",
       "      <td>0</td>\n",
       "      <td>0.000000</td>\n",
       "    </tr>\n",
       "    <tr>\n",
       "      <th>Age</th>\n",
       "      <td>0</td>\n",
       "      <td>0.000000</td>\n",
       "    </tr>\n",
       "  </tbody>\n",
       "</table>\n",
       "</div>"
      ],
      "text/plain": [
       "                    Total  Percentage of Missing Values\n",
       "CreditCard              0                      0.000000\n",
       "Online                  0                      0.000000\n",
       "CD Account              0                      0.000000\n",
       "Securities Account      0                      0.000000\n",
       "Personal Loan           0                      0.000000\n",
       "Mortgage                0                      0.000000\n",
       "Education               0                      0.000000\n",
       "CCAvg                   0                      0.000000\n",
       "Family                  0                      0.000000\n",
       "Income                  0                      0.000000\n",
       "Experience              0                      0.000000\n",
       "Age                     0                      0.000000"
      ]
     },
     "execution_count": 178,
     "metadata": {},
     "output_type": "execute_result"
    }
   ],
   "source": [
    "# sort the variables on the basis of total null values in the variable\n",
    "# 'isnull().sum()' returns the number of missing values in each variable\n",
    "# 'ascending = False' sorts values in the descending order\n",
    "# the variable with highest number of missing values will appear first\n",
    "Total = df.isnull().sum().sort_values(ascending=False)          \n",
    "\n",
    "# calculate percentage of missing values\n",
    "# 'ascending = False' sorts values in the descending order\n",
    "# the variable with highest percentage of missing values will appear first\n",
    "Percent = (df.isnull().sum()*100/df.isnull().count()).sort_values(ascending=False)   \n",
    "\n",
    "# concat the 'Total' and 'Percent' columns using 'concat' function\n",
    "# pass a list of column names in parameter 'keys' \n",
    "# 'axis = 1' concats along the columns\n",
    "missing_data = pd.concat([Total, Percent], axis = 1, keys = ['Total', 'Percentage of Missing Values'])    \n",
    "missing_data"
   ]
  },
  {
   "cell_type": "markdown",
   "metadata": {},
   "source": [
    "**Interpretation:** The above output shows that there are no missing values in the data."
   ]
  },
  {
   "cell_type": "markdown",
   "metadata": {},
   "source": [
    "#### Filter numerical and categorical variables."
   ]
  },
  {
   "cell_type": "code",
   "execution_count": 300,
   "metadata": {},
   "outputs": [],
   "source": [
    "catdata = df[['Family',  'Education','Personal Loan',  'Securities Account' , 'CD Account', 'Online']]\n",
    "numdata = df[df.columns.difference(['Family', 'Education','Personal Loan',  'Securities Account' , 'CD Account', 'Online'])]"
   ]
  },
  {
   "cell_type": "code",
   "execution_count": 301,
   "metadata": {},
   "outputs": [],
   "source": [
    "numdata = numdata.drop(['CreditCard'],axis =1)"
   ]
  },
  {
   "cell_type": "markdown",
   "metadata": {},
   "source": [
    "<a id=\"scale\"></a>\n",
    "## 2.7 Scale the Data "
   ]
  },
  {
   "cell_type": "markdown",
   "metadata": {},
   "source": [
    "We scale the variables to get all the variables in the same range. With this, we can avoid a problem in which some features come to dominate solely because they tend to have larger values than others."
   ]
  },
  {
   "cell_type": "code",
   "execution_count": 302,
   "metadata": {},
   "outputs": [],
   "source": [
    "# initialize the standard scalar\n",
    "X_scaler = StandardScaler()\n",
    "\n",
    "# scale all the numerical columns\n",
    "# standardize all the columns of the dataframe 'df_num'\n",
    "num_scaled = X_scaler.fit_transform(numdata)\n",
    "\n",
    "# create a dataframe of scaled numerical variables\n",
    "# pass the required column names to the parameter 'columns'\n",
    "df_num_scaled = pd.DataFrame(num_scaled, columns = numdata.columns)"
   ]
  },
  {
   "cell_type": "markdown",
   "metadata": {},
   "source": [
    "## Variable summary"
   ]
  },
  {
   "cell_type": "code",
   "execution_count": 303,
   "metadata": {},
   "outputs": [],
   "source": [
    "def variablesummary(x):\n",
    "    return pd.DataFrame([x.skew(), x.sum(), x.mean(), x.median(),  x.std(), x.var(),x.min(),x.max()],\n",
    "                  index=['skew', 'SUM', 'MEAN','MEDIAN', 'STD', 'VAR', 'MIN','MAX'])"
   ]
  },
  {
   "cell_type": "code",
   "execution_count": 304,
   "metadata": {},
   "outputs": [
    {
     "data": {
      "text/html": [
       "<div>\n",
       "<style scoped>\n",
       "    .dataframe tbody tr th:only-of-type {\n",
       "        vertical-align: middle;\n",
       "    }\n",
       "\n",
       "    .dataframe tbody tr th {\n",
       "        vertical-align: top;\n",
       "    }\n",
       "\n",
       "    .dataframe thead th {\n",
       "        text-align: right;\n",
       "    }\n",
       "</style>\n",
       "<table border=\"1\" class=\"dataframe\">\n",
       "  <thead>\n",
       "    <tr style=\"text-align: right;\">\n",
       "      <th></th>\n",
       "      <th>Age</th>\n",
       "      <th>CCAvg</th>\n",
       "      <th>Experience</th>\n",
       "      <th>Income</th>\n",
       "      <th>Mortgage</th>\n",
       "    </tr>\n",
       "  </thead>\n",
       "  <tbody>\n",
       "    <tr>\n",
       "      <th>skew</th>\n",
       "      <td>-0.029341</td>\n",
       "      <td>1.598443</td>\n",
       "      <td>-0.026325</td>\n",
       "      <td>0.841339</td>\n",
       "      <td>2.104002</td>\n",
       "    </tr>\n",
       "    <tr>\n",
       "      <th>SUM</th>\n",
       "      <td>0.000000</td>\n",
       "      <td>-0.000000</td>\n",
       "      <td>-0.000000</td>\n",
       "      <td>0.000000</td>\n",
       "      <td>0.000000</td>\n",
       "    </tr>\n",
       "    <tr>\n",
       "      <th>MEAN</th>\n",
       "      <td>0.000000</td>\n",
       "      <td>-0.000000</td>\n",
       "      <td>-0.000000</td>\n",
       "      <td>0.000000</td>\n",
       "      <td>0.000000</td>\n",
       "    </tr>\n",
       "    <tr>\n",
       "      <th>MEDIAN</th>\n",
       "      <td>-0.029524</td>\n",
       "      <td>-0.250611</td>\n",
       "      <td>-0.009122</td>\n",
       "      <td>-0.212348</td>\n",
       "      <td>-0.555524</td>\n",
       "    </tr>\n",
       "    <tr>\n",
       "      <th>STD</th>\n",
       "      <td>1.000100</td>\n",
       "      <td>1.000100</td>\n",
       "      <td>1.000100</td>\n",
       "      <td>1.000100</td>\n",
       "      <td>1.000100</td>\n",
       "    </tr>\n",
       "    <tr>\n",
       "      <th>VAR</th>\n",
       "      <td>1.000200</td>\n",
       "      <td>1.000200</td>\n",
       "      <td>1.000200</td>\n",
       "      <td>1.000200</td>\n",
       "      <td>1.000200</td>\n",
       "    </tr>\n",
       "    <tr>\n",
       "      <th>MIN</th>\n",
       "      <td>-1.948906</td>\n",
       "      <td>-1.108987</td>\n",
       "      <td>-2.014911</td>\n",
       "      <td>-1.428969</td>\n",
       "      <td>-0.555524</td>\n",
       "    </tr>\n",
       "    <tr>\n",
       "      <th>MAX</th>\n",
       "      <td>1.889859</td>\n",
       "      <td>4.613525</td>\n",
       "      <td>1.996667</td>\n",
       "      <td>3.263712</td>\n",
       "      <td>5.688108</td>\n",
       "    </tr>\n",
       "  </tbody>\n",
       "</table>\n",
       "</div>"
      ],
      "text/plain": [
       "             Age     CCAvg  Experience    Income  Mortgage\n",
       "skew   -0.029341  1.598443   -0.026325  0.841339  2.104002\n",
       "SUM     0.000000 -0.000000   -0.000000  0.000000  0.000000\n",
       "MEAN    0.000000 -0.000000   -0.000000  0.000000  0.000000\n",
       "MEDIAN -0.029524 -0.250611   -0.009122 -0.212348 -0.555524\n",
       "STD     1.000100  1.000100    1.000100  1.000100  1.000100\n",
       "VAR     1.000200  1.000200    1.000200  1.000200  1.000200\n",
       "MIN    -1.948906 -1.108987   -2.014911 -1.428969 -0.555524\n",
       "MAX     1.889859  4.613525    1.996667  3.263712  5.688108"
      ]
     },
     "execution_count": 304,
     "metadata": {},
     "output_type": "execute_result"
    }
   ],
   "source": [
    "variablesummary(df_num_scaled)"
   ]
  },
  {
   "cell_type": "markdown",
   "metadata": {},
   "source": [
    "## Variable Inflation"
   ]
  },
  {
   "cell_type": "code",
   "execution_count": 305,
   "metadata": {},
   "outputs": [],
   "source": [
    "from statsmodels.stats.outliers_influence import variance_inflation_factor\n",
    "def variableinflation(X):\n",
    "    vif = pd.DataFrame()\n",
    "    vif[\"variables\"] = X.columns\n",
    "    vif[\"VIF\"] = [variance_inflation_factor(X.values, i) for i in range(X.shape[1])]\n",
    "    return(vif)"
   ]
  },
  {
   "cell_type": "code",
   "execution_count": 306,
   "metadata": {},
   "outputs": [
    {
     "data": {
      "text/html": [
       "<div>\n",
       "<style scoped>\n",
       "    .dataframe tbody tr th:only-of-type {\n",
       "        vertical-align: middle;\n",
       "    }\n",
       "\n",
       "    .dataframe tbody tr th {\n",
       "        vertical-align: top;\n",
       "    }\n",
       "\n",
       "    .dataframe thead th {\n",
       "        text-align: right;\n",
       "    }\n",
       "</style>\n",
       "<table border=\"1\" class=\"dataframe\">\n",
       "  <thead>\n",
       "    <tr style=\"text-align: right;\">\n",
       "      <th></th>\n",
       "      <th>variables</th>\n",
       "      <th>VIF</th>\n",
       "    </tr>\n",
       "  </thead>\n",
       "  <tbody>\n",
       "    <tr>\n",
       "      <th>0</th>\n",
       "      <td>Age</td>\n",
       "      <td>87.454123</td>\n",
       "    </tr>\n",
       "    <tr>\n",
       "      <th>1</th>\n",
       "      <td>CCAvg</td>\n",
       "      <td>1.722310</td>\n",
       "    </tr>\n",
       "    <tr>\n",
       "      <th>2</th>\n",
       "      <td>Experience</td>\n",
       "      <td>87.396571</td>\n",
       "    </tr>\n",
       "    <tr>\n",
       "      <th>3</th>\n",
       "      <td>Income</td>\n",
       "      <td>1.788110</td>\n",
       "    </tr>\n",
       "    <tr>\n",
       "      <th>4</th>\n",
       "      <td>Mortgage</td>\n",
       "      <td>1.045735</td>\n",
       "    </tr>\n",
       "  </tbody>\n",
       "</table>\n",
       "</div>"
      ],
      "text/plain": [
       "    variables       VIF\n",
       "0         Age 87.454123\n",
       "1       CCAvg  1.722310\n",
       "2  Experience 87.396571\n",
       "3      Income  1.788110\n",
       "4    Mortgage  1.045735"
      ]
     },
     "execution_count": 306,
     "metadata": {},
     "output_type": "execute_result"
    }
   ],
   "source": [
    "variableinflation(df_num_scaled)"
   ]
  },
  {
   "cell_type": "code",
   "execution_count": 209,
   "metadata": {},
   "outputs": [],
   "source": [
    "## Age and Experience are highhly correlated"
   ]
  },
  {
   "cell_type": "code",
   "execution_count": 307,
   "metadata": {},
   "outputs": [],
   "source": [
    "df_num_scaled = df_num_scaled.drop(['Age'],axis = 1)"
   ]
  },
  {
   "cell_type": "markdown",
   "metadata": {},
   "source": [
    "## OUTLIER ANALYSIS"
   ]
  },
  {
   "cell_type": "code",
   "execution_count": 211,
   "metadata": {},
   "outputs": [
    {
     "data": {
      "image/png": "[encoded data removed]",
      "text/plain": [
       "<Figure size 1080x576 with 1 Axes>"
      ]
     },
     "metadata": {
      "needs_background": "light"
     },
     "output_type": "display_data"
    }
   ],
   "source": [
    "## 3 - Boxplot Analysis\n",
    "# set the plot size using figure()\n",
    "# pass width and height in inches to 'figsize' \n",
    "plt.figure(figsize = (15,8))\n",
    "# plot a boxplot to visualize the outliers in all the numeric variables\n",
    "df_num_scaled .boxplot()\n",
    "# set plot label\n",
    "# set text size using 'fontsize'\n",
    "plt.title('Distribution of all Numeric Variables', fontsize = 15)\n",
    "# xticks() returns the x-axis ticks\n",
    "# 'rotation = vertical' rotates the x-axis labels vertically\n",
    "plt.xticks(rotation = 'vertical', fontsize = 15)\n",
    "# display the plot\n",
    "plt.show()"
   ]
  },
  {
   "cell_type": "markdown",
   "metadata": {},
   "source": [
    "## FIXING OUTLIERS"
   ]
  },
  {
   "cell_type": "code",
   "execution_count": 308,
   "metadata": {},
   "outputs": [],
   "source": [
    "## Capping (Winzorization)\n",
    "for i in df_num_scaled.columns:\n",
    "    q1 = df_num_scaled[i].quantile(0.25)\n",
    "    q3 = df_num_scaled[i].quantile(0.75)\n",
    "    IQR = q3-q1\n",
    "    UB = q3 + 1.5*IQR\n",
    "    LB = q1 - 1.5*IQR\n",
    "    UC = df_num_scaled[i].quantile(0.99)\n",
    "    LC = df_num_scaled[i].quantile(0.01)\n",
    "    for ind1 in df_num_scaled[i].index:\n",
    "        if df_num_scaled.loc[ind1,i] > UB:\n",
    "            df_num_scaled.loc[ind1,i] = UC\n",
    "        if df_num_scaled.loc[ind1,i] < LB:\n",
    "            df_num_scaled.loc[ind1,i] = LC\n"
   ]
  },
  {
   "cell_type": "code",
   "execution_count": 309,
   "metadata": {},
   "outputs": [
    {
     "data": {
      "image/png": "[encoded data removed]",
      "text/plain": [
       "<Figure size 1080x576 with 1 Axes>"
      ]
     },
     "metadata": {
      "needs_background": "light"
     },
     "output_type": "display_data"
    }
   ],
   "source": [
    "## 3 - Boxplot Analysis\n",
    "# set the plot size using figure()\n",
    "# pass width and height in inches to 'figsize' \n",
    "plt.figure(figsize = (15,8))\n",
    "# plot a boxplot to visualize the outliers in all the numeric variables\n",
    "df_num_scaled .boxplot()\n",
    "# set plot label\n",
    "# set text size using 'fontsize'\n",
    "plt.title('Distribution of all Numeric Variables', fontsize = 15)\n",
    "# xticks() returns the x-axis ticks\n",
    "# 'rotation = vertical' rotates the x-axis labels vertically\n",
    "plt.xticks(rotation = 'vertical', fontsize = 15)\n",
    "# display the plot\n",
    "plt.show()"
   ]
  },
  {
   "cell_type": "markdown",
   "metadata": {},
   "source": [
    "#### Concatenate scaled numerical and dummy encoded categorical variables."
   ]
  },
  {
   "cell_type": "code",
   "execution_count": 310,
   "metadata": {},
   "outputs": [
    {
     "data": {
      "text/html": [
       "<div>\n",
       "<style scoped>\n",
       "    .dataframe tbody tr th:only-of-type {\n",
       "        vertical-align: middle;\n",
       "    }\n",
       "\n",
       "    .dataframe tbody tr th {\n",
       "        vertical-align: top;\n",
       "    }\n",
       "\n",
       "    .dataframe thead th {\n",
       "        text-align: right;\n",
       "    }\n",
       "</style>\n",
       "<table border=\"1\" class=\"dataframe\">\n",
       "  <thead>\n",
       "    <tr style=\"text-align: right;\">\n",
       "      <th></th>\n",
       "      <th>CCAvg</th>\n",
       "      <th>Experience</th>\n",
       "      <th>Income</th>\n",
       "      <th>Mortgage</th>\n",
       "      <th>Family</th>\n",
       "      <th>Education</th>\n",
       "      <th>Personal Loan</th>\n",
       "      <th>Securities Account</th>\n",
       "      <th>CD Account</th>\n",
       "      <th>Online</th>\n",
       "    </tr>\n",
       "  </thead>\n",
       "  <tbody>\n",
       "    <tr>\n",
       "      <th>0</th>\n",
       "      <td>-0.193385</td>\n",
       "      <td>-1.666078</td>\n",
       "      <td>-0.538229</td>\n",
       "      <td>-0.555524</td>\n",
       "      <td>4</td>\n",
       "      <td>1</td>\n",
       "      <td>0</td>\n",
       "      <td>1</td>\n",
       "      <td>0</td>\n",
       "      <td>0</td>\n",
       "    </tr>\n",
       "    <tr>\n",
       "      <th>1</th>\n",
       "      <td>-0.250611</td>\n",
       "      <td>-0.096330</td>\n",
       "      <td>-0.864109</td>\n",
       "      <td>-0.555524</td>\n",
       "      <td>3</td>\n",
       "      <td>1</td>\n",
       "      <td>0</td>\n",
       "      <td>1</td>\n",
       "      <td>0</td>\n",
       "      <td>0</td>\n",
       "    </tr>\n",
       "    <tr>\n",
       "      <th>2</th>\n",
       "      <td>-0.536736</td>\n",
       "      <td>-0.445163</td>\n",
       "      <td>-1.363793</td>\n",
       "      <td>-0.555524</td>\n",
       "      <td>1</td>\n",
       "      <td>1</td>\n",
       "      <td>0</td>\n",
       "      <td>0</td>\n",
       "      <td>0</td>\n",
       "      <td>0</td>\n",
       "    </tr>\n",
       "    <tr>\n",
       "      <th>3</th>\n",
       "      <td>0.436091</td>\n",
       "      <td>-0.968413</td>\n",
       "      <td>0.569765</td>\n",
       "      <td>-0.555524</td>\n",
       "      <td>1</td>\n",
       "      <td>2</td>\n",
       "      <td>0</td>\n",
       "      <td>0</td>\n",
       "      <td>0</td>\n",
       "      <td>0</td>\n",
       "    </tr>\n",
       "    <tr>\n",
       "      <th>4</th>\n",
       "      <td>-0.536736</td>\n",
       "      <td>-1.055621</td>\n",
       "      <td>-0.625130</td>\n",
       "      <td>-0.555524</td>\n",
       "      <td>4</td>\n",
       "      <td>2</td>\n",
       "      <td>0</td>\n",
       "      <td>0</td>\n",
       "      <td>0</td>\n",
       "      <td>0</td>\n",
       "    </tr>\n",
       "  </tbody>\n",
       "</table>\n",
       "</div>"
      ],
      "text/plain": [
       "      CCAvg  Experience    Income  Mortgage  Family  Education  Personal Loan  \\\n",
       "0 -0.193385   -1.666078 -0.538229 -0.555524       4          1              0   \n",
       "1 -0.250611   -0.096330 -0.864109 -0.555524       3          1              0   \n",
       "2 -0.536736   -0.445163 -1.363793 -0.555524       1          1              0   \n",
       "3  0.436091   -0.968413  0.569765 -0.555524       1          2              0   \n",
       "4 -0.536736   -1.055621 -0.625130 -0.555524       4          2              0   \n",
       "\n",
       "   Securities Account  CD Account  Online  \n",
       "0                   1           0       0  \n",
       "1                   1           0       0  \n",
       "2                   0           0       0  \n",
       "3                   0           0       0  \n",
       "4                   0           0       0  "
      ]
     },
     "execution_count": 310,
     "metadata": {},
     "output_type": "execute_result"
    }
   ],
   "source": [
    "# concat the dummy variables with numeric features to create a dataframe of all independent variables\n",
    "# 'axis=1' concats the dataframes along columns \n",
    "X = pd.concat([df_num_scaled, catdata], axis = 1)\n",
    "\n",
    "# display first five observations\n",
    "X.head()"
   ]
  },
  {
   "cell_type": "markdown",
   "metadata": {},
   "source": [
    "## Distribution Analysis - After Scaling"
   ]
  },
  {
   "cell_type": "code",
   "execution_count": 215,
   "metadata": {},
   "outputs": [
    {
     "data": {
      "image/png": "[encoded data removed]",
      "text/plain": [
       "<Figure size 1080x576 with 1 Axes>"
      ]
     },
     "metadata": {
      "needs_background": "light"
     },
     "output_type": "display_data"
    },
    {
     "data": {
      "image/png": "[encoded data removed]",
      "text/plain": [
       "<Figure size 1440x1440 with 1 Axes>"
      ]
     },
     "metadata": {
      "needs_background": "light"
     },
     "output_type": "display_data"
    },
    {
     "data": {
      "image/png": "[encoded data removed]",
      "text/plain": [
       "<Figure size 1440x1440 with 1 Axes>"
      ]
     },
     "metadata": {
      "needs_background": "light"
     },
     "output_type": "display_data"
    },
    {
     "data": {
      "image/png": "[encoded data removed]",
      "text/plain": [
       "<Figure size 1440x1440 with 1 Axes>"
      ]
     },
     "metadata": {
      "needs_background": "light"
     },
     "output_type": "display_data"
    },
    {
     "data": {
      "image/png": "[encoded data removed]",
      "text/plain": [
       "<Figure size 1440x1440 with 1 Axes>"
      ]
     },
     "metadata": {
      "needs_background": "light"
     },
     "output_type": "display_data"
    },
    {
     "data": {
      "image/png": "[encoded data removed]",
      "text/plain": [
       "<Figure size 1440x1440 with 1 Axes>"
      ]
     },
     "metadata": {
      "needs_background": "light"
     },
     "output_type": "display_data"
    },
    {
     "data": {
      "image/png": "[encoded data removed]",
      "text/plain": [
       "<Figure size 1440x1440 with 1 Axes>"
      ]
     },
     "metadata": {
      "needs_background": "light"
     },
     "output_type": "display_data"
    },
    {
     "data": {
      "image/png": "[encoded data removed]",
      "text/plain": [
       "<Figure size 1440x1440 with 1 Axes>"
      ]
     },
     "metadata": {
      "needs_background": "light"
     },
     "output_type": "display_data"
    },
    {
     "data": {
      "image/png": "[encoded data removed]",
      "text/plain": [
       "<Figure size 1440x1440 with 1 Axes>"
      ]
     },
     "metadata": {
      "needs_background": "light"
     },
     "output_type": "display_data"
    },
    {
     "data": {
      "image/png": "[encoded data removed]",
      "text/plain": [
       "<Figure size 1440x1440 with 1 Axes>"
      ]
     },
     "metadata": {
      "needs_background": "light"
     },
     "output_type": "display_data"
    },
    {
     "data": {
      "text/plain": [
       "<Figure size 1440x1440 with 0 Axes>"
      ]
     },
     "metadata": {},
     "output_type": "display_data"
    }
   ],
   "source": [
    "## 1 - Distplot Analysis\n",
    "row = 3\n",
    "col = 1\n",
    "count = 1\n",
    "for i in X:\n",
    "    plt.subplot(row,col,count)\n",
    "    plt.title(i)\n",
    "    sns.distplot(X[i])\n",
    "    plt.tight_layout()\n",
    "    plt.show()\n",
    "    plt.figure(figsize=(20,20))"
   ]
  },
  {
   "cell_type": "code",
   "execution_count": 311,
   "metadata": {},
   "outputs": [
    {
     "data": {
      "text/html": [
       "<div>\n",
       "<style scoped>\n",
       "    .dataframe tbody tr th:only-of-type {\n",
       "        vertical-align: middle;\n",
       "    }\n",
       "\n",
       "    .dataframe tbody tr th {\n",
       "        vertical-align: top;\n",
       "    }\n",
       "\n",
       "    .dataframe thead th {\n",
       "        text-align: right;\n",
       "    }\n",
       "</style>\n",
       "<table border=\"1\" class=\"dataframe\">\n",
       "  <thead>\n",
       "    <tr style=\"text-align: right;\">\n",
       "      <th></th>\n",
       "      <th>CCAvg</th>\n",
       "      <th>Experience</th>\n",
       "      <th>Income</th>\n",
       "      <th>Mortgage</th>\n",
       "      <th>Family</th>\n",
       "      <th>Education</th>\n",
       "      <th>Personal Loan</th>\n",
       "      <th>Securities Account</th>\n",
       "      <th>CD Account</th>\n",
       "      <th>Online</th>\n",
       "    </tr>\n",
       "  </thead>\n",
       "  <tbody>\n",
       "    <tr>\n",
       "      <th>skew</th>\n",
       "      <td>1.822322</td>\n",
       "      <td>-0.026325</td>\n",
       "      <td>0.831471</td>\n",
       "      <td>2.131042</td>\n",
       "      <td>0.155221</td>\n",
       "      <td>0.227093</td>\n",
       "      <td>2.743607</td>\n",
       "      <td>2.588268</td>\n",
       "      <td>3.691714</td>\n",
       "      <td>-0.394785</td>\n",
       "    </tr>\n",
       "    <tr>\n",
       "      <th>SUM</th>\n",
       "      <td>239.773269</td>\n",
       "      <td>-0.000000</td>\n",
       "      <td>-3.476060</td>\n",
       "      <td>215.586307</td>\n",
       "      <td>11982.000000</td>\n",
       "      <td>9405.000000</td>\n",
       "      <td>480.000000</td>\n",
       "      <td>522.000000</td>\n",
       "      <td>302.000000</td>\n",
       "      <td>2984.000000</td>\n",
       "    </tr>\n",
       "    <tr>\n",
       "      <th>MEAN</th>\n",
       "      <td>0.047955</td>\n",
       "      <td>-0.000000</td>\n",
       "      <td>-0.000695</td>\n",
       "      <td>0.043117</td>\n",
       "      <td>2.396400</td>\n",
       "      <td>1.881000</td>\n",
       "      <td>0.096000</td>\n",
       "      <td>0.104400</td>\n",
       "      <td>0.060400</td>\n",
       "      <td>0.596800</td>\n",
       "    </tr>\n",
       "    <tr>\n",
       "      <th>MEDIAN</th>\n",
       "      <td>-0.250611</td>\n",
       "      <td>-0.009122</td>\n",
       "      <td>-0.212348</td>\n",
       "      <td>-0.555524</td>\n",
       "      <td>2.000000</td>\n",
       "      <td>2.000000</td>\n",
       "      <td>0.000000</td>\n",
       "      <td>0.000000</td>\n",
       "      <td>0.000000</td>\n",
       "      <td>1.000000</td>\n",
       "    </tr>\n",
       "    <tr>\n",
       "      <th>STD</th>\n",
       "      <td>1.128502</td>\n",
       "      <td>1.000100</td>\n",
       "      <td>0.998120</td>\n",
       "      <td>1.113944</td>\n",
       "      <td>1.147663</td>\n",
       "      <td>0.839869</td>\n",
       "      <td>0.294621</td>\n",
       "      <td>0.305809</td>\n",
       "      <td>0.238250</td>\n",
       "      <td>0.490589</td>\n",
       "    </tr>\n",
       "    <tr>\n",
       "      <th>VAR</th>\n",
       "      <td>1.273517</td>\n",
       "      <td>1.000200</td>\n",
       "      <td>0.996243</td>\n",
       "      <td>1.240872</td>\n",
       "      <td>1.317130</td>\n",
       "      <td>0.705380</td>\n",
       "      <td>0.086801</td>\n",
       "      <td>0.093519</td>\n",
       "      <td>0.056763</td>\n",
       "      <td>0.240678</td>\n",
       "    </tr>\n",
       "    <tr>\n",
       "      <th>MIN</th>\n",
       "      <td>-1.108987</td>\n",
       "      <td>-2.014911</td>\n",
       "      <td>-1.428969</td>\n",
       "      <td>-0.555524</td>\n",
       "      <td>1.000000</td>\n",
       "      <td>1.000000</td>\n",
       "      <td>0.000000</td>\n",
       "      <td>0.000000</td>\n",
       "      <td>0.000000</td>\n",
       "      <td>0.000000</td>\n",
       "    </tr>\n",
       "    <tr>\n",
       "      <th>MAX</th>\n",
       "      <td>3.469022</td>\n",
       "      <td>1.996667</td>\n",
       "      <td>2.590225</td>\n",
       "      <td>3.682378</td>\n",
       "      <td>4.000000</td>\n",
       "      <td>3.000000</td>\n",
       "      <td>1.000000</td>\n",
       "      <td>1.000000</td>\n",
       "      <td>1.000000</td>\n",
       "      <td>1.000000</td>\n",
       "    </tr>\n",
       "  </tbody>\n",
       "</table>\n",
       "</div>"
      ],
      "text/plain": [
       "            CCAvg  Experience    Income   Mortgage       Family   Education  \\\n",
       "skew     1.822322   -0.026325  0.831471   2.131042     0.155221    0.227093   \n",
       "SUM    239.773269   -0.000000 -3.476060 215.586307 11982.000000 9405.000000   \n",
       "MEAN     0.047955   -0.000000 -0.000695   0.043117     2.396400    1.881000   \n",
       "MEDIAN  -0.250611   -0.009122 -0.212348  -0.555524     2.000000    2.000000   \n",
       "STD      1.128502    1.000100  0.998120   1.113944     1.147663    0.839869   \n",
       "VAR      1.273517    1.000200  0.996243   1.240872     1.317130    0.705380   \n",
       "MIN     -1.108987   -2.014911 -1.428969  -0.555524     1.000000    1.000000   \n",
       "MAX      3.469022    1.996667  2.590225   3.682378     4.000000    3.000000   \n",
       "\n",
       "        Personal Loan  Securities Account  CD Account      Online  \n",
       "skew         2.743607            2.588268    3.691714   -0.394785  \n",
       "SUM        480.000000          522.000000  302.000000 2984.000000  \n",
       "MEAN         0.096000            0.104400    0.060400    0.596800  \n",
       "MEDIAN       0.000000            0.000000    0.000000    1.000000  \n",
       "STD          0.294621            0.305809    0.238250    0.490589  \n",
       "VAR          0.086801            0.093519    0.056763    0.240678  \n",
       "MIN          0.000000            0.000000    0.000000    0.000000  \n",
       "MAX          1.000000            1.000000    1.000000    1.000000  "
      ]
     },
     "execution_count": 311,
     "metadata": {},
     "output_type": "execute_result"
    }
   ],
   "source": [
    "variablesummary(X)"
   ]
  },
  {
   "cell_type": "markdown",
   "metadata": {},
   "source": [
    "## UNDERSAMPLING - DATA BALANCING"
   ]
  },
  {
   "cell_type": "code",
   "execution_count": 312,
   "metadata": {},
   "outputs": [
    {
     "name": "stdout",
     "output_type": "stream",
     "text": [
      "Counter({0: 1470, 1: 1470})\n"
     ]
    }
   ],
   "source": [
    "# example of random undersampling to balance the class distribution\n",
    "from collections import Counter\n",
    "from sklearn.datasets import make_classification\n",
    "from imblearn.under_sampling import RandomUnderSampler\n",
    "# define undersample strategy\n",
    "undersample = RandomUnderSampler(sampling_strategy='majority')\n",
    "# fit and apply the transform\n",
    "X_over, y_over = undersample.fit_resample(X,df_target)\n",
    "# summarize class distribution\n",
    "print(Counter(y_over))"
   ]
  },
  {
   "cell_type": "markdown",
   "metadata": {},
   "source": [
    "<a id=\"split\"></a>\n",
    "## 2.8 Train-Test Split"
   ]
  },
  {
   "cell_type": "markdown",
   "metadata": {},
   "source": [
    "Before applying various classification techniques to predict the admission status of the student, let us split the dataset in train and test set."
   ]
  },
  {
   "cell_type": "code",
   "execution_count": 313,
   "metadata": {},
   "outputs": [
    {
     "name": "stdout",
     "output_type": "stream",
     "text": [
      "X_train (2058, 10)\n",
      "y_train (2058,)\n",
      "X_test (882, 10)\n",
      "y_test (882,)\n"
     ]
    }
   ],
   "source": [
    "# add a constant column to the dataframe\n",
    "# while using the 'Logit' method in the Statsmodels library, the method do not consider the intercept by default\n",
    "# we can add the intercept to the set of independent variables using 'add_constant()'\n",
    "X = sm.add_constant(X)\n",
    "\n",
    "# split data into train subset and test subset\n",
    "# set 'random_state' to generate the same dataset each time you run the code \n",
    "# 'test_size' returns the proportion of data to be included in the testing set\n",
    "X_train, X_test, y_train, y_test = train_test_split(X_over,y_over, random_state = 10, test_size = 0.3)\n",
    "\n",
    "# check the dimensions of the train & test subset using 'shape'\n",
    "# print dimension of train set\n",
    "print('X_train', X_train.shape)\n",
    "print('y_train', y_train.shape)\n",
    "\n",
    "# print dimension of test set\n",
    "print('X_test', X_test.shape)\n",
    "print('y_test', y_test.shape)"
   ]
  },
  {
   "cell_type": "markdown",
   "metadata": {},
   "source": [
    "#### Create a generalized function to create a dataframe containing the scores for the models."
   ]
  },
  {
   "cell_type": "code",
   "execution_count": 314,
   "metadata": {},
   "outputs": [],
   "source": [
    "# create an empty dataframe to store the scores for various algorithms\n",
    "score_card = pd.DataFrame(columns=['Probability Cutoff', 'AUC Score', 'Precision Score', 'Recall Score',\n",
    "                                       'Accuracy Score', 'Kappa Score', 'f1-score'])\n",
    "\n",
    "# append the result table for all performance scores\n",
    "# performance measures considered for model comparision are 'AUC Score', 'Precision Score', 'Recall Score','Accuracy Score',\n",
    "# 'Kappa Score', and 'f1-score'\n",
    "# compile the required information in a user defined function \n",
    "def update_score_card(model, cutoff):\n",
    "    \n",
    "    # let 'y_pred_prob' be the predicted values of y\n",
    "    y_pred_prob = logreg.predict(X_test)\n",
    "\n",
    "    # convert probabilities to 0 and 1 using 'if_else'\n",
    "    y_pred = [ 0 if x < cutoff else 1 for x in y_pred_prob]\n",
    "    \n",
    "    # assign 'score_card' as global variable\n",
    "    global score_card\n",
    "\n",
    "    # append the results to the dataframe 'score_card'\n",
    "    # 'ignore_index = True' do not consider the index labels\n",
    "    score_card = score_card.append({'Probability Cutoff': cutoff,\n",
    "                                    'AUC Score' : metrics.roc_auc_score(y_test, y_pred),\n",
    "                                    'Precision Score': metrics.precision_score(y_test, y_pred),\n",
    "                                    'Recall Score': metrics.recall_score(y_test, y_pred),\n",
    "                                    'Accuracy Score': metrics.accuracy_score(y_test, y_pred),\n",
    "                                    'Kappa Score':metrics.cohen_kappa_score(y_test, y_pred),\n",
    "                                    'f1-score': metrics.f1_score(y_test, y_pred)}, \n",
    "                                    ignore_index = True)"
   ]
  },
  {
   "cell_type": "markdown",
   "metadata": {},
   "source": [
    "<a id=\"logit\"></a>\n",
    "# 3. Logistic Regression (Full Model)"
   ]
  },
  {
   "cell_type": "markdown",
   "metadata": {},
   "source": [
    "#### Build a full logistic model on a training dataset."
   ]
  },
  {
   "cell_type": "code",
   "execution_count": 315,
   "metadata": {
    "scrolled": false
   },
   "outputs": [
    {
     "name": "stdout",
     "output_type": "stream",
     "text": [
      "Optimization terminated successfully.\n",
      "         Current function value: 0.639080\n",
      "         Iterations 6\n",
      "                           Logit Regression Results                           \n",
      "==============================================================================\n",
      "Dep. Variable:             CreditCard   No. Observations:                 2058\n",
      "Model:                          Logit   Df Residuals:                     2048\n",
      "Method:                           MLE   Df Model:                            9\n",
      "Date:                Sun, 18 Jul 2021   Pseudo R-squ.:                 0.07775\n",
      "Time:                        16:08:54   Log-Likelihood:                -1315.2\n",
      "converged:                       True   LL-Null:                       -1426.1\n",
      "Covariance Type:            nonrobust   LLR p-value:                 8.908e-43\n",
      "======================================================================================\n",
      "                         coef    std err          z      P>|z|      [0.025      0.975]\n",
      "--------------------------------------------------------------------------------------\n",
      "CCAvg                 -0.0585      0.055     -1.063      0.288      -0.166       0.049\n",
      "Experience             0.0208      0.047      0.445      0.656      -0.071       0.112\n",
      "Income                 0.0563      0.067      0.843      0.399      -0.075       0.187\n",
      "Mortgage              -0.0724      0.044     -1.644      0.100      -0.159       0.014\n",
      "Family                 0.0275      0.033      0.829      0.407      -0.038       0.093\n",
      "Education              0.0302      0.043      0.696      0.487      -0.055       0.115\n",
      "Personal Loan         -1.1310      0.225     -5.024      0.000      -1.572      -0.690\n",
      "Securities Account    -0.8612      0.197     -4.372      0.000      -1.247      -0.475\n",
      "CD Account             3.4680      0.304     11.393      0.000       2.871       4.065\n",
      "Online                -0.2522      0.089     -2.829      0.005      -0.427      -0.077\n",
      "======================================================================================\n"
     ]
    }
   ],
   "source": [
    "# build the model on train data (X_train and y_train)\n",
    "# use fit() to fit the logistic regression model\n",
    "logreg = sm.Logit(y_train, X_train).fit()\n",
    "\n",
    "# print the summary of the model\n",
    "print(logreg.summary())"
   ]
  },
  {
   "cell_type": "markdown",
   "metadata": {},
   "source": [
    "**Interpretation:** The `Pseudo R-squ.` obtained from the above model summary is the value of `McFadden's R-squared`. This value can be obtained from the formula:\n",
    "\n",
    "<p style='text-indent:25em'> <strong> McFadden's R-squared = $ 1 - \\frac{Log-Likelihood}{LL-Null} $</strong> </p>\n",
    "\n",
    "Where,<br>\n",
    "Log-Likelihood: It is the maximum value of the log-likelihood function<br>\n",
    "LL-Null: It is the maximum value of the log-likelihood function for the model containing only the intercept \n",
    "\n",
    "The LLR p-value is less than 0.05, implies that the model is significant."
   ]
  },
  {
   "cell_type": "markdown",
   "metadata": {},
   "source": [
    "There are different types of `pseudo R-squared` such as `Cox & Snell R-squared`, `Nagelkerke R-squared` and so on.\n",
    "\n",
    "**Cox & Snell R-squared:** The convergence of the logistic model can be determined by the R-squared value. It is given by the formula:\n",
    "\n",
    "<p style='text-indent:25em'> <strong> Cox & Snell R-squared = $ 1 - (\\frac{L(M_{Intercept})}{L(M_{Full})})^{2/N} $</strong> </p>\n",
    "\n",
    "Where,<br> \n",
    "L(M): The conditional probability of target variable given the independent variables<br>\n",
    "N: Total number of observations\n",
    "\n",
    "**Note:** The maximum of Cox & Snell R-squared is always less than 1. It is equal to $(1 - (L(M_{Intercept})^{2/N})$\n",
    "\n",
    "\n",
    "\n",
    "**Nagelkerke R-squared:** It is defined as the ratio of Cox & Snell R-squared to the maximum of Cox & Snell R-squared. The formula is given as:\n",
    "\n",
    "<p style='text-indent:25em'> <strong>Nagelkerke  R-squared = $ \\frac{1 - (\\frac{L(M_{Intercept})}{L(M_{Full})})^{2/N}}{1 -  (L(M_{Intercept})^{2/N}} $</strong> </p>\n",
    "\n",
    "\n",
    "\n",
    "Thus, Nagelkerke R-squared can be equal to 1, if $L(M_{Full}) = 1$\n"
   ]
  },
  {
   "cell_type": "markdown",
   "metadata": {},
   "source": [
    "**Calculate the AIC (Akaike Information Criterion) value.**\n",
    "\n",
    "It is a relative measure of model evaluation. It gives a trade-off between model accuracy and model complexity."
   ]
  },
  {
   "cell_type": "code",
   "execution_count": 221,
   "metadata": {},
   "outputs": [
    {
     "name": "stdout",
     "output_type": "stream",
     "text": [
      "AIC: 2641.11413411555\n"
     ]
    }
   ],
   "source": [
    "# 'aic' retuns the AIC value for the model\n",
    "print('AIC:', logreg.aic)"
   ]
  },
  {
   "cell_type": "markdown",
   "metadata": {},
   "source": [
    "We can use the AIC value to compare different models created on the same dataset."
   ]
  },
  {
   "cell_type": "markdown",
   "metadata": {},
   "source": [
    "### Interpret the odds for each variable "
   ]
  },
  {
   "cell_type": "code",
   "execution_count": 316,
   "metadata": {},
   "outputs": [
    {
     "data": {
      "text/html": [
       "<div>\n",
       "<style scoped>\n",
       "    .dataframe tbody tr th:only-of-type {\n",
       "        vertical-align: middle;\n",
       "    }\n",
       "\n",
       "    .dataframe tbody tr th {\n",
       "        vertical-align: top;\n",
       "    }\n",
       "\n",
       "    .dataframe thead th {\n",
       "        text-align: right;\n",
       "    }\n",
       "</style>\n",
       "<table border=\"1\" class=\"dataframe\">\n",
       "  <thead>\n",
       "    <tr style=\"text-align: right;\">\n",
       "      <th></th>\n",
       "      <th>Odds</th>\n",
       "    </tr>\n",
       "  </thead>\n",
       "  <tbody>\n",
       "    <tr>\n",
       "      <th>CCAvg</th>\n",
       "      <td>0.943216</td>\n",
       "    </tr>\n",
       "    <tr>\n",
       "      <th>Experience</th>\n",
       "      <td>1.020985</td>\n",
       "    </tr>\n",
       "    <tr>\n",
       "      <th>Income</th>\n",
       "      <td>1.057927</td>\n",
       "    </tr>\n",
       "    <tr>\n",
       "      <th>Mortgage</th>\n",
       "      <td>0.930168</td>\n",
       "    </tr>\n",
       "    <tr>\n",
       "      <th>Family</th>\n",
       "      <td>1.027897</td>\n",
       "    </tr>\n",
       "    <tr>\n",
       "      <th>Education</th>\n",
       "      <td>1.030638</td>\n",
       "    </tr>\n",
       "    <tr>\n",
       "      <th>Personal Loan</th>\n",
       "      <td>0.322722</td>\n",
       "    </tr>\n",
       "    <tr>\n",
       "      <th>Securities Account</th>\n",
       "      <td>0.422660</td>\n",
       "    </tr>\n",
       "    <tr>\n",
       "      <th>CD Account</th>\n",
       "      <td>32.072033</td>\n",
       "    </tr>\n",
       "    <tr>\n",
       "      <th>Online</th>\n",
       "      <td>0.777061</td>\n",
       "    </tr>\n",
       "  </tbody>\n",
       "</table>\n",
       "</div>"
      ],
      "text/plain": [
       "                        Odds\n",
       "CCAvg               0.943216\n",
       "Experience          1.020985\n",
       "Income              1.057927\n",
       "Mortgage            0.930168\n",
       "Family              1.027897\n",
       "Education           1.030638\n",
       "Personal Loan       0.322722\n",
       "Securities Account  0.422660\n",
       "CD Account         32.072033\n",
       "Online              0.777061"
      ]
     },
     "execution_count": 316,
     "metadata": {},
     "output_type": "execute_result"
    }
   ],
   "source": [
    "# take the exponential of the coefficient of a variable to calculate the odds\n",
    "# 'params' returns the coefficients of all the independent variables\n",
    "# pass the required column name to the parameter, 'columns'\n",
    "df_odds = pd.DataFrame(np.exp(logreg.params), columns= ['Odds']) \n",
    "\n",
    "# print the dataframe\n",
    "df_odds"
   ]
  },
  {
   "cell_type": "markdown",
   "metadata": {},
   "source": [
    "**Interpretation:** \n",
    "\n",
    "\n",
    "\n",
    "odds_CCAvg = 0.935, it implies that the odds increases by a factor of 0.93 due to one unit increase in the CCAvg, keeping other variables constant\n",
    "\n",
    "odds_Experience = 0.985, it implies that the odds increases by a factor of 0.98 due to one unit increase in the Experience, keeping other variables constant\n",
    "\n",
    "odds_Income= 1.084, it implies that the odds  increases by a factor of 1.084 due to one unit increase in the Income, keeping other variables constant\n",
    "\n",
    "odds_Mortage = 0.94, it implies that the odds  by a factor of 0.94 due to one unit increase in the Mortage, keeping other variables constant\n",
    "\n",
    "odds_Family = 1.06, it implies that the odds increases by a factor of 1.06 due to one member increase in the Family, keeping other variables constant\n",
    "\n",
    "odds_Education = 1.001, it implies that the odds  increases by a factor of 1  due to one unit increase in the Education, keeping other variables constant\n",
    " \n",
    "odds_Personal Loan = 0.42, it implies that the odds  increases by a factor of 0.42  due to one unit increase in the Personal loan, keeping other variables constant\n",
    "\n",
    "\n",
    "odds_Securities Account = 0.32, it implies that the odds  increases by a factor of 0.3  due to one unit increase in the Securities_amount, keeping other variables constant\n",
    "\n",
    "odds_CD Account  = 34.76, it implies that the odds  increases by a factor of 34.7  due to one unit increase in the CD Account, keeping other variables constant\n",
    "\n",
    "odds_Online = 0.7, it implies that the odds  increases by a factor of 0.7  due to one unit increase in the Online, keeping other variables constant"
   ]
  },
  {
   "cell_type": "markdown",
   "metadata": {},
   "source": [
    "**Do predictions on the test set.**"
   ]
  },
  {
   "cell_type": "code",
   "execution_count": 251,
   "metadata": {
    "colab": {},
    "colab_type": "code",
    "id": "UP5DA9_qebpC",
    "scrolled": true
   },
   "outputs": [
    {
     "data": {
      "text/plain": [
       "675    0.527831\n",
       "862    0.265091\n",
       "183    0.506967\n",
       "2061   0.923907\n",
       "955    0.583447\n",
       "dtype: float64"
      ]
     },
     "execution_count": 251,
     "metadata": {},
     "output_type": "execute_result"
    }
   ],
   "source": [
    "# let 'y_pred_prob' be the predicted values of y\n",
    "y_pred_prob = logreg.predict(X_test)\n",
    "\n",
    "# print the y_pred_prob\n",
    "y_pred_prob.head()"
   ]
  },
  {
   "cell_type": "markdown",
   "metadata": {},
   "source": [
    "Since the target variable can take only two values either 0 or 1. We decide the cut-off of 0.4. i.e. if 'y_pred_prob' is less than 0.4, then consider it to be 0 else consider it to be 1."
   ]
  },
  {
   "cell_type": "code",
   "execution_count": 252,
   "metadata": {
    "colab": {},
    "colab_type": "code",
    "id": "s-aj8refebpI"
   },
   "outputs": [],
   "source": [
    "# convert probabilities to 0 and 1 using 'if_else'\n",
    "y_pred = [ 0 if x < 0.4 else 1 for x in y_pred_prob]"
   ]
  },
  {
   "cell_type": "code",
   "execution_count": 253,
   "metadata": {},
   "outputs": [
    {
     "data": {
      "text/plain": [
       "[1, 0, 1, 1, 1]"
      ]
     },
     "execution_count": 253,
     "metadata": {},
     "output_type": "execute_result"
    }
   ],
   "source": [
    "# print the first five observations of y_pred\n",
    "y_pred[0:5]"
   ]
  },
  {
   "cell_type": "markdown",
   "metadata": {},
   "source": [
    "#### Plot the confusion matrix."
   ]
  },
  {
   "cell_type": "code",
   "execution_count": 317,
   "metadata": {
    "colab": {},
    "colab_type": "code",
    "id": "Av39nL7SebpS",
    "outputId": "eb72d174-cce1-49f2-abcc-b8a6111b2008"
   },
   "outputs": [
    {
     "data": {
      "image/png": "[encoded data removed]",
      "text/plain": [
       "<Figure size 1080x576 with 1 Axes>"
      ]
     },
     "metadata": {
      "needs_background": "light"
     },
     "output_type": "display_data"
    }
   ],
   "source": [
    "# create a confusion matrix\n",
    "# pass the actual and predicted target values to the confusion_matrix()\n",
    "cm = confusion_matrix(y_test, y_pred)\n",
    "\n",
    "# label the confusion matrix  \n",
    "# pass the matrix as 'data'\n",
    "# pass the required column names to the parameter, 'columns'\n",
    "# pass the required row names to the parameter, 'index'\n",
    "conf_matrix = pd.DataFrame(data = cm,columns = ['Predicted:0','Predicted:1'], index = ['Actual:0','Actual:1'])\n",
    "\n",
    "# plot a heatmap to visualize the confusion matrix\n",
    "# 'annot' prints the value of each grid \n",
    "# 'fmt = d' returns the integer value in each grid\n",
    "# 'cmap' assigns color to each grid\n",
    "# as we do not require different colors for each grid in the heatmap,\n",
    "# use 'ListedColormap' to assign the specified color to the grid\n",
    "# 'cbar = False' will not return the color bar to the right side of the heatmap\n",
    "# 'linewidths' assigns the width to the line that divides each grid\n",
    "# 'annot_kws = {'size':25})' assigns the font size of the annotated text \n",
    "sns.heatmap(conf_matrix, annot = True, fmt = 'd', cmap = ListedColormap(['lightskyblue']), cbar = False, \n",
    "            linewidths = 0.1, annot_kws = {'size':25})\n",
    "\n",
    "# set the font size of x-axis ticks using 'fontsize'\n",
    "plt.xticks(fontsize = 20)\n",
    "\n",
    "# set the font size of y-axis ticks using 'fontsize'\n",
    "plt.yticks(fontsize = 20)\n",
    "\n",
    "# display the plot\n",
    "plt.show()"
   ]
  },
  {
   "cell_type": "code",
   "execution_count": 318,
   "metadata": {},
   "outputs": [],
   "source": [
    "# True Negatives are denoted by 'TN'\n",
    "# Actual 'O' values which are classified correctly\n",
    "TN = cm[0,0]\n",
    "\n",
    "# True Positives are denoted by 'TP'\n",
    "# Actual '1' values which are classified correctly\n",
    "TP = cm[1,1]\n",
    "\n",
    "# False Positives are denoted by 'FP'\n",
    "# it is the type 1 error\n",
    "# Actual 'O' values which are classified wrongly as '1'\n",
    "FP = cm[0,1]\n",
    "\n",
    "# False Negatives are denoted by 'FN'\n",
    "# it is the type 2 error\n",
    "# Actual '1' values which are classified wrongly as '0'\n",
    "FN = cm[1,0]"
   ]
  },
  {
   "cell_type": "markdown",
   "metadata": {},
   "source": [
    "**Compute various performance metrics.**"
   ]
  },
  {
   "cell_type": "markdown",
   "metadata": {},
   "source": [
    "**Precision:** It is defined as the ratio of true positives to the total positive predictions."
   ]
  },
  {
   "cell_type": "code",
   "execution_count": 319,
   "metadata": {},
   "outputs": [
    {
     "data": {
      "text/plain": [
       "0.521108179419525"
      ]
     },
     "execution_count": 319,
     "metadata": {},
     "output_type": "execute_result"
    }
   ],
   "source": [
    "# calculate the precision value\n",
    "precision = TP / (TP+FP)\n",
    "\n",
    "# print the value\n",
    "precision"
   ]
  },
  {
   "cell_type": "markdown",
   "metadata": {},
   "source": [
    "**Recall:** It is the ratio of true positives to the total actual positive observations. It is also known as, `Sensitivity` or `True Positive Rate`."
   ]
  },
  {
   "cell_type": "code",
   "execution_count": 320,
   "metadata": {},
   "outputs": [
    {
     "data": {
      "text/plain": [
       "0.9382422802850356"
      ]
     },
     "execution_count": 320,
     "metadata": {},
     "output_type": "execute_result"
    }
   ],
   "source": [
    "# calculate the recall value\n",
    "recall = TP / (TP+FN)\n",
    "\n",
    "# print the value\n",
    "recall"
   ]
  },
  {
   "cell_type": "markdown",
   "metadata": {},
   "source": [
    "**Specificity:** It is the ratio of true negatives to the total actual negative observations."
   ]
  },
  {
   "cell_type": "code",
   "execution_count": 321,
   "metadata": {},
   "outputs": [
    {
     "data": {
      "text/plain": [
       "0.21258134490238612"
      ]
     },
     "execution_count": 321,
     "metadata": {},
     "output_type": "execute_result"
    }
   ],
   "source": [
    "# calculate the specificity value\n",
    "specificity = TN / (TN+FP)\n",
    "\n",
    "# print the value\n",
    "specificity"
   ]
  },
  {
   "cell_type": "markdown",
   "metadata": {},
   "source": [
    "**f1-score:** It is defined as the harmonic mean of precision and recall."
   ]
  },
  {
   "cell_type": "code",
   "execution_count": 322,
   "metadata": {},
   "outputs": [
    {
     "data": {
      "text/plain": [
       "0.6700593723494486"
      ]
     },
     "execution_count": 322,
     "metadata": {},
     "output_type": "execute_result"
    }
   ],
   "source": [
    "# calculate the f1_score\n",
    "f1_score = 2*((precision*recall)/(precision+recall))\n",
    "\n",
    "# print the f1_score\n",
    "f1_score"
   ]
  },
  {
   "cell_type": "markdown",
   "metadata": {},
   "source": [
    "**Accuracy:** It is the ratio of correct predictions (i.e. TN+TP) to the total observations. According to the confusion matrix, it is the ratio of the sum of diagonal elements to the sum of all the in the matrix. It is not a very good measure if the dataset is imbalanced."
   ]
  },
  {
   "cell_type": "code",
   "execution_count": 323,
   "metadata": {},
   "outputs": [
    {
     "data": {
      "text/plain": [
       "0.5589569160997733"
      ]
     },
     "execution_count": 323,
     "metadata": {},
     "output_type": "execute_result"
    }
   ],
   "source": [
    "# calculate the accuracy\n",
    "accuracy = (TN+TP) / (TN+FP+FN+TP)\n",
    "\n",
    "# print the accuracy\n",
    "accuracy"
   ]
  },
  {
   "cell_type": "markdown",
   "metadata": {},
   "source": [
    "We can also calculate the above measures using the `classification_report()`"
   ]
  },
  {
   "cell_type": "code",
   "execution_count": 324,
   "metadata": {},
   "outputs": [
    {
     "name": "stdout",
     "output_type": "stream",
     "text": [
      "              precision    recall  f1-score   support\n",
      "\n",
      "           0       0.79      0.21      0.34       461\n",
      "           1       0.52      0.94      0.67       421\n",
      "\n",
      "    accuracy                           0.56       882\n",
      "   macro avg       0.66      0.58      0.50       882\n",
      "weighted avg       0.66      0.56      0.49       882\n",
      "\n"
     ]
    }
   ],
   "source": [
    "# calculate various performance measures\n",
    "acc_table = classification_report(y_test, y_pred)\n",
    "\n",
    "# print the table\n",
    "print(acc_table)"
   ]
  },
  {
   "cell_type": "markdown",
   "metadata": {},
   "source": [
    "**Interpretation:** \n",
    "\n",
    "From the above output, we can infer that the recall of the positive class is known as `sensitivity` and the recall of the negative class is `specificity`.\n",
    "\n",
    "`support` is the number of observations in the corresponding class.\n",
    "\n",
    "The `macro average` in the output is obtained by averaging the unweighted mean per label and the `weighted average` is given by averaging the support-weighted mean per label."
   ]
  },
  {
   "cell_type": "markdown",
   "metadata": {},
   "source": [
    "**Kappa score:** It is a measure of inter-rater reliability. For logistic regression, the actual and predicted values of the target variable are the raters."
   ]
  },
  {
   "cell_type": "code",
   "execution_count": 262,
   "metadata": {},
   "outputs": [
    {
     "name": "stdout",
     "output_type": "stream",
     "text": [
      "kappa value: 0.14576164843318185\n"
     ]
    }
   ],
   "source": [
    "# compute the kappa value\n",
    "kappa = cohen_kappa_score(y_test, y_pred)\n",
    "\n",
    "# print the kappa value\n",
    "print('kappa value:',kappa)"
   ]
  },
  {
   "cell_type": "markdown",
   "metadata": {},
   "source": [
    "**Interpretation:** As the kappa score for the full model (with cut-off probability 0.4) is 0.14, we can say that there is less agreement between the actual and predicted values."
   ]
  },
  {
   "cell_type": "markdown",
   "metadata": {},
   "source": [
    "#### Plot the ROC curve.\n",
    "\n",
    "ROC curve is plotted with the true positive rate (tpr) on the y-axis and false positive rate (fpr) on the x-axis. The area under this curve is used as a measure of separability of the model."
   ]
  },
  {
   "cell_type": "code",
   "execution_count": 325,
   "metadata": {
    "colab": {},
    "colab_type": "code",
    "id": "Edtmcgdlebpe"
   },
   "outputs": [
    {
     "data": {
      "image/png": "[encoded data removed]",
      "text/plain": [
       "<Figure size 1080x576 with 1 Axes>"
      ]
     },
     "metadata": {
      "needs_background": "light"
     },
     "output_type": "display_data"
    }
   ],
   "source": [
    "# the roc_curve() returns the values for false positive rate, true positive rate and threshold\n",
    "# pass the actual target values and predicted probabilities to the function\n",
    "fpr, tpr, thresholds = roc_curve(y_test, y_pred_prob)\n",
    "\n",
    "# plot the ROC curve\n",
    "plt.plot(fpr, tpr)\n",
    "\n",
    "# set limits for x and y axes\n",
    "plt.xlim([0.0, 1.0])\n",
    "plt.ylim([0.0, 1.0])\n",
    "\n",
    "# plot the straight line showing worst prediction for the model\n",
    "plt.plot([0, 1], [0, 1],'r--')\n",
    "\n",
    "# add plot and axes labels\n",
    "# set text size using 'fontsize'\n",
    "plt.title('ROC curve for Admission Prediction Classifier (Full Model)', fontsize = 15)\n",
    "plt.xlabel('False positive rate (1-Specificity)', fontsize = 15)\n",
    "plt.ylabel('True positive rate (Sensitivity)', fontsize = 15)\n",
    "\n",
    "# add the AUC score to the plot\n",
    "# 'x' and 'y' gives position of the text\n",
    "# 's' is the text \n",
    "# use round() to round-off the AUC score upto 4 digits\n",
    "plt.text(x = 0.02, y = 0.9, s = ('AUC Score:', round(metrics.roc_auc_score(y_test, y_pred_prob),4)))\n",
    "                               \n",
    "# plot the grid\n",
    "plt.grid(True)"
   ]
  },
  {
   "cell_type": "markdown",
   "metadata": {},
   "source": [
    "**Interpretation:** The red dotted line represents the ROC curve of a purely random classifier; a good classifier stays as far away from that line as possible (toward the top-left corner).<br>\n"
   ]
  },
  {
   "cell_type": "markdown",
   "metadata": {},
   "source": [
    "<a id=\"cut_off\"></a>\n",
    "## 3.1 Identify the Best Cut-off Value"
   ]
  },
  {
   "cell_type": "markdown",
   "metadata": {},
   "source": [
    "**Tabulate the performance measures for different cut-offs.**\n",
    "\n",
    "The performance measures that we obtained above, are for the cut_off = 0.5. Now, let us consider a list of values as cut-off and calculate the different performance measures."
   ]
  },
  {
   "cell_type": "code",
   "execution_count": 326,
   "metadata": {},
   "outputs": [],
   "source": [
    "# consider a list of values for cut-off\n",
    "cutoff = [0.1, 0.2, 0.3, 0.4, 0.5, 0.6, 0.7, 0.8, 0.9]\n",
    "\n",
    "# use the for loop to compute performance measures for each value of the cut-off\n",
    "# call the update_score_card() to update the score card for each cut-off\n",
    "# pass the model and cut-off value to the function\n",
    "for value in cutoff:\n",
    "    update_score_card(logreg, value)"
   ]
  },
  {
   "cell_type": "code",
   "execution_count": 327,
   "metadata": {},
   "outputs": [
    {
     "name": "stdout",
     "output_type": "stream",
     "text": [
      "Score Card for Logistic regression:\n"
     ]
    },
    {
     "data": {
      "text/html": [
       "<style  type=\"text/css\" >\n",
       "    #T_4eccebdb_e7b5_11eb_9a65_4cebbd96636drow3_col6 {\n",
       "            background-color:  lightblue;\n",
       "        }    #T_4eccebdb_e7b5_11eb_9a65_4cebbd96636drow7_col1 {\n",
       "            background-color:  lightblue;\n",
       "        }    #T_4eccebdb_e7b5_11eb_9a65_4cebbd96636drow7_col4 {\n",
       "            background-color:  lightblue;\n",
       "        }    #T_4eccebdb_e7b5_11eb_9a65_4cebbd96636drow7_col5 {\n",
       "            background-color:  lightblue;\n",
       "        }</style><table id=\"T_4eccebdb_e7b5_11eb_9a65_4cebbd96636d\" ><thead>    <tr>        <th class=\"blank level0\" ></th>        <th class=\"col_heading level0 col0\" >Probability Cutoff</th>        <th class=\"col_heading level0 col1\" >AUC Score</th>        <th class=\"col_heading level0 col2\" >Precision Score</th>        <th class=\"col_heading level0 col3\" >Recall Score</th>        <th class=\"col_heading level0 col4\" >Accuracy Score</th>        <th class=\"col_heading level0 col5\" >Kappa Score</th>        <th class=\"col_heading level0 col6\" >f1-score</th>    </tr></thead><tbody>\n",
       "                <tr>\n",
       "                        <th id=\"T_4eccebdb_e7b5_11eb_9a65_4cebbd96636dlevel0_row0\" class=\"row_heading level0 row0\" >0</th>\n",
       "                        <td id=\"T_4eccebdb_e7b5_11eb_9a65_4cebbd96636drow0_col0\" class=\"data row0 col0\" >0.100000</td>\n",
       "                        <td id=\"T_4eccebdb_e7b5_11eb_9a65_4cebbd96636drow0_col1\" class=\"data row0 col1\" >0.500000</td>\n",
       "                        <td id=\"T_4eccebdb_e7b5_11eb_9a65_4cebbd96636drow0_col2\" class=\"data row0 col2\" >0.477324</td>\n",
       "                        <td id=\"T_4eccebdb_e7b5_11eb_9a65_4cebbd96636drow0_col3\" class=\"data row0 col3\" >1.000000</td>\n",
       "                        <td id=\"T_4eccebdb_e7b5_11eb_9a65_4cebbd96636drow0_col4\" class=\"data row0 col4\" >0.477324</td>\n",
       "                        <td id=\"T_4eccebdb_e7b5_11eb_9a65_4cebbd96636drow0_col5\" class=\"data row0 col5\" >0.000000</td>\n",
       "                        <td id=\"T_4eccebdb_e7b5_11eb_9a65_4cebbd96636drow0_col6\" class=\"data row0 col6\" >0.646201</td>\n",
       "            </tr>\n",
       "            <tr>\n",
       "                        <th id=\"T_4eccebdb_e7b5_11eb_9a65_4cebbd96636dlevel0_row1\" class=\"row_heading level0 row1\" >1</th>\n",
       "                        <td id=\"T_4eccebdb_e7b5_11eb_9a65_4cebbd96636drow1_col0\" class=\"data row1 col0\" >0.200000</td>\n",
       "                        <td id=\"T_4eccebdb_e7b5_11eb_9a65_4cebbd96636drow1_col1\" class=\"data row1 col1\" >0.503254</td>\n",
       "                        <td id=\"T_4eccebdb_e7b5_11eb_9a65_4cebbd96636drow1_col2\" class=\"data row1 col2\" >0.478953</td>\n",
       "                        <td id=\"T_4eccebdb_e7b5_11eb_9a65_4cebbd96636drow1_col3\" class=\"data row1 col3\" >1.000000</td>\n",
       "                        <td id=\"T_4eccebdb_e7b5_11eb_9a65_4cebbd96636drow1_col4\" class=\"data row1 col4\" >0.480726</td>\n",
       "                        <td id=\"T_4eccebdb_e7b5_11eb_9a65_4cebbd96636drow1_col5\" class=\"data row1 col5\" >0.006214</td>\n",
       "                        <td id=\"T_4eccebdb_e7b5_11eb_9a65_4cebbd96636drow1_col6\" class=\"data row1 col6\" >0.647692</td>\n",
       "            </tr>\n",
       "            <tr>\n",
       "                        <th id=\"T_4eccebdb_e7b5_11eb_9a65_4cebbd96636dlevel0_row2\" class=\"row_heading level0 row2\" >2</th>\n",
       "                        <td id=\"T_4eccebdb_e7b5_11eb_9a65_4cebbd96636drow2_col0\" class=\"data row2 col0\" >0.300000</td>\n",
       "                        <td id=\"T_4eccebdb_e7b5_11eb_9a65_4cebbd96636drow2_col1\" class=\"data row2 col1\" >0.546177</td>\n",
       "                        <td id=\"T_4eccebdb_e7b5_11eb_9a65_4cebbd96636drow2_col2\" class=\"data row2 col2\" >0.502475</td>\n",
       "                        <td id=\"T_4eccebdb_e7b5_11eb_9a65_4cebbd96636drow2_col3\" class=\"data row2 col3\" >0.964371</td>\n",
       "                        <td id=\"T_4eccebdb_e7b5_11eb_9a65_4cebbd96636drow2_col4\" class=\"data row2 col4\" >0.527211</td>\n",
       "                        <td id=\"T_4eccebdb_e7b5_11eb_9a65_4cebbd96636drow2_col5\" class=\"data row2 col5\" >0.088811</td>\n",
       "                        <td id=\"T_4eccebdb_e7b5_11eb_9a65_4cebbd96636drow2_col6\" class=\"data row2 col6\" >0.660700</td>\n",
       "            </tr>\n",
       "            <tr>\n",
       "                        <th id=\"T_4eccebdb_e7b5_11eb_9a65_4cebbd96636dlevel0_row3\" class=\"row_heading level0 row3\" >3</th>\n",
       "                        <td id=\"T_4eccebdb_e7b5_11eb_9a65_4cebbd96636drow3_col0\" class=\"data row3 col0\" >0.400000</td>\n",
       "                        <td id=\"T_4eccebdb_e7b5_11eb_9a65_4cebbd96636drow3_col1\" class=\"data row3 col1\" >0.560227</td>\n",
       "                        <td id=\"T_4eccebdb_e7b5_11eb_9a65_4cebbd96636drow3_col2\" class=\"data row3 col2\" >0.511658</td>\n",
       "                        <td id=\"T_4eccebdb_e7b5_11eb_9a65_4cebbd96636drow3_col3\" class=\"data row3 col3\" >0.938242</td>\n",
       "                        <td id=\"T_4eccebdb_e7b5_11eb_9a65_4cebbd96636drow3_col4\" class=\"data row3 col4\" >0.543084</td>\n",
       "                        <td id=\"T_4eccebdb_e7b5_11eb_9a65_4cebbd96636drow3_col5\" class=\"data row3 col5\" >0.116250</td>\n",
       "                        <td id=\"T_4eccebdb_e7b5_11eb_9a65_4cebbd96636drow3_col6\" class=\"data row3 col6\" >0.662196</td>\n",
       "            </tr>\n",
       "            <tr>\n",
       "                        <th id=\"T_4eccebdb_e7b5_11eb_9a65_4cebbd96636dlevel0_row4\" class=\"row_heading level0 row4\" >4</th>\n",
       "                        <td id=\"T_4eccebdb_e7b5_11eb_9a65_4cebbd96636drow4_col0\" class=\"data row4 col0\" >0.500000</td>\n",
       "                        <td id=\"T_4eccebdb_e7b5_11eb_9a65_4cebbd96636drow4_col1\" class=\"data row4 col1\" >0.553408</td>\n",
       "                        <td id=\"T_4eccebdb_e7b5_11eb_9a65_4cebbd96636drow4_col2\" class=\"data row4 col2\" >0.543909</td>\n",
       "                        <td id=\"T_4eccebdb_e7b5_11eb_9a65_4cebbd96636drow4_col3\" class=\"data row4 col3\" >0.456057</td>\n",
       "                        <td id=\"T_4eccebdb_e7b5_11eb_9a65_4cebbd96636drow4_col4\" class=\"data row4 col4\" >0.557823</td>\n",
       "                        <td id=\"T_4eccebdb_e7b5_11eb_9a65_4cebbd96636drow4_col5\" class=\"data row4 col5\" >0.107570</td>\n",
       "                        <td id=\"T_4eccebdb_e7b5_11eb_9a65_4cebbd96636drow4_col6\" class=\"data row4 col6\" >0.496124</td>\n",
       "            </tr>\n",
       "            <tr>\n",
       "                        <th id=\"T_4eccebdb_e7b5_11eb_9a65_4cebbd96636dlevel0_row5\" class=\"row_heading level0 row5\" >5</th>\n",
       "                        <td id=\"T_4eccebdb_e7b5_11eb_9a65_4cebbd96636drow5_col0\" class=\"data row5 col0\" >0.600000</td>\n",
       "                        <td id=\"T_4eccebdb_e7b5_11eb_9a65_4cebbd96636drow5_col1\" class=\"data row5 col1\" >0.563873</td>\n",
       "                        <td id=\"T_4eccebdb_e7b5_11eb_9a65_4cebbd96636drow5_col2\" class=\"data row5 col2\" >0.873239</td>\n",
       "                        <td id=\"T_4eccebdb_e7b5_11eb_9a65_4cebbd96636drow5_col3\" class=\"data row5 col3\" >0.147268</td>\n",
       "                        <td id=\"T_4eccebdb_e7b5_11eb_9a65_4cebbd96636drow5_col4\" class=\"data row5 col4\" >0.582766</td>\n",
       "                        <td id=\"T_4eccebdb_e7b5_11eb_9a65_4cebbd96636drow5_col5\" class=\"data row5 col5\" >0.132525</td>\n",
       "                        <td id=\"T_4eccebdb_e7b5_11eb_9a65_4cebbd96636drow5_col6\" class=\"data row5 col6\" >0.252033</td>\n",
       "            </tr>\n",
       "            <tr>\n",
       "                        <th id=\"T_4eccebdb_e7b5_11eb_9a65_4cebbd96636dlevel0_row6\" class=\"row_heading level0 row6\" >6</th>\n",
       "                        <td id=\"T_4eccebdb_e7b5_11eb_9a65_4cebbd96636drow6_col0\" class=\"data row6 col0\" >0.700000</td>\n",
       "                        <td id=\"T_4eccebdb_e7b5_11eb_9a65_4cebbd96636drow6_col1\" class=\"data row6 col1\" >0.563873</td>\n",
       "                        <td id=\"T_4eccebdb_e7b5_11eb_9a65_4cebbd96636drow6_col2\" class=\"data row6 col2\" >0.873239</td>\n",
       "                        <td id=\"T_4eccebdb_e7b5_11eb_9a65_4cebbd96636drow6_col3\" class=\"data row6 col3\" >0.147268</td>\n",
       "                        <td id=\"T_4eccebdb_e7b5_11eb_9a65_4cebbd96636drow6_col4\" class=\"data row6 col4\" >0.582766</td>\n",
       "                        <td id=\"T_4eccebdb_e7b5_11eb_9a65_4cebbd96636drow6_col5\" class=\"data row6 col5\" >0.132525</td>\n",
       "                        <td id=\"T_4eccebdb_e7b5_11eb_9a65_4cebbd96636drow6_col6\" class=\"data row6 col6\" >0.252033</td>\n",
       "            </tr>\n",
       "            <tr>\n",
       "                        <th id=\"T_4eccebdb_e7b5_11eb_9a65_4cebbd96636dlevel0_row7\" class=\"row_heading level0 row7\" >7</th>\n",
       "                        <td id=\"T_4eccebdb_e7b5_11eb_9a65_4cebbd96636drow7_col0\" class=\"data row7 col0\" >0.800000</td>\n",
       "                        <td id=\"T_4eccebdb_e7b5_11eb_9a65_4cebbd96636drow7_col1\" class=\"data row7 col1\" >0.564751</td>\n",
       "                        <td id=\"T_4eccebdb_e7b5_11eb_9a65_4cebbd96636drow7_col2\" class=\"data row7 col2\" >0.909091</td>\n",
       "                        <td id=\"T_4eccebdb_e7b5_11eb_9a65_4cebbd96636drow7_col3\" class=\"data row7 col3\" >0.142518</td>\n",
       "                        <td id=\"T_4eccebdb_e7b5_11eb_9a65_4cebbd96636drow7_col4\" class=\"data row7 col4\" >0.583900</td>\n",
       "                        <td id=\"T_4eccebdb_e7b5_11eb_9a65_4cebbd96636drow7_col5\" class=\"data row7 col5\" >0.134420</td>\n",
       "                        <td id=\"T_4eccebdb_e7b5_11eb_9a65_4cebbd96636drow7_col6\" class=\"data row7 col6\" >0.246407</td>\n",
       "            </tr>\n",
       "            <tr>\n",
       "                        <th id=\"T_4eccebdb_e7b5_11eb_9a65_4cebbd96636dlevel0_row8\" class=\"row_heading level0 row8\" >8</th>\n",
       "                        <td id=\"T_4eccebdb_e7b5_11eb_9a65_4cebbd96636drow8_col0\" class=\"data row8 col0\" >0.900000</td>\n",
       "                        <td id=\"T_4eccebdb_e7b5_11eb_9a65_4cebbd96636drow8_col1\" class=\"data row8 col1\" >0.547815</td>\n",
       "                        <td id=\"T_4eccebdb_e7b5_11eb_9a65_4cebbd96636drow8_col2\" class=\"data row8 col2\" >0.934783</td>\n",
       "                        <td id=\"T_4eccebdb_e7b5_11eb_9a65_4cebbd96636drow8_col3\" class=\"data row8 col3\" >0.102138</td>\n",
       "                        <td id=\"T_4eccebdb_e7b5_11eb_9a65_4cebbd96636drow8_col4\" class=\"data row8 col4\" >0.568027</td>\n",
       "                        <td id=\"T_4eccebdb_e7b5_11eb_9a65_4cebbd96636drow8_col5\" class=\"data row8 col5\" >0.099474</td>\n",
       "                        <td id=\"T_4eccebdb_e7b5_11eb_9a65_4cebbd96636drow8_col6\" class=\"data row8 col6\" >0.184154</td>\n",
       "            </tr>\n",
       "    </tbody></table>"
      ],
      "text/plain": [
       "<pandas.io.formats.style.Styler at 0x261dc5e76d0>"
      ]
     },
     "execution_count": 327,
     "metadata": {},
     "output_type": "execute_result"
    }
   ],
   "source": [
    "# print the score card \n",
    "print('Score Card for Logistic regression:')\n",
    "\n",
    "# sort the dataframe based on the probability cut-off values ascending order\n",
    "# 'reset_index' resets the index of the dataframe\n",
    "# 'drop = True' drops the previous index\n",
    "score_card = score_card.sort_values('Probability Cutoff').reset_index(drop = True)\n",
    "\n",
    "# color the cell in the columns 'AUC Score', 'Accuracy Score', 'Kappa Score', 'f1-score' having maximum values\n",
    "# 'style.highlight_max' assigns color to the maximum value\n",
    "# pass specified color to the parameter, 'color'\n",
    "# pass the data to limit the color assignment to the parameter, 'subset' \n",
    "score_card.style.highlight_max(color = 'lightblue', subset = ['AUC Score', 'Accuracy Score', 'Kappa Score', 'f1-score'])"
   ]
  },
  {
   "cell_type": "markdown",
   "metadata": {},
   "source": [
    "**Interpretation:** The above dataframe shows that, the model cut_off probability 0.4, returns the f1-score\n"
   ]
  },
  {
   "cell_type": "markdown",
   "metadata": {},
   "source": [
    "## Hyperparamter Tuned Model"
   ]
  },
  {
   "cell_type": "code",
   "execution_count": 238,
   "metadata": {},
   "outputs": [
    {
     "data": {
      "text/html": [
       "<style  type=\"text/css\" >\n",
       "</style><table id=\"T_7ccac23e_e784_11eb_9c4a_4cebbd96636d\" ><thead>    <tr>        <th class=\"blank level0\" ></th>        <th class=\"col_heading level0 col0\" >Description</th>        <th class=\"col_heading level0 col1\" >Value</th>    </tr></thead><tbody>\n",
       "                <tr>\n",
       "                        <th id=\"T_7ccac23e_e784_11eb_9c4a_4cebbd96636dlevel0_row0\" class=\"row_heading level0 row0\" >0</th>\n",
       "                        <td id=\"T_7ccac23e_e784_11eb_9c4a_4cebbd96636drow0_col0\" class=\"data row0 col0\" >session_id</td>\n",
       "                        <td id=\"T_7ccac23e_e784_11eb_9c4a_4cebbd96636drow0_col1\" class=\"data row0 col1\" >6109</td>\n",
       "            </tr>\n",
       "            <tr>\n",
       "                        <th id=\"T_7ccac23e_e784_11eb_9c4a_4cebbd96636dlevel0_row1\" class=\"row_heading level0 row1\" >1</th>\n",
       "                        <td id=\"T_7ccac23e_e784_11eb_9c4a_4cebbd96636drow1_col0\" class=\"data row1 col0\" >Target</td>\n",
       "                        <td id=\"T_7ccac23e_e784_11eb_9c4a_4cebbd96636drow1_col1\" class=\"data row1 col1\" >CreditCard</td>\n",
       "            </tr>\n",
       "            <tr>\n",
       "                        <th id=\"T_7ccac23e_e784_11eb_9c4a_4cebbd96636dlevel0_row2\" class=\"row_heading level0 row2\" >2</th>\n",
       "                        <td id=\"T_7ccac23e_e784_11eb_9c4a_4cebbd96636drow2_col0\" class=\"data row2 col0\" >Target Type</td>\n",
       "                        <td id=\"T_7ccac23e_e784_11eb_9c4a_4cebbd96636drow2_col1\" class=\"data row2 col1\" >Binary</td>\n",
       "            </tr>\n",
       "            <tr>\n",
       "                        <th id=\"T_7ccac23e_e784_11eb_9c4a_4cebbd96636dlevel0_row3\" class=\"row_heading level0 row3\" >3</th>\n",
       "                        <td id=\"T_7ccac23e_e784_11eb_9c4a_4cebbd96636drow3_col0\" class=\"data row3 col0\" >Label Encoded</td>\n",
       "                        <td id=\"T_7ccac23e_e784_11eb_9c4a_4cebbd96636drow3_col1\" class=\"data row3 col1\" >0: 0, 1: 1</td>\n",
       "            </tr>\n",
       "            <tr>\n",
       "                        <th id=\"T_7ccac23e_e784_11eb_9c4a_4cebbd96636dlevel0_row4\" class=\"row_heading level0 row4\" >4</th>\n",
       "                        <td id=\"T_7ccac23e_e784_11eb_9c4a_4cebbd96636drow4_col0\" class=\"data row4 col0\" >Original Data</td>\n",
       "                        <td id=\"T_7ccac23e_e784_11eb_9c4a_4cebbd96636drow4_col1\" class=\"data row4 col1\" >(5000, 12)</td>\n",
       "            </tr>\n",
       "            <tr>\n",
       "                        <th id=\"T_7ccac23e_e784_11eb_9c4a_4cebbd96636dlevel0_row5\" class=\"row_heading level0 row5\" >5</th>\n",
       "                        <td id=\"T_7ccac23e_e784_11eb_9c4a_4cebbd96636drow5_col0\" class=\"data row5 col0\" >Missing Values</td>\n",
       "                        <td id=\"T_7ccac23e_e784_11eb_9c4a_4cebbd96636drow5_col1\" class=\"data row5 col1\" >False</td>\n",
       "            </tr>\n",
       "            <tr>\n",
       "                        <th id=\"T_7ccac23e_e784_11eb_9c4a_4cebbd96636dlevel0_row6\" class=\"row_heading level0 row6\" >6</th>\n",
       "                        <td id=\"T_7ccac23e_e784_11eb_9c4a_4cebbd96636drow6_col0\" class=\"data row6 col0\" >Numeric Features</td>\n",
       "                        <td id=\"T_7ccac23e_e784_11eb_9c4a_4cebbd96636drow6_col1\" class=\"data row6 col1\" >5</td>\n",
       "            </tr>\n",
       "            <tr>\n",
       "                        <th id=\"T_7ccac23e_e784_11eb_9c4a_4cebbd96636dlevel0_row7\" class=\"row_heading level0 row7\" >7</th>\n",
       "                        <td id=\"T_7ccac23e_e784_11eb_9c4a_4cebbd96636drow7_col0\" class=\"data row7 col0\" >Categorical Features</td>\n",
       "                        <td id=\"T_7ccac23e_e784_11eb_9c4a_4cebbd96636drow7_col1\" class=\"data row7 col1\" >6</td>\n",
       "            </tr>\n",
       "            <tr>\n",
       "                        <th id=\"T_7ccac23e_e784_11eb_9c4a_4cebbd96636dlevel0_row8\" class=\"row_heading level0 row8\" >8</th>\n",
       "                        <td id=\"T_7ccac23e_e784_11eb_9c4a_4cebbd96636drow8_col0\" class=\"data row8 col0\" >Ordinal Features</td>\n",
       "                        <td id=\"T_7ccac23e_e784_11eb_9c4a_4cebbd96636drow8_col1\" class=\"data row8 col1\" >False</td>\n",
       "            </tr>\n",
       "            <tr>\n",
       "                        <th id=\"T_7ccac23e_e784_11eb_9c4a_4cebbd96636dlevel0_row9\" class=\"row_heading level0 row9\" >9</th>\n",
       "                        <td id=\"T_7ccac23e_e784_11eb_9c4a_4cebbd96636drow9_col0\" class=\"data row9 col0\" >High Cardinality Features</td>\n",
       "                        <td id=\"T_7ccac23e_e784_11eb_9c4a_4cebbd96636drow9_col1\" class=\"data row9 col1\" >False</td>\n",
       "            </tr>\n",
       "            <tr>\n",
       "                        <th id=\"T_7ccac23e_e784_11eb_9c4a_4cebbd96636dlevel0_row10\" class=\"row_heading level0 row10\" >10</th>\n",
       "                        <td id=\"T_7ccac23e_e784_11eb_9c4a_4cebbd96636drow10_col0\" class=\"data row10 col0\" >High Cardinality Method</td>\n",
       "                        <td id=\"T_7ccac23e_e784_11eb_9c4a_4cebbd96636drow10_col1\" class=\"data row10 col1\" >None</td>\n",
       "            </tr>\n",
       "            <tr>\n",
       "                        <th id=\"T_7ccac23e_e784_11eb_9c4a_4cebbd96636dlevel0_row11\" class=\"row_heading level0 row11\" >11</th>\n",
       "                        <td id=\"T_7ccac23e_e784_11eb_9c4a_4cebbd96636drow11_col0\" class=\"data row11 col0\" >Transformed Train Set</td>\n",
       "                        <td id=\"T_7ccac23e_e784_11eb_9c4a_4cebbd96636drow11_col1\" class=\"data row11 col1\" >(3499, 16)</td>\n",
       "            </tr>\n",
       "            <tr>\n",
       "                        <th id=\"T_7ccac23e_e784_11eb_9c4a_4cebbd96636dlevel0_row12\" class=\"row_heading level0 row12\" >12</th>\n",
       "                        <td id=\"T_7ccac23e_e784_11eb_9c4a_4cebbd96636drow12_col0\" class=\"data row12 col0\" >Transformed Test Set</td>\n",
       "                        <td id=\"T_7ccac23e_e784_11eb_9c4a_4cebbd96636drow12_col1\" class=\"data row12 col1\" >(1501, 16)</td>\n",
       "            </tr>\n",
       "            <tr>\n",
       "                        <th id=\"T_7ccac23e_e784_11eb_9c4a_4cebbd96636dlevel0_row13\" class=\"row_heading level0 row13\" >13</th>\n",
       "                        <td id=\"T_7ccac23e_e784_11eb_9c4a_4cebbd96636drow13_col0\" class=\"data row13 col0\" >Shuffle Train-Test</td>\n",
       "                        <td id=\"T_7ccac23e_e784_11eb_9c4a_4cebbd96636drow13_col1\" class=\"data row13 col1\" >True</td>\n",
       "            </tr>\n",
       "            <tr>\n",
       "                        <th id=\"T_7ccac23e_e784_11eb_9c4a_4cebbd96636dlevel0_row14\" class=\"row_heading level0 row14\" >14</th>\n",
       "                        <td id=\"T_7ccac23e_e784_11eb_9c4a_4cebbd96636drow14_col0\" class=\"data row14 col0\" >Stratify Train-Test</td>\n",
       "                        <td id=\"T_7ccac23e_e784_11eb_9c4a_4cebbd96636drow14_col1\" class=\"data row14 col1\" >False</td>\n",
       "            </tr>\n",
       "            <tr>\n",
       "                        <th id=\"T_7ccac23e_e784_11eb_9c4a_4cebbd96636dlevel0_row15\" class=\"row_heading level0 row15\" >15</th>\n",
       "                        <td id=\"T_7ccac23e_e784_11eb_9c4a_4cebbd96636drow15_col0\" class=\"data row15 col0\" >Fold Generator</td>\n",
       "                        <td id=\"T_7ccac23e_e784_11eb_9c4a_4cebbd96636drow15_col1\" class=\"data row15 col1\" >StratifiedKFold</td>\n",
       "            </tr>\n",
       "            <tr>\n",
       "                        <th id=\"T_7ccac23e_e784_11eb_9c4a_4cebbd96636dlevel0_row16\" class=\"row_heading level0 row16\" >16</th>\n",
       "                        <td id=\"T_7ccac23e_e784_11eb_9c4a_4cebbd96636drow16_col0\" class=\"data row16 col0\" >Fold Number</td>\n",
       "                        <td id=\"T_7ccac23e_e784_11eb_9c4a_4cebbd96636drow16_col1\" class=\"data row16 col1\" >10</td>\n",
       "            </tr>\n",
       "            <tr>\n",
       "                        <th id=\"T_7ccac23e_e784_11eb_9c4a_4cebbd96636dlevel0_row17\" class=\"row_heading level0 row17\" >17</th>\n",
       "                        <td id=\"T_7ccac23e_e784_11eb_9c4a_4cebbd96636drow17_col0\" class=\"data row17 col0\" >CPU Jobs</td>\n",
       "                        <td id=\"T_7ccac23e_e784_11eb_9c4a_4cebbd96636drow17_col1\" class=\"data row17 col1\" >-1</td>\n",
       "            </tr>\n",
       "            <tr>\n",
       "                        <th id=\"T_7ccac23e_e784_11eb_9c4a_4cebbd96636dlevel0_row18\" class=\"row_heading level0 row18\" >18</th>\n",
       "                        <td id=\"T_7ccac23e_e784_11eb_9c4a_4cebbd96636drow18_col0\" class=\"data row18 col0\" >Use GPU</td>\n",
       "                        <td id=\"T_7ccac23e_e784_11eb_9c4a_4cebbd96636drow18_col1\" class=\"data row18 col1\" >False</td>\n",
       "            </tr>\n",
       "            <tr>\n",
       "                        <th id=\"T_7ccac23e_e784_11eb_9c4a_4cebbd96636dlevel0_row19\" class=\"row_heading level0 row19\" >19</th>\n",
       "                        <td id=\"T_7ccac23e_e784_11eb_9c4a_4cebbd96636drow19_col0\" class=\"data row19 col0\" >Log Experiment</td>\n",
       "                        <td id=\"T_7ccac23e_e784_11eb_9c4a_4cebbd96636drow19_col1\" class=\"data row19 col1\" >False</td>\n",
       "            </tr>\n",
       "            <tr>\n",
       "                        <th id=\"T_7ccac23e_e784_11eb_9c4a_4cebbd96636dlevel0_row20\" class=\"row_heading level0 row20\" >20</th>\n",
       "                        <td id=\"T_7ccac23e_e784_11eb_9c4a_4cebbd96636drow20_col0\" class=\"data row20 col0\" >Experiment Name</td>\n",
       "                        <td id=\"T_7ccac23e_e784_11eb_9c4a_4cebbd96636drow20_col1\" class=\"data row20 col1\" >clf-default-name</td>\n",
       "            </tr>\n",
       "            <tr>\n",
       "                        <th id=\"T_7ccac23e_e784_11eb_9c4a_4cebbd96636dlevel0_row21\" class=\"row_heading level0 row21\" >21</th>\n",
       "                        <td id=\"T_7ccac23e_e784_11eb_9c4a_4cebbd96636drow21_col0\" class=\"data row21 col0\" >USI</td>\n",
       "                        <td id=\"T_7ccac23e_e784_11eb_9c4a_4cebbd96636drow21_col1\" class=\"data row21 col1\" >c8ab</td>\n",
       "            </tr>\n",
       "            <tr>\n",
       "                        <th id=\"T_7ccac23e_e784_11eb_9c4a_4cebbd96636dlevel0_row22\" class=\"row_heading level0 row22\" >22</th>\n",
       "                        <td id=\"T_7ccac23e_e784_11eb_9c4a_4cebbd96636drow22_col0\" class=\"data row22 col0\" >Imputation Type</td>\n",
       "                        <td id=\"T_7ccac23e_e784_11eb_9c4a_4cebbd96636drow22_col1\" class=\"data row22 col1\" >simple</td>\n",
       "            </tr>\n",
       "            <tr>\n",
       "                        <th id=\"T_7ccac23e_e784_11eb_9c4a_4cebbd96636dlevel0_row23\" class=\"row_heading level0 row23\" >23</th>\n",
       "                        <td id=\"T_7ccac23e_e784_11eb_9c4a_4cebbd96636drow23_col0\" class=\"data row23 col0\" >Iterative Imputation Iteration</td>\n",
       "                        <td id=\"T_7ccac23e_e784_11eb_9c4a_4cebbd96636drow23_col1\" class=\"data row23 col1\" >None</td>\n",
       "            </tr>\n",
       "            <tr>\n",
       "                        <th id=\"T_7ccac23e_e784_11eb_9c4a_4cebbd96636dlevel0_row24\" class=\"row_heading level0 row24\" >24</th>\n",
       "                        <td id=\"T_7ccac23e_e784_11eb_9c4a_4cebbd96636drow24_col0\" class=\"data row24 col0\" >Numeric Imputer</td>\n",
       "                        <td id=\"T_7ccac23e_e784_11eb_9c4a_4cebbd96636drow24_col1\" class=\"data row24 col1\" >mean</td>\n",
       "            </tr>\n",
       "            <tr>\n",
       "                        <th id=\"T_7ccac23e_e784_11eb_9c4a_4cebbd96636dlevel0_row25\" class=\"row_heading level0 row25\" >25</th>\n",
       "                        <td id=\"T_7ccac23e_e784_11eb_9c4a_4cebbd96636drow25_col0\" class=\"data row25 col0\" >Iterative Imputation Numeric Model</td>\n",
       "                        <td id=\"T_7ccac23e_e784_11eb_9c4a_4cebbd96636drow25_col1\" class=\"data row25 col1\" >None</td>\n",
       "            </tr>\n",
       "            <tr>\n",
       "                        <th id=\"T_7ccac23e_e784_11eb_9c4a_4cebbd96636dlevel0_row26\" class=\"row_heading level0 row26\" >26</th>\n",
       "                        <td id=\"T_7ccac23e_e784_11eb_9c4a_4cebbd96636drow26_col0\" class=\"data row26 col0\" >Categorical Imputer</td>\n",
       "                        <td id=\"T_7ccac23e_e784_11eb_9c4a_4cebbd96636drow26_col1\" class=\"data row26 col1\" >constant</td>\n",
       "            </tr>\n",
       "            <tr>\n",
       "                        <th id=\"T_7ccac23e_e784_11eb_9c4a_4cebbd96636dlevel0_row27\" class=\"row_heading level0 row27\" >27</th>\n",
       "                        <td id=\"T_7ccac23e_e784_11eb_9c4a_4cebbd96636drow27_col0\" class=\"data row27 col0\" >Iterative Imputation Categorical Model</td>\n",
       "                        <td id=\"T_7ccac23e_e784_11eb_9c4a_4cebbd96636drow27_col1\" class=\"data row27 col1\" >None</td>\n",
       "            </tr>\n",
       "            <tr>\n",
       "                        <th id=\"T_7ccac23e_e784_11eb_9c4a_4cebbd96636dlevel0_row28\" class=\"row_heading level0 row28\" >28</th>\n",
       "                        <td id=\"T_7ccac23e_e784_11eb_9c4a_4cebbd96636drow28_col0\" class=\"data row28 col0\" >Unknown Categoricals Handling</td>\n",
       "                        <td id=\"T_7ccac23e_e784_11eb_9c4a_4cebbd96636drow28_col1\" class=\"data row28 col1\" >least_frequent</td>\n",
       "            </tr>\n",
       "            <tr>\n",
       "                        <th id=\"T_7ccac23e_e784_11eb_9c4a_4cebbd96636dlevel0_row29\" class=\"row_heading level0 row29\" >29</th>\n",
       "                        <td id=\"T_7ccac23e_e784_11eb_9c4a_4cebbd96636drow29_col0\" class=\"data row29 col0\" >Normalize</td>\n",
       "                        <td id=\"T_7ccac23e_e784_11eb_9c4a_4cebbd96636drow29_col1\" class=\"data row29 col1\" >False</td>\n",
       "            </tr>\n",
       "            <tr>\n",
       "                        <th id=\"T_7ccac23e_e784_11eb_9c4a_4cebbd96636dlevel0_row30\" class=\"row_heading level0 row30\" >30</th>\n",
       "                        <td id=\"T_7ccac23e_e784_11eb_9c4a_4cebbd96636drow30_col0\" class=\"data row30 col0\" >Normalize Method</td>\n",
       "                        <td id=\"T_7ccac23e_e784_11eb_9c4a_4cebbd96636drow30_col1\" class=\"data row30 col1\" >None</td>\n",
       "            </tr>\n",
       "            <tr>\n",
       "                        <th id=\"T_7ccac23e_e784_11eb_9c4a_4cebbd96636dlevel0_row31\" class=\"row_heading level0 row31\" >31</th>\n",
       "                        <td id=\"T_7ccac23e_e784_11eb_9c4a_4cebbd96636drow31_col0\" class=\"data row31 col0\" >Transformation</td>\n",
       "                        <td id=\"T_7ccac23e_e784_11eb_9c4a_4cebbd96636drow31_col1\" class=\"data row31 col1\" >False</td>\n",
       "            </tr>\n",
       "            <tr>\n",
       "                        <th id=\"T_7ccac23e_e784_11eb_9c4a_4cebbd96636dlevel0_row32\" class=\"row_heading level0 row32\" >32</th>\n",
       "                        <td id=\"T_7ccac23e_e784_11eb_9c4a_4cebbd96636drow32_col0\" class=\"data row32 col0\" >Transformation Method</td>\n",
       "                        <td id=\"T_7ccac23e_e784_11eb_9c4a_4cebbd96636drow32_col1\" class=\"data row32 col1\" >None</td>\n",
       "            </tr>\n",
       "            <tr>\n",
       "                        <th id=\"T_7ccac23e_e784_11eb_9c4a_4cebbd96636dlevel0_row33\" class=\"row_heading level0 row33\" >33</th>\n",
       "                        <td id=\"T_7ccac23e_e784_11eb_9c4a_4cebbd96636drow33_col0\" class=\"data row33 col0\" >PCA</td>\n",
       "                        <td id=\"T_7ccac23e_e784_11eb_9c4a_4cebbd96636drow33_col1\" class=\"data row33 col1\" >False</td>\n",
       "            </tr>\n",
       "            <tr>\n",
       "                        <th id=\"T_7ccac23e_e784_11eb_9c4a_4cebbd96636dlevel0_row34\" class=\"row_heading level0 row34\" >34</th>\n",
       "                        <td id=\"T_7ccac23e_e784_11eb_9c4a_4cebbd96636drow34_col0\" class=\"data row34 col0\" >PCA Method</td>\n",
       "                        <td id=\"T_7ccac23e_e784_11eb_9c4a_4cebbd96636drow34_col1\" class=\"data row34 col1\" >None</td>\n",
       "            </tr>\n",
       "            <tr>\n",
       "                        <th id=\"T_7ccac23e_e784_11eb_9c4a_4cebbd96636dlevel0_row35\" class=\"row_heading level0 row35\" >35</th>\n",
       "                        <td id=\"T_7ccac23e_e784_11eb_9c4a_4cebbd96636drow35_col0\" class=\"data row35 col0\" >PCA Components</td>\n",
       "                        <td id=\"T_7ccac23e_e784_11eb_9c4a_4cebbd96636drow35_col1\" class=\"data row35 col1\" >None</td>\n",
       "            </tr>\n",
       "            <tr>\n",
       "                        <th id=\"T_7ccac23e_e784_11eb_9c4a_4cebbd96636dlevel0_row36\" class=\"row_heading level0 row36\" >36</th>\n",
       "                        <td id=\"T_7ccac23e_e784_11eb_9c4a_4cebbd96636drow36_col0\" class=\"data row36 col0\" >Ignore Low Variance</td>\n",
       "                        <td id=\"T_7ccac23e_e784_11eb_9c4a_4cebbd96636drow36_col1\" class=\"data row36 col1\" >False</td>\n",
       "            </tr>\n",
       "            <tr>\n",
       "                        <th id=\"T_7ccac23e_e784_11eb_9c4a_4cebbd96636dlevel0_row37\" class=\"row_heading level0 row37\" >37</th>\n",
       "                        <td id=\"T_7ccac23e_e784_11eb_9c4a_4cebbd96636drow37_col0\" class=\"data row37 col0\" >Combine Rare Levels</td>\n",
       "                        <td id=\"T_7ccac23e_e784_11eb_9c4a_4cebbd96636drow37_col1\" class=\"data row37 col1\" >False</td>\n",
       "            </tr>\n",
       "            <tr>\n",
       "                        <th id=\"T_7ccac23e_e784_11eb_9c4a_4cebbd96636dlevel0_row38\" class=\"row_heading level0 row38\" >38</th>\n",
       "                        <td id=\"T_7ccac23e_e784_11eb_9c4a_4cebbd96636drow38_col0\" class=\"data row38 col0\" >Rare Level Threshold</td>\n",
       "                        <td id=\"T_7ccac23e_e784_11eb_9c4a_4cebbd96636drow38_col1\" class=\"data row38 col1\" >None</td>\n",
       "            </tr>\n",
       "            <tr>\n",
       "                        <th id=\"T_7ccac23e_e784_11eb_9c4a_4cebbd96636dlevel0_row39\" class=\"row_heading level0 row39\" >39</th>\n",
       "                        <td id=\"T_7ccac23e_e784_11eb_9c4a_4cebbd96636drow39_col0\" class=\"data row39 col0\" >Numeric Binning</td>\n",
       "                        <td id=\"T_7ccac23e_e784_11eb_9c4a_4cebbd96636drow39_col1\" class=\"data row39 col1\" >False</td>\n",
       "            </tr>\n",
       "            <tr>\n",
       "                        <th id=\"T_7ccac23e_e784_11eb_9c4a_4cebbd96636dlevel0_row40\" class=\"row_heading level0 row40\" >40</th>\n",
       "                        <td id=\"T_7ccac23e_e784_11eb_9c4a_4cebbd96636drow40_col0\" class=\"data row40 col0\" >Remove Outliers</td>\n",
       "                        <td id=\"T_7ccac23e_e784_11eb_9c4a_4cebbd96636drow40_col1\" class=\"data row40 col1\" >False</td>\n",
       "            </tr>\n",
       "            <tr>\n",
       "                        <th id=\"T_7ccac23e_e784_11eb_9c4a_4cebbd96636dlevel0_row41\" class=\"row_heading level0 row41\" >41</th>\n",
       "                        <td id=\"T_7ccac23e_e784_11eb_9c4a_4cebbd96636drow41_col0\" class=\"data row41 col0\" >Outliers Threshold</td>\n",
       "                        <td id=\"T_7ccac23e_e784_11eb_9c4a_4cebbd96636drow41_col1\" class=\"data row41 col1\" >None</td>\n",
       "            </tr>\n",
       "            <tr>\n",
       "                        <th id=\"T_7ccac23e_e784_11eb_9c4a_4cebbd96636dlevel0_row42\" class=\"row_heading level0 row42\" >42</th>\n",
       "                        <td id=\"T_7ccac23e_e784_11eb_9c4a_4cebbd96636drow42_col0\" class=\"data row42 col0\" >Remove Multicollinearity</td>\n",
       "                        <td id=\"T_7ccac23e_e784_11eb_9c4a_4cebbd96636drow42_col1\" class=\"data row42 col1\" >False</td>\n",
       "            </tr>\n",
       "            <tr>\n",
       "                        <th id=\"T_7ccac23e_e784_11eb_9c4a_4cebbd96636dlevel0_row43\" class=\"row_heading level0 row43\" >43</th>\n",
       "                        <td id=\"T_7ccac23e_e784_11eb_9c4a_4cebbd96636drow43_col0\" class=\"data row43 col0\" >Multicollinearity Threshold</td>\n",
       "                        <td id=\"T_7ccac23e_e784_11eb_9c4a_4cebbd96636drow43_col1\" class=\"data row43 col1\" >None</td>\n",
       "            </tr>\n",
       "            <tr>\n",
       "                        <th id=\"T_7ccac23e_e784_11eb_9c4a_4cebbd96636dlevel0_row44\" class=\"row_heading level0 row44\" >44</th>\n",
       "                        <td id=\"T_7ccac23e_e784_11eb_9c4a_4cebbd96636drow44_col0\" class=\"data row44 col0\" >Clustering</td>\n",
       "                        <td id=\"T_7ccac23e_e784_11eb_9c4a_4cebbd96636drow44_col1\" class=\"data row44 col1\" >False</td>\n",
       "            </tr>\n",
       "            <tr>\n",
       "                        <th id=\"T_7ccac23e_e784_11eb_9c4a_4cebbd96636dlevel0_row45\" class=\"row_heading level0 row45\" >45</th>\n",
       "                        <td id=\"T_7ccac23e_e784_11eb_9c4a_4cebbd96636drow45_col0\" class=\"data row45 col0\" >Clustering Iteration</td>\n",
       "                        <td id=\"T_7ccac23e_e784_11eb_9c4a_4cebbd96636drow45_col1\" class=\"data row45 col1\" >None</td>\n",
       "            </tr>\n",
       "            <tr>\n",
       "                        <th id=\"T_7ccac23e_e784_11eb_9c4a_4cebbd96636dlevel0_row46\" class=\"row_heading level0 row46\" >46</th>\n",
       "                        <td id=\"T_7ccac23e_e784_11eb_9c4a_4cebbd96636drow46_col0\" class=\"data row46 col0\" >Polynomial Features</td>\n",
       "                        <td id=\"T_7ccac23e_e784_11eb_9c4a_4cebbd96636drow46_col1\" class=\"data row46 col1\" >False</td>\n",
       "            </tr>\n",
       "            <tr>\n",
       "                        <th id=\"T_7ccac23e_e784_11eb_9c4a_4cebbd96636dlevel0_row47\" class=\"row_heading level0 row47\" >47</th>\n",
       "                        <td id=\"T_7ccac23e_e784_11eb_9c4a_4cebbd96636drow47_col0\" class=\"data row47 col0\" >Polynomial Degree</td>\n",
       "                        <td id=\"T_7ccac23e_e784_11eb_9c4a_4cebbd96636drow47_col1\" class=\"data row47 col1\" >None</td>\n",
       "            </tr>\n",
       "            <tr>\n",
       "                        <th id=\"T_7ccac23e_e784_11eb_9c4a_4cebbd96636dlevel0_row48\" class=\"row_heading level0 row48\" >48</th>\n",
       "                        <td id=\"T_7ccac23e_e784_11eb_9c4a_4cebbd96636drow48_col0\" class=\"data row48 col0\" >Trignometry Features</td>\n",
       "                        <td id=\"T_7ccac23e_e784_11eb_9c4a_4cebbd96636drow48_col1\" class=\"data row48 col1\" >False</td>\n",
       "            </tr>\n",
       "            <tr>\n",
       "                        <th id=\"T_7ccac23e_e784_11eb_9c4a_4cebbd96636dlevel0_row49\" class=\"row_heading level0 row49\" >49</th>\n",
       "                        <td id=\"T_7ccac23e_e784_11eb_9c4a_4cebbd96636drow49_col0\" class=\"data row49 col0\" >Polynomial Threshold</td>\n",
       "                        <td id=\"T_7ccac23e_e784_11eb_9c4a_4cebbd96636drow49_col1\" class=\"data row49 col1\" >None</td>\n",
       "            </tr>\n",
       "            <tr>\n",
       "                        <th id=\"T_7ccac23e_e784_11eb_9c4a_4cebbd96636dlevel0_row50\" class=\"row_heading level0 row50\" >50</th>\n",
       "                        <td id=\"T_7ccac23e_e784_11eb_9c4a_4cebbd96636drow50_col0\" class=\"data row50 col0\" >Group Features</td>\n",
       "                        <td id=\"T_7ccac23e_e784_11eb_9c4a_4cebbd96636drow50_col1\" class=\"data row50 col1\" >False</td>\n",
       "            </tr>\n",
       "            <tr>\n",
       "                        <th id=\"T_7ccac23e_e784_11eb_9c4a_4cebbd96636dlevel0_row51\" class=\"row_heading level0 row51\" >51</th>\n",
       "                        <td id=\"T_7ccac23e_e784_11eb_9c4a_4cebbd96636drow51_col0\" class=\"data row51 col0\" >Feature Selection</td>\n",
       "                        <td id=\"T_7ccac23e_e784_11eb_9c4a_4cebbd96636drow51_col1\" class=\"data row51 col1\" >False</td>\n",
       "            </tr>\n",
       "            <tr>\n",
       "                        <th id=\"T_7ccac23e_e784_11eb_9c4a_4cebbd96636dlevel0_row52\" class=\"row_heading level0 row52\" >52</th>\n",
       "                        <td id=\"T_7ccac23e_e784_11eb_9c4a_4cebbd96636drow52_col0\" class=\"data row52 col0\" >Feature Selection Method</td>\n",
       "                        <td id=\"T_7ccac23e_e784_11eb_9c4a_4cebbd96636drow52_col1\" class=\"data row52 col1\" >classic</td>\n",
       "            </tr>\n",
       "            <tr>\n",
       "                        <th id=\"T_7ccac23e_e784_11eb_9c4a_4cebbd96636dlevel0_row53\" class=\"row_heading level0 row53\" >53</th>\n",
       "                        <td id=\"T_7ccac23e_e784_11eb_9c4a_4cebbd96636drow53_col0\" class=\"data row53 col0\" >Features Selection Threshold</td>\n",
       "                        <td id=\"T_7ccac23e_e784_11eb_9c4a_4cebbd96636drow53_col1\" class=\"data row53 col1\" >None</td>\n",
       "            </tr>\n",
       "            <tr>\n",
       "                        <th id=\"T_7ccac23e_e784_11eb_9c4a_4cebbd96636dlevel0_row54\" class=\"row_heading level0 row54\" >54</th>\n",
       "                        <td id=\"T_7ccac23e_e784_11eb_9c4a_4cebbd96636drow54_col0\" class=\"data row54 col0\" >Feature Interaction</td>\n",
       "                        <td id=\"T_7ccac23e_e784_11eb_9c4a_4cebbd96636drow54_col1\" class=\"data row54 col1\" >False</td>\n",
       "            </tr>\n",
       "            <tr>\n",
       "                        <th id=\"T_7ccac23e_e784_11eb_9c4a_4cebbd96636dlevel0_row55\" class=\"row_heading level0 row55\" >55</th>\n",
       "                        <td id=\"T_7ccac23e_e784_11eb_9c4a_4cebbd96636drow55_col0\" class=\"data row55 col0\" >Feature Ratio</td>\n",
       "                        <td id=\"T_7ccac23e_e784_11eb_9c4a_4cebbd96636drow55_col1\" class=\"data row55 col1\" >False</td>\n",
       "            </tr>\n",
       "            <tr>\n",
       "                        <th id=\"T_7ccac23e_e784_11eb_9c4a_4cebbd96636dlevel0_row56\" class=\"row_heading level0 row56\" >56</th>\n",
       "                        <td id=\"T_7ccac23e_e784_11eb_9c4a_4cebbd96636drow56_col0\" class=\"data row56 col0\" >Interaction Threshold</td>\n",
       "                        <td id=\"T_7ccac23e_e784_11eb_9c4a_4cebbd96636drow56_col1\" class=\"data row56 col1\" >None</td>\n",
       "            </tr>\n",
       "            <tr>\n",
       "                        <th id=\"T_7ccac23e_e784_11eb_9c4a_4cebbd96636dlevel0_row57\" class=\"row_heading level0 row57\" >57</th>\n",
       "                        <td id=\"T_7ccac23e_e784_11eb_9c4a_4cebbd96636drow57_col0\" class=\"data row57 col0\" >Fix Imbalance</td>\n",
       "                        <td id=\"T_7ccac23e_e784_11eb_9c4a_4cebbd96636drow57_col1\" class=\"data row57 col1\" >False</td>\n",
       "            </tr>\n",
       "            <tr>\n",
       "                        <th id=\"T_7ccac23e_e784_11eb_9c4a_4cebbd96636dlevel0_row58\" class=\"row_heading level0 row58\" >58</th>\n",
       "                        <td id=\"T_7ccac23e_e784_11eb_9c4a_4cebbd96636drow58_col0\" class=\"data row58 col0\" >Fix Imbalance Method</td>\n",
       "                        <td id=\"T_7ccac23e_e784_11eb_9c4a_4cebbd96636drow58_col1\" class=\"data row58 col1\" >SMOTE</td>\n",
       "            </tr>\n",
       "    </tbody></table>"
      ],
      "text/plain": [
       "<pandas.io.formats.style.Styler at 0x261dcb1cb80>"
      ]
     },
     "metadata": {},
     "output_type": "display_data"
    }
   ],
   "source": [
    "from pycaret.classification import *\n",
    "#intialize the setup\n",
    "exp_clf = setup(df, target = 'CreditCard')"
   ]
  },
  {
   "cell_type": "code",
   "execution_count": 239,
   "metadata": {},
   "outputs": [
    {
     "data": {
      "text/html": [
       "<style  type=\"text/css\" >\n",
       "    #T_9c32249e_e784_11eb_8a7e_4cebbd96636drow10_col0 {\n",
       "            background:  yellow;\n",
       "        }    #T_9c32249e_e784_11eb_8a7e_4cebbd96636drow10_col1 {\n",
       "            background:  yellow;\n",
       "        }    #T_9c32249e_e784_11eb_8a7e_4cebbd96636drow10_col2 {\n",
       "            background:  yellow;\n",
       "        }    #T_9c32249e_e784_11eb_8a7e_4cebbd96636drow10_col3 {\n",
       "            background:  yellow;\n",
       "        }    #T_9c32249e_e784_11eb_8a7e_4cebbd96636drow10_col4 {\n",
       "            background:  yellow;\n",
       "        }    #T_9c32249e_e784_11eb_8a7e_4cebbd96636drow10_col5 {\n",
       "            background:  yellow;\n",
       "        }    #T_9c32249e_e784_11eb_8a7e_4cebbd96636drow10_col6 {\n",
       "            background:  yellow;\n",
       "        }</style><table id=\"T_9c32249e_e784_11eb_8a7e_4cebbd96636d\" ><thead>    <tr>        <th class=\"blank level0\" ></th>        <th class=\"col_heading level0 col0\" >Accuracy</th>        <th class=\"col_heading level0 col1\" >AUC</th>        <th class=\"col_heading level0 col2\" >Recall</th>        <th class=\"col_heading level0 col3\" >Prec.</th>        <th class=\"col_heading level0 col4\" >F1</th>        <th class=\"col_heading level0 col5\" >Kappa</th>        <th class=\"col_heading level0 col6\" >MCC</th>    </tr></thead><tbody>\n",
       "                <tr>\n",
       "                        <th id=\"T_9c32249e_e784_11eb_8a7e_4cebbd96636dlevel0_row0\" class=\"row_heading level0 row0\" >0</th>\n",
       "                        <td id=\"T_9c32249e_e784_11eb_8a7e_4cebbd96636drow0_col0\" class=\"data row0 col0\" >0.7314</td>\n",
       "                        <td id=\"T_9c32249e_e784_11eb_8a7e_4cebbd96636drow0_col1\" class=\"data row0 col1\" >0.5998</td>\n",
       "                        <td id=\"T_9c32249e_e784_11eb_8a7e_4cebbd96636drow0_col2\" class=\"data row0 col2\" >0.1250</td>\n",
       "                        <td id=\"T_9c32249e_e784_11eb_8a7e_4cebbd96636drow0_col3\" class=\"data row0 col3\" >0.8125</td>\n",
       "                        <td id=\"T_9c32249e_e784_11eb_8a7e_4cebbd96636drow0_col4\" class=\"data row0 col4\" >0.2167</td>\n",
       "                        <td id=\"T_9c32249e_e784_11eb_8a7e_4cebbd96636drow0_col5\" class=\"data row0 col5\" >0.1493</td>\n",
       "                        <td id=\"T_9c32249e_e784_11eb_8a7e_4cebbd96636drow0_col6\" class=\"data row0 col6\" >0.2468</td>\n",
       "            </tr>\n",
       "            <tr>\n",
       "                        <th id=\"T_9c32249e_e784_11eb_8a7e_4cebbd96636dlevel0_row1\" class=\"row_heading level0 row1\" >1</th>\n",
       "                        <td id=\"T_9c32249e_e784_11eb_8a7e_4cebbd96636drow1_col0\" class=\"data row1 col0\" >0.7400</td>\n",
       "                        <td id=\"T_9c32249e_e784_11eb_8a7e_4cebbd96636drow1_col1\" class=\"data row1 col1\" >0.6087</td>\n",
       "                        <td id=\"T_9c32249e_e784_11eb_8a7e_4cebbd96636drow1_col2\" class=\"data row1 col2\" >0.1731</td>\n",
       "                        <td id=\"T_9c32249e_e784_11eb_8a7e_4cebbd96636drow1_col3\" class=\"data row1 col3\" >0.7826</td>\n",
       "                        <td id=\"T_9c32249e_e784_11eb_8a7e_4cebbd96636drow1_col4\" class=\"data row1 col4\" >0.2835</td>\n",
       "                        <td id=\"T_9c32249e_e784_11eb_8a7e_4cebbd96636drow1_col5\" class=\"data row1 col5\" >0.1970</td>\n",
       "                        <td id=\"T_9c32249e_e784_11eb_8a7e_4cebbd96636drow1_col6\" class=\"data row1 col6\" >0.2817</td>\n",
       "            </tr>\n",
       "            <tr>\n",
       "                        <th id=\"T_9c32249e_e784_11eb_8a7e_4cebbd96636dlevel0_row2\" class=\"row_heading level0 row2\" >2</th>\n",
       "                        <td id=\"T_9c32249e_e784_11eb_8a7e_4cebbd96636drow2_col0\" class=\"data row2 col0\" >0.7400</td>\n",
       "                        <td id=\"T_9c32249e_e784_11eb_8a7e_4cebbd96636drow2_col1\" class=\"data row2 col1\" >0.6331</td>\n",
       "                        <td id=\"T_9c32249e_e784_11eb_8a7e_4cebbd96636drow2_col2\" class=\"data row2 col2\" >0.1635</td>\n",
       "                        <td id=\"T_9c32249e_e784_11eb_8a7e_4cebbd96636drow2_col3\" class=\"data row2 col3\" >0.8095</td>\n",
       "                        <td id=\"T_9c32249e_e784_11eb_8a7e_4cebbd96636drow2_col4\" class=\"data row2 col4\" >0.2720</td>\n",
       "                        <td id=\"T_9c32249e_e784_11eb_8a7e_4cebbd96636drow2_col5\" class=\"data row2 col5\" >0.1913</td>\n",
       "                        <td id=\"T_9c32249e_e784_11eb_8a7e_4cebbd96636drow2_col6\" class=\"data row2 col6\" >0.2833</td>\n",
       "            </tr>\n",
       "            <tr>\n",
       "                        <th id=\"T_9c32249e_e784_11eb_8a7e_4cebbd96636dlevel0_row3\" class=\"row_heading level0 row3\" >3</th>\n",
       "                        <td id=\"T_9c32249e_e784_11eb_8a7e_4cebbd96636drow3_col0\" class=\"data row3 col0\" >0.7486</td>\n",
       "                        <td id=\"T_9c32249e_e784_11eb_8a7e_4cebbd96636drow3_col1\" class=\"data row3 col1\" >0.6108</td>\n",
       "                        <td id=\"T_9c32249e_e784_11eb_8a7e_4cebbd96636drow3_col2\" class=\"data row3 col2\" >0.1635</td>\n",
       "                        <td id=\"T_9c32249e_e784_11eb_8a7e_4cebbd96636drow3_col3\" class=\"data row3 col3\" >0.9444</td>\n",
       "                        <td id=\"T_9c32249e_e784_11eb_8a7e_4cebbd96636drow3_col4\" class=\"data row3 col4\" >0.2787</td>\n",
       "                        <td id=\"T_9c32249e_e784_11eb_8a7e_4cebbd96636drow3_col5\" class=\"data row3 col5\" >0.2094</td>\n",
       "                        <td id=\"T_9c32249e_e784_11eb_8a7e_4cebbd96636drow3_col6\" class=\"data row3 col6\" >0.3298</td>\n",
       "            </tr>\n",
       "            <tr>\n",
       "                        <th id=\"T_9c32249e_e784_11eb_8a7e_4cebbd96636dlevel0_row4\" class=\"row_heading level0 row4\" >4</th>\n",
       "                        <td id=\"T_9c32249e_e784_11eb_8a7e_4cebbd96636drow4_col0\" class=\"data row4 col0\" >0.7400</td>\n",
       "                        <td id=\"T_9c32249e_e784_11eb_8a7e_4cebbd96636drow4_col1\" class=\"data row4 col1\" >0.6304</td>\n",
       "                        <td id=\"T_9c32249e_e784_11eb_8a7e_4cebbd96636drow4_col2\" class=\"data row4 col2\" >0.1810</td>\n",
       "                        <td id=\"T_9c32249e_e784_11eb_8a7e_4cebbd96636drow4_col3\" class=\"data row4 col3\" >0.7917</td>\n",
       "                        <td id=\"T_9c32249e_e784_11eb_8a7e_4cebbd96636drow4_col4\" class=\"data row4 col4\" >0.2946</td>\n",
       "                        <td id=\"T_9c32249e_e784_11eb_8a7e_4cebbd96636drow4_col5\" class=\"data row4 col5\" >0.2059</td>\n",
       "                        <td id=\"T_9c32249e_e784_11eb_8a7e_4cebbd96636drow4_col6\" class=\"data row4 col6\" >0.2911</td>\n",
       "            </tr>\n",
       "            <tr>\n",
       "                        <th id=\"T_9c32249e_e784_11eb_8a7e_4cebbd96636dlevel0_row5\" class=\"row_heading level0 row5\" >5</th>\n",
       "                        <td id=\"T_9c32249e_e784_11eb_8a7e_4cebbd96636drow5_col0\" class=\"data row5 col0\" >0.7371</td>\n",
       "                        <td id=\"T_9c32249e_e784_11eb_8a7e_4cebbd96636drow5_col1\" class=\"data row5 col1\" >0.6636</td>\n",
       "                        <td id=\"T_9c32249e_e784_11eb_8a7e_4cebbd96636drow5_col2\" class=\"data row5 col2\" >0.1619</td>\n",
       "                        <td id=\"T_9c32249e_e784_11eb_8a7e_4cebbd96636drow5_col3\" class=\"data row5 col3\" >0.8095</td>\n",
       "                        <td id=\"T_9c32249e_e784_11eb_8a7e_4cebbd96636drow5_col4\" class=\"data row5 col4\" >0.2698</td>\n",
       "                        <td id=\"T_9c32249e_e784_11eb_8a7e_4cebbd96636drow5_col5\" class=\"data row5 col5\" >0.1887</td>\n",
       "                        <td id=\"T_9c32249e_e784_11eb_8a7e_4cebbd96636drow5_col6\" class=\"data row5 col6\" >0.2809</td>\n",
       "            </tr>\n",
       "            <tr>\n",
       "                        <th id=\"T_9c32249e_e784_11eb_8a7e_4cebbd96636dlevel0_row6\" class=\"row_heading level0 row6\" >6</th>\n",
       "                        <td id=\"T_9c32249e_e784_11eb_8a7e_4cebbd96636drow6_col0\" class=\"data row6 col0\" >0.7286</td>\n",
       "                        <td id=\"T_9c32249e_e784_11eb_8a7e_4cebbd96636drow6_col1\" class=\"data row6 col1\" >0.6353</td>\n",
       "                        <td id=\"T_9c32249e_e784_11eb_8a7e_4cebbd96636drow6_col2\" class=\"data row6 col2\" >0.1143</td>\n",
       "                        <td id=\"T_9c32249e_e784_11eb_8a7e_4cebbd96636drow6_col3\" class=\"data row6 col3\" >0.8571</td>\n",
       "                        <td id=\"T_9c32249e_e784_11eb_8a7e_4cebbd96636drow6_col4\" class=\"data row6 col4\" >0.2017</td>\n",
       "                        <td id=\"T_9c32249e_e784_11eb_8a7e_4cebbd96636drow6_col5\" class=\"data row6 col5\" >0.1410</td>\n",
       "                        <td id=\"T_9c32249e_e784_11eb_8a7e_4cebbd96636drow6_col6\" class=\"data row6 col6\" >0.2482</td>\n",
       "            </tr>\n",
       "            <tr>\n",
       "                        <th id=\"T_9c32249e_e784_11eb_8a7e_4cebbd96636dlevel0_row7\" class=\"row_heading level0 row7\" >7</th>\n",
       "                        <td id=\"T_9c32249e_e784_11eb_8a7e_4cebbd96636drow7_col0\" class=\"data row7 col0\" >0.7486</td>\n",
       "                        <td id=\"T_9c32249e_e784_11eb_8a7e_4cebbd96636drow7_col1\" class=\"data row7 col1\" >0.6085</td>\n",
       "                        <td id=\"T_9c32249e_e784_11eb_8a7e_4cebbd96636drow7_col2\" class=\"data row7 col2\" >0.1810</td>\n",
       "                        <td id=\"T_9c32249e_e784_11eb_8a7e_4cebbd96636drow7_col3\" class=\"data row7 col3\" >0.9048</td>\n",
       "                        <td id=\"T_9c32249e_e784_11eb_8a7e_4cebbd96636drow7_col4\" class=\"data row7 col4\" >0.3016</td>\n",
       "                        <td id=\"T_9c32249e_e784_11eb_8a7e_4cebbd96636drow7_col5\" class=\"data row7 col5\" >0.2240</td>\n",
       "                        <td id=\"T_9c32249e_e784_11eb_8a7e_4cebbd96636drow7_col6\" class=\"data row7 col6\" >0.3334</td>\n",
       "            </tr>\n",
       "            <tr>\n",
       "                        <th id=\"T_9c32249e_e784_11eb_8a7e_4cebbd96636dlevel0_row8\" class=\"row_heading level0 row8\" >8</th>\n",
       "                        <td id=\"T_9c32249e_e784_11eb_8a7e_4cebbd96636drow8_col0\" class=\"data row8 col0\" >0.7200</td>\n",
       "                        <td id=\"T_9c32249e_e784_11eb_8a7e_4cebbd96636drow8_col1\" class=\"data row8 col1\" >0.6014</td>\n",
       "                        <td id=\"T_9c32249e_e784_11eb_8a7e_4cebbd96636drow8_col2\" class=\"data row8 col2\" >0.1429</td>\n",
       "                        <td id=\"T_9c32249e_e784_11eb_8a7e_4cebbd96636drow8_col3\" class=\"data row8 col3\" >0.6522</td>\n",
       "                        <td id=\"T_9c32249e_e784_11eb_8a7e_4cebbd96636drow8_col4\" class=\"data row8 col4\" >0.2344</td>\n",
       "                        <td id=\"T_9c32249e_e784_11eb_8a7e_4cebbd96636drow8_col5\" class=\"data row8 col5\" >0.1419</td>\n",
       "                        <td id=\"T_9c32249e_e784_11eb_8a7e_4cebbd96636drow8_col6\" class=\"data row8 col6\" >0.2038</td>\n",
       "            </tr>\n",
       "            <tr>\n",
       "                        <th id=\"T_9c32249e_e784_11eb_8a7e_4cebbd96636dlevel0_row9\" class=\"row_heading level0 row9\" >9</th>\n",
       "                        <td id=\"T_9c32249e_e784_11eb_8a7e_4cebbd96636drow9_col0\" class=\"data row9 col0\" >0.7507</td>\n",
       "                        <td id=\"T_9c32249e_e784_11eb_8a7e_4cebbd96636drow9_col1\" class=\"data row9 col1\" >0.6106</td>\n",
       "                        <td id=\"T_9c32249e_e784_11eb_8a7e_4cebbd96636drow9_col2\" class=\"data row9 col2\" >0.2115</td>\n",
       "                        <td id=\"T_9c32249e_e784_11eb_8a7e_4cebbd96636drow9_col3\" class=\"data row9 col3\" >0.8148</td>\n",
       "                        <td id=\"T_9c32249e_e784_11eb_8a7e_4cebbd96636drow9_col4\" class=\"data row9 col4\" >0.3359</td>\n",
       "                        <td id=\"T_9c32249e_e784_11eb_8a7e_4cebbd96636drow9_col5\" class=\"data row9 col5\" >0.2429</td>\n",
       "                        <td id=\"T_9c32249e_e784_11eb_8a7e_4cebbd96636drow9_col6\" class=\"data row9 col6\" >0.3272</td>\n",
       "            </tr>\n",
       "            <tr>\n",
       "                        <th id=\"T_9c32249e_e784_11eb_8a7e_4cebbd96636dlevel0_row10\" class=\"row_heading level0 row10\" >Mean</th>\n",
       "                        <td id=\"T_9c32249e_e784_11eb_8a7e_4cebbd96636drow10_col0\" class=\"data row10 col0\" >0.7385</td>\n",
       "                        <td id=\"T_9c32249e_e784_11eb_8a7e_4cebbd96636drow10_col1\" class=\"data row10 col1\" >0.6202</td>\n",
       "                        <td id=\"T_9c32249e_e784_11eb_8a7e_4cebbd96636drow10_col2\" class=\"data row10 col2\" >0.1617</td>\n",
       "                        <td id=\"T_9c32249e_e784_11eb_8a7e_4cebbd96636drow10_col3\" class=\"data row10 col3\" >0.8179</td>\n",
       "                        <td id=\"T_9c32249e_e784_11eb_8a7e_4cebbd96636drow10_col4\" class=\"data row10 col4\" >0.2689</td>\n",
       "                        <td id=\"T_9c32249e_e784_11eb_8a7e_4cebbd96636drow10_col5\" class=\"data row10 col5\" >0.1891</td>\n",
       "                        <td id=\"T_9c32249e_e784_11eb_8a7e_4cebbd96636drow10_col6\" class=\"data row10 col6\" >0.2826</td>\n",
       "            </tr>\n",
       "            <tr>\n",
       "                        <th id=\"T_9c32249e_e784_11eb_8a7e_4cebbd96636dlevel0_row11\" class=\"row_heading level0 row11\" >SD</th>\n",
       "                        <td id=\"T_9c32249e_e784_11eb_8a7e_4cebbd96636drow11_col0\" class=\"data row11 col0\" >0.0092</td>\n",
       "                        <td id=\"T_9c32249e_e784_11eb_8a7e_4cebbd96636drow11_col1\" class=\"data row11 col1\" >0.0190</td>\n",
       "                        <td id=\"T_9c32249e_e784_11eb_8a7e_4cebbd96636drow11_col2\" class=\"data row11 col2\" >0.0270</td>\n",
       "                        <td id=\"T_9c32249e_e784_11eb_8a7e_4cebbd96636drow11_col3\" class=\"data row11 col3\" >0.0739</td>\n",
       "                        <td id=\"T_9c32249e_e784_11eb_8a7e_4cebbd96636drow11_col4\" class=\"data row11 col4\" >0.0387</td>\n",
       "                        <td id=\"T_9c32249e_e784_11eb_8a7e_4cebbd96636drow11_col5\" class=\"data row11 col5\" >0.0332</td>\n",
       "                        <td id=\"T_9c32249e_e784_11eb_8a7e_4cebbd96636drow11_col6\" class=\"data row11 col6\" >0.0394</td>\n",
       "            </tr>\n",
       "    </tbody></table>"
      ],
      "text/plain": [
       "<pandas.io.formats.style.Styler at 0x261d9e0a340>"
      ]
     },
     "metadata": {},
     "output_type": "display_data"
    }
   ],
   "source": [
    "lr = create_model('lr')"
   ]
  },
  {
   "cell_type": "code",
   "execution_count": 240,
   "metadata": {},
   "outputs": [
    {
     "data": {
      "text/html": [
       "<style  type=\"text/css\" >\n",
       "    #T_b2cc5418_e784_11eb_b240_4cebbd96636drow10_col0 {\n",
       "            background:  yellow;\n",
       "        }    #T_b2cc5418_e784_11eb_b240_4cebbd96636drow10_col1 {\n",
       "            background:  yellow;\n",
       "        }    #T_b2cc5418_e784_11eb_b240_4cebbd96636drow10_col2 {\n",
       "            background:  yellow;\n",
       "        }    #T_b2cc5418_e784_11eb_b240_4cebbd96636drow10_col3 {\n",
       "            background:  yellow;\n",
       "        }    #T_b2cc5418_e784_11eb_b240_4cebbd96636drow10_col4 {\n",
       "            background:  yellow;\n",
       "        }    #T_b2cc5418_e784_11eb_b240_4cebbd96636drow10_col5 {\n",
       "            background:  yellow;\n",
       "        }    #T_b2cc5418_e784_11eb_b240_4cebbd96636drow10_col6 {\n",
       "            background:  yellow;\n",
       "        }</style><table id=\"T_b2cc5418_e784_11eb_b240_4cebbd96636d\" ><thead>    <tr>        <th class=\"blank level0\" ></th>        <th class=\"col_heading level0 col0\" >Accuracy</th>        <th class=\"col_heading level0 col1\" >AUC</th>        <th class=\"col_heading level0 col2\" >Recall</th>        <th class=\"col_heading level0 col3\" >Prec.</th>        <th class=\"col_heading level0 col4\" >F1</th>        <th class=\"col_heading level0 col5\" >Kappa</th>        <th class=\"col_heading level0 col6\" >MCC</th>    </tr></thead><tbody>\n",
       "                <tr>\n",
       "                        <th id=\"T_b2cc5418_e784_11eb_b240_4cebbd96636dlevel0_row0\" class=\"row_heading level0 row0\" >0</th>\n",
       "                        <td id=\"T_b2cc5418_e784_11eb_b240_4cebbd96636drow0_col0\" class=\"data row0 col0\" >0.7314</td>\n",
       "                        <td id=\"T_b2cc5418_e784_11eb_b240_4cebbd96636drow0_col1\" class=\"data row0 col1\" >0.6012</td>\n",
       "                        <td id=\"T_b2cc5418_e784_11eb_b240_4cebbd96636drow0_col2\" class=\"data row0 col2\" >0.1250</td>\n",
       "                        <td id=\"T_b2cc5418_e784_11eb_b240_4cebbd96636drow0_col3\" class=\"data row0 col3\" >0.8125</td>\n",
       "                        <td id=\"T_b2cc5418_e784_11eb_b240_4cebbd96636drow0_col4\" class=\"data row0 col4\" >0.2167</td>\n",
       "                        <td id=\"T_b2cc5418_e784_11eb_b240_4cebbd96636drow0_col5\" class=\"data row0 col5\" >0.1493</td>\n",
       "                        <td id=\"T_b2cc5418_e784_11eb_b240_4cebbd96636drow0_col6\" class=\"data row0 col6\" >0.2468</td>\n",
       "            </tr>\n",
       "            <tr>\n",
       "                        <th id=\"T_b2cc5418_e784_11eb_b240_4cebbd96636dlevel0_row1\" class=\"row_heading level0 row1\" >1</th>\n",
       "                        <td id=\"T_b2cc5418_e784_11eb_b240_4cebbd96636drow1_col0\" class=\"data row1 col0\" >0.7400</td>\n",
       "                        <td id=\"T_b2cc5418_e784_11eb_b240_4cebbd96636drow1_col1\" class=\"data row1 col1\" >0.6096</td>\n",
       "                        <td id=\"T_b2cc5418_e784_11eb_b240_4cebbd96636drow1_col2\" class=\"data row1 col2\" >0.1731</td>\n",
       "                        <td id=\"T_b2cc5418_e784_11eb_b240_4cebbd96636drow1_col3\" class=\"data row1 col3\" >0.7826</td>\n",
       "                        <td id=\"T_b2cc5418_e784_11eb_b240_4cebbd96636drow1_col4\" class=\"data row1 col4\" >0.2835</td>\n",
       "                        <td id=\"T_b2cc5418_e784_11eb_b240_4cebbd96636drow1_col5\" class=\"data row1 col5\" >0.1970</td>\n",
       "                        <td id=\"T_b2cc5418_e784_11eb_b240_4cebbd96636drow1_col6\" class=\"data row1 col6\" >0.2817</td>\n",
       "            </tr>\n",
       "            <tr>\n",
       "                        <th id=\"T_b2cc5418_e784_11eb_b240_4cebbd96636dlevel0_row2\" class=\"row_heading level0 row2\" >2</th>\n",
       "                        <td id=\"T_b2cc5418_e784_11eb_b240_4cebbd96636drow2_col0\" class=\"data row2 col0\" >0.7400</td>\n",
       "                        <td id=\"T_b2cc5418_e784_11eb_b240_4cebbd96636drow2_col1\" class=\"data row2 col1\" >0.6332</td>\n",
       "                        <td id=\"T_b2cc5418_e784_11eb_b240_4cebbd96636drow2_col2\" class=\"data row2 col2\" >0.1635</td>\n",
       "                        <td id=\"T_b2cc5418_e784_11eb_b240_4cebbd96636drow2_col3\" class=\"data row2 col3\" >0.8095</td>\n",
       "                        <td id=\"T_b2cc5418_e784_11eb_b240_4cebbd96636drow2_col4\" class=\"data row2 col4\" >0.2720</td>\n",
       "                        <td id=\"T_b2cc5418_e784_11eb_b240_4cebbd96636drow2_col5\" class=\"data row2 col5\" >0.1913</td>\n",
       "                        <td id=\"T_b2cc5418_e784_11eb_b240_4cebbd96636drow2_col6\" class=\"data row2 col6\" >0.2833</td>\n",
       "            </tr>\n",
       "            <tr>\n",
       "                        <th id=\"T_b2cc5418_e784_11eb_b240_4cebbd96636dlevel0_row3\" class=\"row_heading level0 row3\" >3</th>\n",
       "                        <td id=\"T_b2cc5418_e784_11eb_b240_4cebbd96636drow3_col0\" class=\"data row3 col0\" >0.7486</td>\n",
       "                        <td id=\"T_b2cc5418_e784_11eb_b240_4cebbd96636drow3_col1\" class=\"data row3 col1\" >0.6110</td>\n",
       "                        <td id=\"T_b2cc5418_e784_11eb_b240_4cebbd96636drow3_col2\" class=\"data row3 col2\" >0.1635</td>\n",
       "                        <td id=\"T_b2cc5418_e784_11eb_b240_4cebbd96636drow3_col3\" class=\"data row3 col3\" >0.9444</td>\n",
       "                        <td id=\"T_b2cc5418_e784_11eb_b240_4cebbd96636drow3_col4\" class=\"data row3 col4\" >0.2787</td>\n",
       "                        <td id=\"T_b2cc5418_e784_11eb_b240_4cebbd96636drow3_col5\" class=\"data row3 col5\" >0.2094</td>\n",
       "                        <td id=\"T_b2cc5418_e784_11eb_b240_4cebbd96636drow3_col6\" class=\"data row3 col6\" >0.3298</td>\n",
       "            </tr>\n",
       "            <tr>\n",
       "                        <th id=\"T_b2cc5418_e784_11eb_b240_4cebbd96636dlevel0_row4\" class=\"row_heading level0 row4\" >4</th>\n",
       "                        <td id=\"T_b2cc5418_e784_11eb_b240_4cebbd96636drow4_col0\" class=\"data row4 col0\" >0.7400</td>\n",
       "                        <td id=\"T_b2cc5418_e784_11eb_b240_4cebbd96636drow4_col1\" class=\"data row4 col1\" >0.6262</td>\n",
       "                        <td id=\"T_b2cc5418_e784_11eb_b240_4cebbd96636drow4_col2\" class=\"data row4 col2\" >0.1810</td>\n",
       "                        <td id=\"T_b2cc5418_e784_11eb_b240_4cebbd96636drow4_col3\" class=\"data row4 col3\" >0.7917</td>\n",
       "                        <td id=\"T_b2cc5418_e784_11eb_b240_4cebbd96636drow4_col4\" class=\"data row4 col4\" >0.2946</td>\n",
       "                        <td id=\"T_b2cc5418_e784_11eb_b240_4cebbd96636drow4_col5\" class=\"data row4 col5\" >0.2059</td>\n",
       "                        <td id=\"T_b2cc5418_e784_11eb_b240_4cebbd96636drow4_col6\" class=\"data row4 col6\" >0.2911</td>\n",
       "            </tr>\n",
       "            <tr>\n",
       "                        <th id=\"T_b2cc5418_e784_11eb_b240_4cebbd96636dlevel0_row5\" class=\"row_heading level0 row5\" >5</th>\n",
       "                        <td id=\"T_b2cc5418_e784_11eb_b240_4cebbd96636drow5_col0\" class=\"data row5 col0\" >0.7371</td>\n",
       "                        <td id=\"T_b2cc5418_e784_11eb_b240_4cebbd96636drow5_col1\" class=\"data row5 col1\" >0.6643</td>\n",
       "                        <td id=\"T_b2cc5418_e784_11eb_b240_4cebbd96636drow5_col2\" class=\"data row5 col2\" >0.1619</td>\n",
       "                        <td id=\"T_b2cc5418_e784_11eb_b240_4cebbd96636drow5_col3\" class=\"data row5 col3\" >0.8095</td>\n",
       "                        <td id=\"T_b2cc5418_e784_11eb_b240_4cebbd96636drow5_col4\" class=\"data row5 col4\" >0.2698</td>\n",
       "                        <td id=\"T_b2cc5418_e784_11eb_b240_4cebbd96636drow5_col5\" class=\"data row5 col5\" >0.1887</td>\n",
       "                        <td id=\"T_b2cc5418_e784_11eb_b240_4cebbd96636drow5_col6\" class=\"data row5 col6\" >0.2809</td>\n",
       "            </tr>\n",
       "            <tr>\n",
       "                        <th id=\"T_b2cc5418_e784_11eb_b240_4cebbd96636dlevel0_row6\" class=\"row_heading level0 row6\" >6</th>\n",
       "                        <td id=\"T_b2cc5418_e784_11eb_b240_4cebbd96636drow6_col0\" class=\"data row6 col0\" >0.7286</td>\n",
       "                        <td id=\"T_b2cc5418_e784_11eb_b240_4cebbd96636drow6_col1\" class=\"data row6 col1\" >0.6337</td>\n",
       "                        <td id=\"T_b2cc5418_e784_11eb_b240_4cebbd96636drow6_col2\" class=\"data row6 col2\" >0.1143</td>\n",
       "                        <td id=\"T_b2cc5418_e784_11eb_b240_4cebbd96636drow6_col3\" class=\"data row6 col3\" >0.8571</td>\n",
       "                        <td id=\"T_b2cc5418_e784_11eb_b240_4cebbd96636drow6_col4\" class=\"data row6 col4\" >0.2017</td>\n",
       "                        <td id=\"T_b2cc5418_e784_11eb_b240_4cebbd96636drow6_col5\" class=\"data row6 col5\" >0.1410</td>\n",
       "                        <td id=\"T_b2cc5418_e784_11eb_b240_4cebbd96636drow6_col6\" class=\"data row6 col6\" >0.2482</td>\n",
       "            </tr>\n",
       "            <tr>\n",
       "                        <th id=\"T_b2cc5418_e784_11eb_b240_4cebbd96636dlevel0_row7\" class=\"row_heading level0 row7\" >7</th>\n",
       "                        <td id=\"T_b2cc5418_e784_11eb_b240_4cebbd96636drow7_col0\" class=\"data row7 col0\" >0.7486</td>\n",
       "                        <td id=\"T_b2cc5418_e784_11eb_b240_4cebbd96636drow7_col1\" class=\"data row7 col1\" >0.6086</td>\n",
       "                        <td id=\"T_b2cc5418_e784_11eb_b240_4cebbd96636drow7_col2\" class=\"data row7 col2\" >0.1810</td>\n",
       "                        <td id=\"T_b2cc5418_e784_11eb_b240_4cebbd96636drow7_col3\" class=\"data row7 col3\" >0.9048</td>\n",
       "                        <td id=\"T_b2cc5418_e784_11eb_b240_4cebbd96636drow7_col4\" class=\"data row7 col4\" >0.3016</td>\n",
       "                        <td id=\"T_b2cc5418_e784_11eb_b240_4cebbd96636drow7_col5\" class=\"data row7 col5\" >0.2240</td>\n",
       "                        <td id=\"T_b2cc5418_e784_11eb_b240_4cebbd96636drow7_col6\" class=\"data row7 col6\" >0.3334</td>\n",
       "            </tr>\n",
       "            <tr>\n",
       "                        <th id=\"T_b2cc5418_e784_11eb_b240_4cebbd96636dlevel0_row8\" class=\"row_heading level0 row8\" >8</th>\n",
       "                        <td id=\"T_b2cc5418_e784_11eb_b240_4cebbd96636drow8_col0\" class=\"data row8 col0\" >0.7200</td>\n",
       "                        <td id=\"T_b2cc5418_e784_11eb_b240_4cebbd96636drow8_col1\" class=\"data row8 col1\" >0.5987</td>\n",
       "                        <td id=\"T_b2cc5418_e784_11eb_b240_4cebbd96636drow8_col2\" class=\"data row8 col2\" >0.1429</td>\n",
       "                        <td id=\"T_b2cc5418_e784_11eb_b240_4cebbd96636drow8_col3\" class=\"data row8 col3\" >0.6522</td>\n",
       "                        <td id=\"T_b2cc5418_e784_11eb_b240_4cebbd96636drow8_col4\" class=\"data row8 col4\" >0.2344</td>\n",
       "                        <td id=\"T_b2cc5418_e784_11eb_b240_4cebbd96636drow8_col5\" class=\"data row8 col5\" >0.1419</td>\n",
       "                        <td id=\"T_b2cc5418_e784_11eb_b240_4cebbd96636drow8_col6\" class=\"data row8 col6\" >0.2038</td>\n",
       "            </tr>\n",
       "            <tr>\n",
       "                        <th id=\"T_b2cc5418_e784_11eb_b240_4cebbd96636dlevel0_row9\" class=\"row_heading level0 row9\" >9</th>\n",
       "                        <td id=\"T_b2cc5418_e784_11eb_b240_4cebbd96636drow9_col0\" class=\"data row9 col0\" >0.7507</td>\n",
       "                        <td id=\"T_b2cc5418_e784_11eb_b240_4cebbd96636drow9_col1\" class=\"data row9 col1\" >0.6106</td>\n",
       "                        <td id=\"T_b2cc5418_e784_11eb_b240_4cebbd96636drow9_col2\" class=\"data row9 col2\" >0.2115</td>\n",
       "                        <td id=\"T_b2cc5418_e784_11eb_b240_4cebbd96636drow9_col3\" class=\"data row9 col3\" >0.8148</td>\n",
       "                        <td id=\"T_b2cc5418_e784_11eb_b240_4cebbd96636drow9_col4\" class=\"data row9 col4\" >0.3359</td>\n",
       "                        <td id=\"T_b2cc5418_e784_11eb_b240_4cebbd96636drow9_col5\" class=\"data row9 col5\" >0.2429</td>\n",
       "                        <td id=\"T_b2cc5418_e784_11eb_b240_4cebbd96636drow9_col6\" class=\"data row9 col6\" >0.3272</td>\n",
       "            </tr>\n",
       "            <tr>\n",
       "                        <th id=\"T_b2cc5418_e784_11eb_b240_4cebbd96636dlevel0_row10\" class=\"row_heading level0 row10\" >Mean</th>\n",
       "                        <td id=\"T_b2cc5418_e784_11eb_b240_4cebbd96636drow10_col0\" class=\"data row10 col0\" >0.7385</td>\n",
       "                        <td id=\"T_b2cc5418_e784_11eb_b240_4cebbd96636drow10_col1\" class=\"data row10 col1\" >0.6197</td>\n",
       "                        <td id=\"T_b2cc5418_e784_11eb_b240_4cebbd96636drow10_col2\" class=\"data row10 col2\" >0.1617</td>\n",
       "                        <td id=\"T_b2cc5418_e784_11eb_b240_4cebbd96636drow10_col3\" class=\"data row10 col3\" >0.8179</td>\n",
       "                        <td id=\"T_b2cc5418_e784_11eb_b240_4cebbd96636drow10_col4\" class=\"data row10 col4\" >0.2689</td>\n",
       "                        <td id=\"T_b2cc5418_e784_11eb_b240_4cebbd96636drow10_col5\" class=\"data row10 col5\" >0.1891</td>\n",
       "                        <td id=\"T_b2cc5418_e784_11eb_b240_4cebbd96636drow10_col6\" class=\"data row10 col6\" >0.2826</td>\n",
       "            </tr>\n",
       "            <tr>\n",
       "                        <th id=\"T_b2cc5418_e784_11eb_b240_4cebbd96636dlevel0_row11\" class=\"row_heading level0 row11\" >SD</th>\n",
       "                        <td id=\"T_b2cc5418_e784_11eb_b240_4cebbd96636drow11_col0\" class=\"data row11 col0\" >0.0092</td>\n",
       "                        <td id=\"T_b2cc5418_e784_11eb_b240_4cebbd96636drow11_col1\" class=\"data row11 col1\" >0.0189</td>\n",
       "                        <td id=\"T_b2cc5418_e784_11eb_b240_4cebbd96636drow11_col2\" class=\"data row11 col2\" >0.0270</td>\n",
       "                        <td id=\"T_b2cc5418_e784_11eb_b240_4cebbd96636drow11_col3\" class=\"data row11 col3\" >0.0739</td>\n",
       "                        <td id=\"T_b2cc5418_e784_11eb_b240_4cebbd96636drow11_col4\" class=\"data row11 col4\" >0.0387</td>\n",
       "                        <td id=\"T_b2cc5418_e784_11eb_b240_4cebbd96636drow11_col5\" class=\"data row11 col5\" >0.0332</td>\n",
       "                        <td id=\"T_b2cc5418_e784_11eb_b240_4cebbd96636drow11_col6\" class=\"data row11 col6\" >0.0394</td>\n",
       "            </tr>\n",
       "    </tbody></table>"
      ],
      "text/plain": [
       "<pandas.io.formats.style.Styler at 0x261d9d0ccd0>"
      ]
     },
     "metadata": {},
     "output_type": "display_data"
    }
   ],
   "source": [
    "tuned  = tune_model(lr)"
   ]
  },
  {
   "cell_type": "code",
   "execution_count": 241,
   "metadata": {},
   "outputs": [
    {
     "name": "stdout",
     "output_type": "stream",
     "text": [
      "LogisticRegression(C=0.465, class_weight={}, dual=False, fit_intercept=True,\n",
      "                   intercept_scaling=1, l1_ratio=None, max_iter=1000,\n",
      "                   multi_class='auto', n_jobs=None, penalty='l2',\n",
      "                   random_state=6109, solver='lbfgs', tol=0.0001, verbose=0,\n",
      "                   warm_start=False)\n"
     ]
    }
   ],
   "source": [
    "print(tuned)"
   ]
  },
  {
   "cell_type": "markdown",
   "metadata": {},
   "source": [
    "## Building with tuned paramters"
   ]
  },
  {
   "cell_type": "code",
   "execution_count": 242,
   "metadata": {},
   "outputs": [
    {
     "data": {
      "text/plain": [
       "0.5792517006802721"
      ]
     },
     "execution_count": 242,
     "metadata": {},
     "output_type": "execute_result"
    }
   ],
   "source": [
    "from sklearn.linear_model import LogisticRegression\n",
    "model = LogisticRegression(C=0.465, class_weight={}, dual=False, fit_intercept=True,\n",
    "                   intercept_scaling=1, l1_ratio=None, max_iter=1000,\n",
    "                   multi_class='auto', n_jobs=None, penalty='l2',\n",
    "                   random_state=6109, solver='lbfgs', tol=0.0001, verbose=0,\n",
    "                   warm_start=False)\n",
    "model.fit(X_over,y_over)\n",
    "model.score(X_over,y_over)"
   ]
  },
  {
   "cell_type": "code",
   "execution_count": 243,
   "metadata": {},
   "outputs": [],
   "source": [
    "ypredd = model.predict(X_over)"
   ]
  },
  {
   "cell_type": "code",
   "execution_count": 244,
   "metadata": {},
   "outputs": [
    {
     "data": {
      "text/plain": [
       "0.5792517006802721"
      ]
     },
     "execution_count": 244,
     "metadata": {},
     "output_type": "execute_result"
    }
   ],
   "source": [
    "##Accuracy\n",
    "from sklearn.metrics import accuracy_score\n",
    "accuracy_score(y_over,ypredd)"
   ]
  },
  {
   "cell_type": "code",
   "execution_count": 245,
   "metadata": {},
   "outputs": [
    {
     "data": {
      "text/plain": [
       "0.5309063329541145"
      ]
     },
     "execution_count": 245,
     "metadata": {},
     "output_type": "execute_result"
    }
   ],
   "source": [
    "## F1\n",
    "from sklearn.metrics import f1_score\n",
    "f1_score(y_over,ypredd)"
   ]
  },
  {
   "cell_type": "markdown",
   "metadata": {},
   "source": [
    "#### In the above method, we passed the list of values for the cut-off. But, this method is not efficient as one can pass different values and obtain a cut-off based on the passed values.\n",
    "\n",
    "#### To obtain the optimal cut-off value we use the following methods:\n",
    "\n",
    "1. Youden's Index\n",
    "2. Cost-based Method"
   ]
  },
  {
   "cell_type": "markdown",
   "metadata": {},
   "source": [
    "<a id=\"youden\"></a>\n",
    "### 3.1.1 Youden's Index"
   ]
  },
  {
   "cell_type": "markdown",
   "metadata": {},
   "source": [
    "Youden's Index is the classification cut-off probability for which the (Sensitivity + Specificity - 1) is maximized.<br>\n",
    "\n",
    "<p style='text-indent:12em'> <strong>Youden's Index = max(Sensitivity + Specificity - 1) = max(TPR + TNR - 1) = max(TPR - FPR) </strong> </p>\n",
    "\n",
    "i.e. select the cut-off probability for which the (TPR - FPR) is maximum."
   ]
  },
  {
   "cell_type": "code",
   "execution_count": 266,
   "metadata": {},
   "outputs": [
    {
     "data": {
      "text/html": [
       "<div>\n",
       "<style scoped>\n",
       "    .dataframe tbody tr th:only-of-type {\n",
       "        vertical-align: middle;\n",
       "    }\n",
       "\n",
       "    .dataframe tbody tr th {\n",
       "        vertical-align: top;\n",
       "    }\n",
       "\n",
       "    .dataframe thead th {\n",
       "        text-align: right;\n",
       "    }\n",
       "</style>\n",
       "<table border=\"1\" class=\"dataframe\">\n",
       "  <thead>\n",
       "    <tr style=\"text-align: right;\">\n",
       "      <th></th>\n",
       "      <th>TPR</th>\n",
       "      <th>FPR</th>\n",
       "      <th>Threshold</th>\n",
       "      <th>Difference</th>\n",
       "    </tr>\n",
       "  </thead>\n",
       "  <tbody>\n",
       "    <tr>\n",
       "      <th>0</th>\n",
       "      <td>0.244656</td>\n",
       "      <td>0.086768</td>\n",
       "      <td>0.552465</td>\n",
       "      <td>0.157888</td>\n",
       "    </tr>\n",
       "    <tr>\n",
       "      <th>1</th>\n",
       "      <td>0.232779</td>\n",
       "      <td>0.075922</td>\n",
       "      <td>0.554982</td>\n",
       "      <td>0.156857</td>\n",
       "    </tr>\n",
       "    <tr>\n",
       "      <th>2</th>\n",
       "      <td>0.225653</td>\n",
       "      <td>0.069414</td>\n",
       "      <td>0.557295</td>\n",
       "      <td>0.156239</td>\n",
       "    </tr>\n",
       "    <tr>\n",
       "      <th>3</th>\n",
       "      <td>0.907363</td>\n",
       "      <td>0.752711</td>\n",
       "      <td>0.423033</td>\n",
       "      <td>0.154652</td>\n",
       "    </tr>\n",
       "    <tr>\n",
       "      <th>4</th>\n",
       "      <td>0.767221</td>\n",
       "      <td>0.613883</td>\n",
       "      <td>0.448873</td>\n",
       "      <td>0.153338</td>\n",
       "    </tr>\n",
       "  </tbody>\n",
       "</table>\n",
       "</div>"
      ],
      "text/plain": [
       "       TPR      FPR  Threshold  Difference\n",
       "0 0.244656 0.086768   0.552465    0.157888\n",
       "1 0.232779 0.075922   0.554982    0.156857\n",
       "2 0.225653 0.069414   0.557295    0.156239\n",
       "3 0.907363 0.752711   0.423033    0.154652\n",
       "4 0.767221 0.613883   0.448873    0.153338"
      ]
     },
     "execution_count": 266,
     "metadata": {},
     "output_type": "execute_result"
    }
   ],
   "source": [
    "# create a dataframe to store the values for false positive rate, true positive rate and threshold\n",
    "youdens_table = pd.DataFrame({'TPR': tpr,\n",
    "                             'FPR': fpr,\n",
    "                             'Threshold': thresholds})\n",
    "\n",
    "# calculate the difference between TPR and FPR for each threshold and store the values in a new column 'Difference'\n",
    "youdens_table['Difference'] = youdens_table.TPR - youdens_table.FPR\n",
    "\n",
    "# sort the dataframe based on the values of difference \n",
    "# 'ascending = False' sorts the data in descending order\n",
    "# 'reset_index' resets the index of the dataframe\n",
    "# 'drop = True' drops the previous index\n",
    "youdens_table = youdens_table.sort_values('Difference', ascending = False).reset_index(drop = True)\n",
    "\n",
    "# print the first five observations\n",
    "youdens_table.head()"
   ]
  },
  {
   "cell_type": "markdown",
   "metadata": {},
   "source": [
    "As we can see that the optimal cut-off probability is approximately 0.55. Let us consider this cut-off to predict the target values. i.e. if 'y_pred_prob' is less than 0.55, then consider it to be 0 else consider it to be 1."
   ]
  },
  {
   "cell_type": "code",
   "execution_count": 290,
   "metadata": {},
   "outputs": [],
   "source": [
    "# convert probabilities to 0 and 1 using 'if_else'\n",
    "y_pred_youden = [ 0 if x < 0.55 else 1 for x in y_pred_prob]"
   ]
  },
  {
   "cell_type": "markdown",
   "metadata": {},
   "source": [
    "#### Plot the confusion matrix."
   ]
  },
  {
   "cell_type": "code",
   "execution_count": 291,
   "metadata": {
    "colab": {},
    "colab_type": "code",
    "id": "Av39nL7SebpS",
    "outputId": "eb72d174-cce1-49f2-abcc-b8a6111b2008"
   },
   "outputs": [
    {
     "data": {
      "image/png": "[encoded data removed]",
      "text/plain": [
       "<Figure size 1080x576 with 1 Axes>"
      ]
     },
     "metadata": {
      "needs_background": "light"
     },
     "output_type": "display_data"
    }
   ],
   "source": [
    "# create a confusion matrix\n",
    "# pass the actual and predicted target values to the confusion_matrix()\n",
    "cm = confusion_matrix(y_test, y_pred_youden)\n",
    "\n",
    "# label the confusion matrix  \n",
    "# pass the matrix as 'data'\n",
    "# pass the required column names to the parameter, 'columns'\n",
    "# pass the required row names to the parameter, 'index'\n",
    "conf_matrix = pd.DataFrame(data = cm,columns = ['Predicted:0','Predicted:1'], index = ['Actual:0','Actual:1'])\n",
    "\n",
    "# plot a heatmap to visualize the confusion matrix\n",
    "# 'annot' prints the value of each grid \n",
    "# 'fmt = d' returns the integer value in each grid\n",
    "# 'cmap' assigns color to each grid\n",
    "# as we do not require different colors for each grid in the heatmap,\n",
    "# use 'ListedColormap' to assign the specified color to the grid\n",
    "# 'cbar = False' will not return the color bar to the right side of the heatmap\n",
    "# 'linewidths' assigns the width to the line that divides each grid\n",
    "# 'annot_kws = {'size':25})' assigns the font size of the annotated text \n",
    "sns.heatmap(conf_matrix, annot = True, fmt = 'd', cmap = ListedColormap(['lightskyblue']), cbar = False, \n",
    "            linewidths = 0.1, annot_kws = {'size':25})\n",
    "\n",
    "# set the font size of x-axis ticks using 'fontsize'\n",
    "plt.xticks(fontsize = 20)\n",
    "\n",
    "# set the font size of y-axis ticks using 'fontsize'\n",
    "plt.yticks(fontsize = 20)\n",
    "\n",
    "# display the plot\n",
    "plt.show()"
   ]
  },
  {
   "cell_type": "markdown",
   "metadata": {},
   "source": [
    "**Compute various performance metrics.**"
   ]
  },
  {
   "cell_type": "code",
   "execution_count": 292,
   "metadata": {
    "scrolled": true
   },
   "outputs": [
    {
     "name": "stdout",
     "output_type": "stream",
     "text": [
      "              precision    recall  f1-score   support\n",
      "\n",
      "           0       0.57      0.90      0.70       461\n",
      "           1       0.69      0.25      0.37       421\n",
      "\n",
      "    accuracy                           0.59       882\n",
      "   macro avg       0.63      0.57      0.53       882\n",
      "weighted avg       0.63      0.59      0.54       882\n",
      "\n"
     ]
    }
   ],
   "source": [
    "# calculate various performance measures\n",
    "acc_table = classification_report(y_test, y_pred_youden)\n",
    "\n",
    "# print the table\n",
    "print(acc_table)"
   ]
  },
  {
   "cell_type": "markdown",
   "metadata": {},
   "source": [
    "**Interpretation:** From the above output, we can see that the model with cut-off = 0.62, is 85% accurate. The specificity and the sensitivity are nearly balanced."
   ]
  },
  {
   "cell_type": "code",
   "execution_count": 293,
   "metadata": {},
   "outputs": [
    {
     "name": "stdout",
     "output_type": "stream",
     "text": [
      "kappa value: 0.15165791384253402\n"
     ]
    }
   ],
   "source": [
    "# compute the kappa value\n",
    "kappa = cohen_kappa_score(y_test, y_pred_youden)\n",
    "\n",
    "# print the kappa value\n",
    "print('kappa value:',kappa)"
   ]
  },
  {
   "cell_type": "markdown",
   "metadata": {},
   "source": [
    "<a id=\"cost\"></a>\n",
    "### 3.1.2 Cost-based Method"
   ]
  },
  {
   "cell_type": "markdown",
   "metadata": {},
   "source": [
    "The full logistic regression model (build in section 3), have different values for false positives (FP) and false negatives (FN). Thus, we can use the cost-based method to calculate the optimal value of the cut-off. In this method, we find the optimal value of the cut-off for which the total cost is minimum. The total cost is given by the formula:\n",
    "\n",
    "<p style='text-indent:25em'> <strong>total_cost = FN x C_1 + FP x C_2 </strong> </p>\n",
    "\n",
    "Where,<br>\n",
    "C_1: It is the cost of false negatives <br>\n",
    "C_2: It is the cost of false positives\n",
    "\n",
    "The cost values can be decided using business knowledge."
   ]
  },
  {
   "cell_type": "code",
   "execution_count": 271,
   "metadata": {},
   "outputs": [],
   "source": [
    "# define a function to calculate the total_cost for a cut-off value\n",
    "# pass the actual values of y, predicted probabilities of y, cost for FN and FP\n",
    "def calculate_total_cost(actual_value, predicted_value, cost_FN, cost_FP):\n",
    "\n",
    "    # pass the actual and predicted values to calculate the confusion matrix\n",
    "    cm = confusion_matrix(actual_value, predicted_value)           \n",
    "    \n",
    "    # create an array of the confusion matrix\n",
    "    cm_array = np.array(cm)\n",
    "    \n",
    "    # return the total_cost\n",
    "    return cm_array[1,0] * cost_FN + cm_array[0,1] * cost_FP\n",
    "\n",
    "# create an empty dataframe to store the cost for different probability cut-offs\n",
    "df_total_cost = pd.DataFrame(columns = ['cut-off', 'total_cost'])\n",
    "\n",
    "# initialize i to '0' corresponding to the 1st row in the dataframe\n",
    "i = 0\n",
    "\n",
    "# use for loop to calculate 'total_cost' for each cut-off probability value\n",
    "# call the function 'calculate_total_cost' to calculate the cost\n",
    "# pass the actual y-values\n",
    "# calculate the predicted y-values from 'y_pred_prob' for the cut-off probability value\n",
    "# assign the costs 3.5 and 2 to False Negatives and False Positives respectively\n",
    "# add the obtained 'cut_off' and 'total_cost' at the ith index of the dataframe\n",
    "for cut_off in range(10, 100):\n",
    "    total_cost = calculate_total_cost(y_test,  y_pred_prob.map(lambda x: 1 if x > (cut_off/100) else 0), 3.5, 2) \n",
    "    df_total_cost.loc[i] = [(cut_off/100), total_cost] \n",
    "    \n",
    "    # increment the value of 'i' for each row index in the dataframe 'df_total_cost'\n",
    "    i += 1"
   ]
  },
  {
   "cell_type": "code",
   "execution_count": 272,
   "metadata": {
    "scrolled": true
   },
   "outputs": [
    {
     "data": {
      "text/html": [
       "<div>\n",
       "<style scoped>\n",
       "    .dataframe tbody tr th:only-of-type {\n",
       "        vertical-align: middle;\n",
       "    }\n",
       "\n",
       "    .dataframe tbody tr th {\n",
       "        vertical-align: top;\n",
       "    }\n",
       "\n",
       "    .dataframe thead th {\n",
       "        text-align: right;\n",
       "    }\n",
       "</style>\n",
       "<table border=\"1\" class=\"dataframe\">\n",
       "  <thead>\n",
       "    <tr style=\"text-align: right;\">\n",
       "      <th></th>\n",
       "      <th>cut-off</th>\n",
       "      <th>total_cost</th>\n",
       "    </tr>\n",
       "  </thead>\n",
       "  <tbody>\n",
       "    <tr>\n",
       "      <th>30</th>\n",
       "      <td>0.400000</td>\n",
       "      <td>817.000000</td>\n",
       "    </tr>\n",
       "    <tr>\n",
       "      <th>22</th>\n",
       "      <td>0.320000</td>\n",
       "      <td>821.500000</td>\n",
       "    </tr>\n",
       "    <tr>\n",
       "      <th>31</th>\n",
       "      <td>0.410000</td>\n",
       "      <td>823.500000</td>\n",
       "    </tr>\n",
       "    <tr>\n",
       "      <th>24</th>\n",
       "      <td>0.340000</td>\n",
       "      <td>824.000000</td>\n",
       "    </tr>\n",
       "    <tr>\n",
       "      <th>21</th>\n",
       "      <td>0.310000</td>\n",
       "      <td>826.000000</td>\n",
       "    </tr>\n",
       "    <tr>\n",
       "      <th>29</th>\n",
       "      <td>0.390000</td>\n",
       "      <td>827.000000</td>\n",
       "    </tr>\n",
       "    <tr>\n",
       "      <th>19</th>\n",
       "      <td>0.290000</td>\n",
       "      <td>827.000000</td>\n",
       "    </tr>\n",
       "    <tr>\n",
       "      <th>23</th>\n",
       "      <td>0.330000</td>\n",
       "      <td>828.500000</td>\n",
       "    </tr>\n",
       "    <tr>\n",
       "      <th>20</th>\n",
       "      <td>0.300000</td>\n",
       "      <td>829.500000</td>\n",
       "    </tr>\n",
       "    <tr>\n",
       "      <th>25</th>\n",
       "      <td>0.350000</td>\n",
       "      <td>830.000000</td>\n",
       "    </tr>\n",
       "  </tbody>\n",
       "</table>\n",
       "</div>"
      ],
      "text/plain": [
       "    cut-off  total_cost\n",
       "30 0.400000  817.000000\n",
       "22 0.320000  821.500000\n",
       "31 0.410000  823.500000\n",
       "24 0.340000  824.000000\n",
       "21 0.310000  826.000000\n",
       "29 0.390000  827.000000\n",
       "19 0.290000  827.000000\n",
       "23 0.330000  828.500000\n",
       "20 0.300000  829.500000\n",
       "25 0.350000  830.000000"
      ]
     },
     "execution_count": 272,
     "metadata": {},
     "output_type": "execute_result"
    }
   ],
   "source": [
    "# sort the dataframe based on the 'total_cost' in the ascending order\n",
    "# print the first ten rows in the dataframe\n",
    "df_total_cost.sort_values('total_cost', ascending = True).head(10)"
   ]
  },
  {
   "cell_type": "code",
   "execution_count": 273,
   "metadata": {},
   "outputs": [],
   "source": [
    "# convert probabilities to 0 and 1 using 'if_else'\n",
    "y_pred_cost = [ 0 if x < 0.4 else 1 for x in y_pred_prob]"
   ]
  },
  {
   "cell_type": "markdown",
   "metadata": {},
   "source": [
    "#### Plot the confusion matrix."
   ]
  },
  {
   "cell_type": "code",
   "execution_count": 274,
   "metadata": {
    "colab": {},
    "colab_type": "code",
    "id": "Av39nL7SebpS",
    "outputId": "eb72d174-cce1-49f2-abcc-b8a6111b2008"
   },
   "outputs": [
    {
     "data": {
      "image/png": "[encoded data removed]",
      "text/plain": [
       "<Figure size 1080x576 with 1 Axes>"
      ]
     },
     "metadata": {
      "needs_background": "light"
     },
     "output_type": "display_data"
    }
   ],
   "source": [
    "# create a confusion matrix\n",
    "# pass the actual and predicted target values to the confusion_matrix()\n",
    "cm = confusion_matrix(y_test, y_pred_cost)\n",
    "\n",
    "# label the confusion matrix  \n",
    "# pass the matrix as 'data'\n",
    "# pass the required column names to the parameter, 'columns'\n",
    "# pass the required row names to the parameter, 'index'\n",
    "conf_matrix = pd.DataFrame(data = cm,columns = ['Predicted:0','Predicted:1'], index = ['Actual:0','Actual:1'])\n",
    "\n",
    "# plot a heatmap to visualize the confusion matrix\n",
    "# 'annot' prints the value of each grid \n",
    "# 'fmt = d' returns the integer value in each grid\n",
    "# 'cmap' assigns color to each grid\n",
    "# as we do not require different colors for each grid in the heatmap,\n",
    "# use 'ListedColormap' to assign the specified color to the grid\n",
    "# 'cbar = False' will not return the color bar to the right side of the heatmap\n",
    "# 'linewidths' assigns the width to the line that divides each grid\n",
    "# 'annot_kws = {'size':25})' assigns the font size of the annotated text \n",
    "sns.heatmap(conf_matrix, annot = True, fmt = 'd', cmap = ListedColormap(['lightskyblue']), cbar = False, \n",
    "            linewidths = 0.1, annot_kws = {'size':25})\n",
    "\n",
    "# set the font size of x-axis ticks using 'fontsize'\n",
    "plt.xticks(fontsize = 20)\n",
    "\n",
    "# set the font size of y-axis ticks using 'fontsize'\n",
    "plt.yticks(fontsize = 20)\n",
    "\n",
    "# display the plot\n",
    "plt.show()"
   ]
  },
  {
   "cell_type": "markdown",
   "metadata": {},
   "source": [
    "**Compute various performance metrics.**"
   ]
  },
  {
   "cell_type": "code",
   "execution_count": 275,
   "metadata": {
    "scrolled": false
   },
   "outputs": [
    {
     "name": "stdout",
     "output_type": "stream",
     "text": [
      "              precision    recall  f1-score   support\n",
      "\n",
      "           0       0.56      0.97      0.71       461\n",
      "           1       0.81      0.15      0.26       421\n",
      "\n",
      "    accuracy                           0.58       882\n",
      "   macro avg       0.68      0.56      0.48       882\n",
      "weighted avg       0.68      0.58      0.49       882\n",
      "\n"
     ]
    }
   ],
   "source": [
    "# calculate various performance measures\n",
    "acc_table = classification_report(y_test, y_pred_cost)\n",
    "\n",
    "# print the table\n",
    "print(acc_table)"
   ]
  },
  {
   "cell_type": "markdown",
   "metadata": {},
   "source": [
    "**Interpretation:** From the above output, we can see that the model with cut-off = 0.58 is 86% accurate. "
   ]
  },
  {
   "cell_type": "code",
   "execution_count": 276,
   "metadata": {},
   "outputs": [
    {
     "name": "stdout",
     "output_type": "stream",
     "text": [
      "kappa value: 0.12384573891401984\n"
     ]
    }
   ],
   "source": [
    "# compute the kappa value\n",
    "kappa = cohen_kappa_score(y_test, y_pred_cost)\n",
    "\n",
    "# print the kappa value\n",
    "print('kappa value:',kappa)"
   ]
  },
  {
   "cell_type": "markdown",
   "metadata": {},
   "source": [
    "<a id=\"rfe\"></a>\n",
    "# 4. Recursive Feature Elimination (RFE)"
   ]
  },
  {
   "cell_type": "markdown",
   "metadata": {},
   "source": [
    "In the linear regression module, we learn about various techniques for selecting the significant features in the dataset. In this example, let us consider the RFE method for feature selection."
   ]
  },
  {
   "cell_type": "code",
   "execution_count": 277,
   "metadata": {},
   "outputs": [
    {
     "name": "stdout",
     "output_type": "stream",
     "text": [
      "Index(['Personal Loan', 'Securities Account', 'CD Account'], dtype='object')\n"
     ]
    }
   ],
   "source": [
    "# consider the independent variables (without the intercept term)\n",
    "# as, X_train and X_test contains the intercept term\n",
    "# use 'iloc' to select the variables wthout intercept term \n",
    "X_train_rfe = X_train.iloc[:,1:]\n",
    "X_test_rfe = X_test.iloc[:,1:]\n",
    "\n",
    "# initiate logistic regression model to use in feature selection\n",
    "logreg = LogisticRegression()\n",
    "\n",
    "# build the RFE model\n",
    "# pass the logistic regression model to 'estimator'\n",
    "# pass number of required features to 'n_features_to_select'\n",
    "# if we do not pass the number of features, RFE considers half of the features\n",
    "rfe_model = RFE(estimator = logreg, n_features_to_select = 3)\n",
    "\n",
    "# fit the RFE model on the train dataset using fit()\n",
    "rfe_model = rfe_model.fit(X_train_rfe, y_train)\n",
    "\n",
    "# create a series containing feature and its corresponding rank obtained from RFE\n",
    "# 'ranking_' returns the rank of each variable after applying RFE\n",
    "# pass the ranks as the 'data' of a series\n",
    "# 'index' assigns feature names as index of a series \n",
    "feat_index = pd.Series(data = rfe_model.ranking_, index = X_train_rfe.columns)\n",
    "\n",
    "# select the features with rank = 1\n",
    "# 'index' returns the indices of a series (i.e. features with rank=1) \n",
    "signi_feat_rfe = feat_index[feat_index==1].index\n",
    "\n",
    "# print the significant features obtained from RFE\n",
    "print(signi_feat_rfe)"
   ]
  },
  {
   "cell_type": "markdown",
   "metadata": {},
   "source": [
    "#### Build the logisitc regression model using the variables obtained from RFE."
   ]
  },
  {
   "cell_type": "code",
   "execution_count": 278,
   "metadata": {},
   "outputs": [
    {
     "name": "stdout",
     "output_type": "stream",
     "text": [
      "Optimization terminated successfully.\n",
      "         Current function value: 0.641043\n",
      "         Iterations 6\n",
      "                           Logit Regression Results                           \n",
      "==============================================================================\n",
      "Dep. Variable:             CreditCard   No. Observations:                 2058\n",
      "Model:                          Logit   Df Residuals:                     2055\n",
      "Method:                           MLE   Df Model:                            2\n",
      "Date:                Sun, 18 Jul 2021   Pseudo R-squ.:                 0.07492\n",
      "Time:                        10:47:25   Log-Likelihood:                -1319.3\n",
      "converged:                       True   LL-Null:                       -1426.1\n",
      "Covariance Type:            nonrobust   LLR p-value:                 3.977e-47\n",
      "======================================================================================\n",
      "                         coef    std err          z      P>|z|      [0.025      0.975]\n",
      "--------------------------------------------------------------------------------------\n",
      "Personal Loan         -0.8156      0.194     -4.212      0.000      -1.195      -0.436\n",
      "Securities Account    -1.0822      0.189     -5.727      0.000      -1.453      -0.712\n",
      "CD Account             3.3391      0.304     10.992      0.000       2.744       3.935\n",
      "======================================================================================\n"
     ]
    }
   ],
   "source": [
    "# build the model on train data (X_train and y_train)\n",
    "# use fit() to fit the logistic regression model\n",
    "# consider the variables obtained from RFE method and the intercept term\n",
    "logreg_rfe = sm.Logit(y_train, X_train[['Personal Loan', 'Securities Account', 'CD Account']]).fit()\n",
    "\n",
    "# print the summary of the model\n",
    "print(logreg_rfe.summary())"
   ]
  },
  {
   "cell_type": "markdown",
   "metadata": {},
   "source": [
    "**Calculate the AIC (Akaike Information Criterion) value.**\n",
    "\n",
    "It is a relative measure of model evaluation. It gives a trade-off between model accuracy and model complexity."
   ]
  },
  {
   "cell_type": "code",
   "execution_count": 279,
   "metadata": {},
   "outputs": [
    {
     "name": "stdout",
     "output_type": "stream",
     "text": [
      "AIC: 2644.534386581554\n"
     ]
    }
   ],
   "source": [
    "# 'aic' retuns the AIC value for the model\n",
    "print('AIC:', logreg_rfe.aic)"
   ]
  },
  {
   "cell_type": "markdown",
   "metadata": {},
   "source": [
    "**Do predictions on the test set.**"
   ]
  },
  {
   "cell_type": "code",
   "execution_count": 281,
   "metadata": {
    "colab": {},
    "colab_type": "code",
    "id": "UP5DA9_qebpC",
    "scrolled": true
   },
   "outputs": [
    {
     "data": {
      "text/plain": [
       "675    0.500000\n",
       "862    0.253089\n",
       "183    0.500000\n",
       "2061   0.925779\n",
       "955    0.500000\n",
       "dtype: float64"
      ]
     },
     "execution_count": 281,
     "metadata": {},
     "output_type": "execute_result"
    }
   ],
   "source": [
    "# let 'y_pred_prob_rfe' be the predicted values of y\n",
    "y_pred_prob_rfe = logreg_rfe.predict(X_test[['Personal Loan', 'Securities Account', 'CD Account']])\n",
    "\n",
    "# print the y_pred_prob_rfe\n",
    "y_pred_prob_rfe.head()"
   ]
  },
  {
   "cell_type": "markdown",
   "metadata": {},
   "source": [
    "Since the target variable can take only two values either 0 or 1. We consider the cut-off value 0.4. i.e. if 'y_pred_prob_rfe' is less than 0.4, then consider it to be 0 else consider it to be 1."
   ]
  },
  {
   "cell_type": "code",
   "execution_count": 284,
   "metadata": {
    "colab": {},
    "colab_type": "code",
    "id": "s-aj8refebpI"
   },
   "outputs": [],
   "source": [
    "# convert probabilities to 0 and 1 using 'if_else'\n",
    "y_pred_rfe = [ 0 if x < 0.4 else 1 for x in y_pred_prob_rfe]"
   ]
  },
  {
   "cell_type": "code",
   "execution_count": 285,
   "metadata": {},
   "outputs": [
    {
     "data": {
      "text/plain": [
       "[1, 0, 1, 1, 1]"
      ]
     },
     "execution_count": 285,
     "metadata": {},
     "output_type": "execute_result"
    }
   ],
   "source": [
    "# print the first five observations of y_pred_rfe\n",
    "y_pred_rfe[0:5]"
   ]
  },
  {
   "cell_type": "markdown",
   "metadata": {},
   "source": [
    "#### Plot the confusion matrix."
   ]
  },
  {
   "cell_type": "code",
   "execution_count": 286,
   "metadata": {
    "colab": {},
    "colab_type": "code",
    "id": "Av39nL7SebpS",
    "outputId": "eb72d174-cce1-49f2-abcc-b8a6111b2008"
   },
   "outputs": [
    {
     "data": {
      "image/png": "[encoded data removed]",
      "text/plain": [
       "<Figure size 1080x576 with 1 Axes>"
      ]
     },
     "metadata": {
      "needs_background": "light"
     },
     "output_type": "display_data"
    }
   ],
   "source": [
    "# create a confusion matrix\n",
    "# pass the actual and predicted target values to the confusion_matrix()\n",
    "cm = confusion_matrix(y_test, y_pred_rfe)\n",
    "\n",
    "# label the confusion matrix  \n",
    "# pass the matrix as 'data'\n",
    "# pass the required column names to the parameter, 'columns'\n",
    "# pass the required row names to the parameter, 'index'\n",
    "conf_matrix = pd.DataFrame(data = cm,columns = ['Predicted:0','Predicted:1'], index = ['Actual:0','Actual:1'])\n",
    "\n",
    "# plot a heatmap to visualize the confusion matrix\n",
    "# 'annot' prints the value of each grid \n",
    "# 'fmt = d' returns the integer value in each grid\n",
    "# 'cmap' assigns color to each grid\n",
    "# as we do not require different colors for each grid in the heatmap,\n",
    "# use 'ListedColormap' to assign the specified color to the grid\n",
    "# 'cbar = False' will not return the color bar to the right side of the heatmap\n",
    "# 'linewidths' assigns the width to the line that divides each grid\n",
    "# 'annot_kws = {'size':25})' assigns the font size of the annotated text \n",
    "sns.heatmap(conf_matrix, annot = True, fmt = 'd', cmap = ListedColormap(['lightskyblue']), cbar = False, \n",
    "            linewidths = 0.1, annot_kws = {'size':25})\n",
    "\n",
    "# set the font size of x-axis ticks using 'fontsize'\n",
    "plt.xticks(fontsize = 20)\n",
    "\n",
    "# set the font size of y-axis ticks using 'fontsize'\n",
    "plt.yticks(fontsize = 20)\n",
    "\n",
    "# display the plot\n",
    "plt.show()"
   ]
  },
  {
   "cell_type": "markdown",
   "metadata": {},
   "source": [
    "#### Compute the performance measures."
   ]
  },
  {
   "cell_type": "code",
   "execution_count": 287,
   "metadata": {
    "scrolled": true
   },
   "outputs": [
    {
     "name": "stdout",
     "output_type": "stream",
     "text": [
      "              precision    recall  f1-score   support\n",
      "\n",
      "           0       0.79      0.19      0.30       461\n",
      "           1       0.51      0.95      0.67       421\n",
      "\n",
      "    accuracy                           0.55       882\n",
      "   macro avg       0.65      0.57      0.48       882\n",
      "weighted avg       0.66      0.55      0.48       882\n",
      "\n"
     ]
    }
   ],
   "source": [
    "# performance measures obtained by classification_report()\n",
    "result = classification_report(y_test, y_pred_rfe)\n",
    "\n",
    "# print the result\n",
    "print(result)"
   ]
  },
  {
   "cell_type": "markdown",
   "metadata": {},
   "source": [
    "**Interpretation:** From the above output, we can see that the model with cut-off = 0.6 is 84% accurate. "
   ]
  },
  {
   "cell_type": "code",
   "execution_count": 288,
   "metadata": {},
   "outputs": [
    {
     "name": "stdout",
     "output_type": "stream",
     "text": [
      "kappa value: 0.1273014752313284\n"
     ]
    }
   ],
   "source": [
    "# compute the kappa value\n",
    "kappa = cohen_kappa_score(y_test, y_pred_rfe)\n",
    "\n",
    "# print the kappa value\n",
    "print('kappa value:',kappa)"
   ]
  },
  {
   "cell_type": "markdown",
   "metadata": {},
   "source": [
    "**Interpretation:** As the kappa score for the full model (with cut-off probability 0.4) is 0.12."
   ]
  },
  {
   "cell_type": "markdown",
   "metadata": {},
   "source": [
    "#### Plot the ROC curve."
   ]
  },
  {
   "cell_type": "code",
   "execution_count": 289,
   "metadata": {
    "colab": {},
    "colab_type": "code",
    "id": "Edtmcgdlebpe"
   },
   "outputs": [
    {
     "data": {
      "image/png": "[encoded data removed]",
      "text/plain": [
       "<Figure size 1080x576 with 1 Axes>"
      ]
     },
     "metadata": {
      "needs_background": "light"
     },
     "output_type": "display_data"
    }
   ],
   "source": [
    "# the roc_curve() returns the values for false positive rate, true positive rate and threshold\n",
    "# pass the actual target values and predicted probabilities to the function\n",
    "fpr, tpr, thresholds = roc_curve(y_test, y_pred_prob_rfe)\n",
    "\n",
    "# plot the ROC curve\n",
    "plt.plot(fpr, tpr)\n",
    "\n",
    "# set limits for x and y axes\n",
    "plt.xlim([0.0, 1.0])\n",
    "plt.ylim([0.0, 1.0])\n",
    "\n",
    "# plot the straight line showing worst prediction for the model\n",
    "plt.plot([0, 1], [0, 1],'r--')\n",
    "\n",
    "# add plot and axes labels\n",
    "# set text size using 'fontsize'\n",
    "plt.title('ROC curve for Admission Prediction Classifier (RFE Model)', fontsize = 15)\n",
    "plt.xlabel('False positive rate (1-Specificity)', fontsize = 15)\n",
    "plt.ylabel('True positive rate (Sensitivity)', fontsize = 15)\n",
    "\n",
    "# add the AUC score to the plot\n",
    "# 'x' and 'y' gives position of the text\n",
    "# 's' is the text \n",
    "# use round() to round-off the AUC score upto 4 digits\n",
    "plt.text(x = 0.02, y = 0.9, s = ('AUC Score:', round(metrics.roc_auc_score(y_test, y_pred_prob_rfe),4)))\n",
    "                               \n",
    "# plot the grid\n",
    "plt.grid(True)"
   ]
  },
  {
   "cell_type": "markdown",
   "metadata": {},
   "source": [
    "**Interpretation:** The red dotted line represents the ROC curve of a purely random classifier; a good classifier stays as far away from that line as possible (toward the top-left corner).<br>\n",
    "From the above plot, we can see that our classifier (logistic regression with features obtained from RFE method) is away from the dotted line; with the AUC score 0.62"
   ]
  },
  {
   "cell_type": "markdown",
   "metadata": {},
   "source": [
    "## REASONING"
   ]
  },
  {
   "cell_type": "code",
   "execution_count": null,
   "metadata": {},
   "outputs": [],
   "source": [
    "The skewness of the data is pretty high and data transformation is needed"
   ]
  },
  {
   "cell_type": "code",
   "execution_count": null,
   "metadata": {},
   "outputs": [],
   "source": [
    "The classification is a tad complex and a sigmoid function based logistic regression is a bit primitive for this dataset considering the inflation and skewness."
   ]
  },
  {
   "cell_type": "code",
   "execution_count": null,
   "metadata": {},
   "outputs": [],
   "source": [
    "Non linear models like random forest will perform well with hypertuning and stacked and voting classifiers might also lead better result."
   ]
  },
  {
   "cell_type": "code",
   "execution_count": null,
   "metadata": {},
   "outputs": [],
   "source": [
    "Hypertuning did not pay a great deal of improvement for the dataset for logistic regression."
   ]
  }
 ],
 "metadata": {
  "kernelspec": {
   "display_name": "Python 3",
   "language": "python",
   "name": "python3"
  },
  "language_info": {
   "codemirror_mode": {
    "name": "ipython",
    "version": 3
   },
   "file_extension": ".py",
   "mimetype": "text/x-python",
   "name": "python",
   "nbconvert_exporter": "python",
   "pygments_lexer": "ipython3",
   "version": "3.8.5"
  }
 },
 "nbformat": 4,
 "nbformat_minor": 2
}
